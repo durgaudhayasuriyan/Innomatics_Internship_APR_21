{
  "nbformat": 4,
  "nbformat_minor": 0,
  "metadata": {
    "colab": {
      "name": "Task - 9 (Hypothesis Testing).ipynb",
      "provenance": []
    },
    "kernelspec": {
      "name": "python3",
      "display_name": "Python 3"
    },
    "language_info": {
      "name": "python"
    }
  },
  "cells": [
    {
      "cell_type": "code",
      "metadata": {
        "id": "rya5t6tgrKmg"
      },
      "source": [
        "#importing the libraries\n",
        "import matplotlib.pyplot as plt\n",
        "import numpy as np\n",
        "from scipy.stats import norm\n",
        "from scipy.stats import t"
      ],
      "execution_count": null,
      "outputs": []
    },
    {
      "cell_type": "code",
      "metadata": {
        "id": "4vb5dcs3rL_a"
      },
      "source": [
        "# t_score for sampling distributions\n",
        "\n",
        "def t_score(sample_size, sample_mean, pop_mean, sample_std):\n",
        "    numerator = sample_mean - pop_mean\n",
        "    denomenator = sample_std / sample_size**0.5\n",
        "    return numerator / denomenator"
      ],
      "execution_count": null,
      "outputs": []
    },
    {
      "cell_type": "markdown",
      "metadata": {
        "id": "37xXxkq9rl7K"
      },
      "source": [
        "Q-1: Pista House selling Hyderabadi Chicken Dum biryani claims that each parcel packet has 500 grams of biryani (also mentioned on the label of packet). You are sceptic of their claims and believe that on average each packet does not contain 500 grams of biryani. How do you prove your claim?"
      ]
    },
    {
      "cell_type": "code",
      "metadata": {
        "colab": {
          "base_uri": "https://localhost:8080/"
        },
        "id": "5hC0uAIhrohX",
        "outputId": "5b815d3a-7454-4e67-96d6-e69a7b2e205c"
      },
      "source": [
        "s=[490,220,470,500,495,496,496,498,508,480]\n",
        "print(sum(s)/len(s))"
      ],
      "execution_count": null,
      "outputs": [
        {
          "output_type": "stream",
          "text": [
            "465.3\n"
          ],
          "name": "stdout"
        }
      ]
    },
    {
      "cell_type": "code",
      "metadata": {
        "colab": {
          "base_uri": "https://localhost:8080/"
        },
        "id": "gJOkwmAXsR_d",
        "outputId": "5905af52-64e9-4faa-e01b-5365877d6026"
      },
      "source": [
        "np.std(s)"
      ],
      "execution_count": null,
      "outputs": [
        {
          "output_type": "execute_result",
          "data": {
            "text/plain": [
              "82.3918078451978"
            ]
          },
          "metadata": {
            "tags": []
          },
          "execution_count": 85
        }
      ]
    },
    {
      "cell_type": "code",
      "metadata": {
        "colab": {
          "base_uri": "https://localhost:8080/"
        },
        "id": "d747Ub1QxDYl",
        "outputId": "ca85a611-f5a5-427a-819a-737553aeaf36"
      },
      "source": [
        "# Two Tail - Calculating the z-critical value\n",
        "\n",
        "confidence_level = 0.95\n",
        "\n",
        "alpha = 1 - confidence_level\n",
        "\n",
        "t_critical = t.ppf(1 - alpha/2,df=9) # Two tailed Z score for 95% Confidence Level\n",
        "\n",
        "print(t_critical)"
      ],
      "execution_count": null,
      "outputs": [
        {
          "output_type": "stream",
          "text": [
            "2.2621571627409915\n"
          ],
          "name": "stdout"
        }
      ]
    },
    {
      "cell_type": "code",
      "metadata": {
        "id": "7kXiS_1bxjLv"
      },
      "source": [
        "# Defining the sample and population parameters\n",
        "\n",
        "sample_size = 10\n",
        "sample_mean = 465.3\n",
        "pop_mean = 500\n",
        "sample_std = 82.3918078451978"
      ],
      "execution_count": null,
      "outputs": []
    },
    {
      "cell_type": "code",
      "metadata": {
        "colab": {
          "base_uri": "https://localhost:8080/"
        },
        "id": "v012fCh_x1hb",
        "outputId": "a566f2f6-df31-41c8-e328-b27d12961f1f"
      },
      "source": [
        "# Calculating the z-score\n",
        "\n",
        "t = t_score(sample_size, sample_mean, pop_mean, sample_std)\n",
        "\n",
        "print(t)"
      ],
      "execution_count": null,
      "outputs": [
        {
          "output_type": "stream",
          "text": [
            "-1.3318197242863192\n"
          ],
          "name": "stdout"
        }
      ]
    },
    {
      "cell_type": "code",
      "metadata": {
        "colab": {
          "base_uri": "https://localhost:8080/",
          "height": 285
        },
        "id": "aS_Mw9WnyFMd",
        "outputId": "b59bc45d-e92b-4ab6-cab7-4a2bed2861aa"
      },
      "source": [
        "# Ploting the sampling distribution with rejection regions\n",
        "\n",
        "# Defining the x minimum and x maximum\n",
        "x_min = 400\n",
        "x_max = 600\n",
        "\n",
        "\n",
        "# Defining the sampling distribution mean and sampling distribution std\n",
        "mean = pop_mean\n",
        "std = sample_std / sample_size**0.5\n",
        "\n",
        "\n",
        "# Ploting the graph and setting the x limits\n",
        "x = np.linspace(x_min, x_max, 100)\n",
        "y = norm.pdf(x, mean, std)\n",
        "plt.xlim(x_min, x_max)\n",
        "plt.plot(x, y)\n",
        "\n",
        "\n",
        "# Computing the left and right critical values (Two tailed Test)\n",
        "t_critical_left = pop_mean + (-t_critical * std)\n",
        "t_critical_right = pop_mean + (t_critical * std)\n",
        "\n",
        "\n",
        "# Shading the left rejection region\n",
        "x1 = np.linspace(x_min, t_critical_left, 100)\n",
        "y1 = norm.pdf(x1, mean, std)\n",
        "plt.fill_between(x1, y1, color='orange')\n",
        "\n",
        "\n",
        "# Shading the right rejection region\n",
        "x2 = np.linspace(t_critical_right, x_max, 100)\n",
        "y2 = norm.pdf(x2, mean, std)\n",
        "plt.fill_between(x2, y2, color='orange')\n",
        "\n",
        "\n",
        "# Ploting the sample mean and concluding the results \n",
        "plt.scatter(sample_mean,0)\n",
        "plt.annotate(\"x_bar\", (sample_mean, 0.0007))\n",
        "\n",
        "\n",
        "# In this case sample mean falls in the rejection region\n",
        "# i.e. here we reject the Null Hypothesis"
      ],
      "execution_count": null,
      "outputs": [
        {
          "output_type": "execute_result",
          "data": {
            "text/plain": [
              "Text(465.3, 0.0007, 'x_bar')"
            ]
          },
          "metadata": {
            "tags": []
          },
          "execution_count": 89
        },
        {
          "output_type": "display_data",
          "data": {
            "image/png": "[encoded data removed]",
            "text/plain": [
              "<Figure size 432x288 with 1 Axes>"
            ]
          },
          "metadata": {
            "tags": [],
            "needs_background": "light"
          }
        }
      ]
    },
    {
      "cell_type": "code",
      "metadata": {
        "colab": {
          "base_uri": "https://localhost:8080/"
        },
        "id": "Le8d8Hix13yW",
        "outputId": "d7e5bd70-73c7-4fab-ca1d-c7f6ba78e838"
      },
      "source": [
        "# Conclusion using z test\n",
        "\n",
        "if(t > t_critical):\n",
        "    print(\"Reject Null Hypothesis\")\n",
        "else:\n",
        "    print(\"Fail to reject Null Hypothesis\")"
      ],
      "execution_count": null,
      "outputs": [
        {
          "output_type": "stream",
          "text": [
            "Fail to reject Null Hypothesis\n"
          ],
          "name": "stdout"
        }
      ]
    },
    {
      "cell_type": "code",
      "metadata": {
        "colab": {
          "base_uri": "https://localhost:8080/"
        },
        "id": "Qj13Nar714GY",
        "outputId": "6f4de94b-ec31-4486-a5a7-cb9023f835c8"
      },
      "source": [
        "# Conclusion using p test\n",
        "\n",
        "p_value = 2 * (1.0 - norm.cdf(np.abs(t)))\n",
        "\n",
        "print(\"p_value = \", p_value)\n",
        "\n",
        "if(p_value < 0.05):\n",
        "    print(\"Reject Null Hypothesis\")\n",
        "else:\n",
        "    print(\"Fail to reject Null Hypothesis\")"
      ],
      "execution_count": null,
      "outputs": [
        {
          "output_type": "stream",
          "text": [
            "p_value =  0.18291943486353945\n",
            "Fail to reject Null Hypothesis\n"
          ],
          "name": "stdout"
        }
      ]
    },
    {
      "cell_type": "markdown",
      "metadata": {
        "id": "r_Y07-sx5kai"
      },
      "source": [
        "#question 2"
      ]
    },
    {
      "cell_type": "markdown",
      "metadata": {
        "id": "WfyFZmzs64fk"
      },
      "source": [
        "Q-2: You have developed a new Natural Language Processing Algorithms and done a user study. You claim that the average rating given by the users is greater than 4 on a scale of 1 to 5. How do you prove this to your client?"
      ]
    },
    {
      "cell_type": "code",
      "metadata": {
        "colab": {
          "base_uri": "https://localhost:8080/"
        },
        "id": "Q3sh_Dlw7Dvy",
        "outputId": "a0dd85a8-ac12-4320-89d6-f5ccfd274dd5"
      },
      "source": [
        "l=[4,3,5,4,5,3,5,5,4,2,4,5,5,4,4,5,4,5,4,5]\n",
        "sum(l)/len(l)"
      ],
      "execution_count": null,
      "outputs": [
        {
          "output_type": "execute_result",
          "data": {
            "text/plain": [
              "4.25"
            ]
          },
          "metadata": {
            "tags": []
          },
          "execution_count": 92
        }
      ]
    },
    {
      "cell_type": "code",
      "metadata": {
        "colab": {
          "base_uri": "https://localhost:8080/"
        },
        "id": "Rr08J5oE7vro",
        "outputId": "34c6ead4-2096-4607-88d7-2a89d80bc5c0"
      },
      "source": [
        "np.std(l)"
      ],
      "execution_count": null,
      "outputs": [
        {
          "output_type": "execute_result",
          "data": {
            "text/plain": [
              "0.82915619758885"
            ]
          },
          "metadata": {
            "tags": []
          },
          "execution_count": 93
        }
      ]
    },
    {
      "cell_type": "code",
      "metadata": {
        "colab": {
          "base_uri": "https://localhost:8080/"
        },
        "id": "U-PGi8xQ719j",
        "outputId": "a41a4ae7-30b5-47e4-ae8d-67563f32138f"
      },
      "source": [
        "# One Tail - Calculating the t-critical value\n",
        "\n",
        "confidence_level = 0.95\n",
        "\n",
        "alpha = 1 - confidence_level\n",
        "\n",
        "t_critical = t.ppf(1 - alpha,df=19)\n",
        "\n",
        "print(t_critical)"
      ],
      "execution_count": null,
      "outputs": [
        {
          "output_type": "stream",
          "text": [
            "1.729132811521367\n"
          ],
          "name": "stdout"
        }
      ]
    },
    {
      "cell_type": "code",
      "metadata": {
        "id": "3cwA5NF38P_x"
      },
      "source": [
        "# Defining the sample and population parameters\n",
        "\n",
        "sample_size = 20\n",
        "sample_mean = 4.25\n",
        "pop_mean = 4\n",
        "sample_std = 0.82915619758885"
      ],
      "execution_count": null,
      "outputs": []
    },
    {
      "cell_type": "code",
      "metadata": {
        "colab": {
          "base_uri": "https://localhost:8080/"
        },
        "id": "6KT30Lh-8XE0",
        "outputId": "7b88ce76-8034-483b-deca-bd184ae0d042"
      },
      "source": [
        "# Calculating the t-score\n",
        "\n",
        "t = t_score(sample_size, sample_mean, pop_mean, sample_std)\n",
        "\n",
        "print(t)"
      ],
      "execution_count": null,
      "outputs": [
        {
          "output_type": "stream",
          "text": [
            "1.3483997249264843\n"
          ],
          "name": "stdout"
        }
      ]
    },
    {
      "cell_type": "code",
      "metadata": {
        "colab": {
          "base_uri": "https://localhost:8080/",
          "height": 282
        },
        "id": "SdjMqhj78iSS",
        "outputId": "a1fac400-d526-4f02-e815-7bdb5a82599b"
      },
      "source": [
        "# Ploting the sampling distribution with rejection regions\n",
        "\n",
        "# Defining the x minimum and x maximum\n",
        "x_min = 3.5\n",
        "x_max = 4.5\n",
        "\n",
        "\n",
        "# Defining the sampling distribution mean and sampling distribution std\n",
        "mean = pop_mean\n",
        "std = sample_std / (sample_size**0.5)\n",
        "\n",
        "\n",
        "# Ploting the graph and setting the x limits\n",
        "x = np.linspace(x_min, x_max, 100)\n",
        "y = norm.pdf(x, mean, std)\n",
        "plt.xlim(x_min, x_max)\n",
        "plt.plot(x, y)\n",
        "\n",
        "\n",
        "# Computing the right critical value (Right tailed Test)\n",
        "t_critical_right = pop_mean + (t_critical * std)\n",
        "\n",
        "\n",
        "# Shading the right rejection region\n",
        "x1 = np.linspace(t_critical_right, x_max, 100)\n",
        "y1 = norm.pdf(x1, mean, std)\n",
        "plt.fill_between(x1, y1, color='orange')\n",
        "\n",
        "\n",
        "# Ploting the sample mean and concluding the results \n",
        "plt.scatter(sample_mean,0)\n",
        "plt.annotate(\"x_bar\", (sample_mean,0.1))\n",
        "\n",
        "# In this case sample mean falls in the rejection region\n",
        "# i.e. Reject the Null Hypothesis"
      ],
      "execution_count": null,
      "outputs": [
        {
          "output_type": "execute_result",
          "data": {
            "text/plain": [
              "Text(4.25, 0.1, 'x_bar')"
            ]
          },
          "metadata": {
            "tags": []
          },
          "execution_count": 110
        },
        {
          "output_type": "display_data",
          "data": {
            "image/png": "[encoded data removed]",
            "text/plain": [
              "<Figure size 432x288 with 1 Axes>"
            ]
          },
          "metadata": {
            "tags": [],
            "needs_background": "light"
          }
        }
      ]
    },
    {
      "cell_type": "code",
      "metadata": {
        "colab": {
          "base_uri": "https://localhost:8080/"
        },
        "id": "_-C8Y-_lC6U-",
        "outputId": "ceb75da1-a4bb-46e4-ff15-d40af066827d"
      },
      "source": [
        "# Conclusion using z test\n",
        "\n",
        "if(t > t_critical):\n",
        "    print(\"Reject Null Hypothesis\")\n",
        "else:\n",
        "    print(\"Fail to reject Null Hypothesis\")"
      ],
      "execution_count": null,
      "outputs": [
        {
          "output_type": "stream",
          "text": [
            "Fail to reject Null Hypothesis\n"
          ],
          "name": "stdout"
        }
      ]
    },
    {
      "cell_type": "code",
      "metadata": {
        "colab": {
          "base_uri": "https://localhost:8080/"
        },
        "id": "BSypGvT6C6lK",
        "outputId": "d464bfe4-8d00-46e7-fa3f-a57fd947d8d9"
      },
      "source": [
        "# Conclusion using p test\n",
        "\n",
        "p_value = 2 * (1.0 - norm.cdf(np.abs(t)))\n",
        "\n",
        "print(\"p_value = \", p_value)\n",
        "\n",
        "if(p_value < 0.05):\n",
        "    print(\"Reject Null Hypothesis\")\n",
        "else:\n",
        "    print(\"Fail to reject Null Hypothesis\")"
      ],
      "execution_count": null,
      "outputs": [
        {
          "output_type": "stream",
          "text": [
            "p_value =  0.17752985241215358\n",
            "Fail to reject Null Hypothesis\n"
          ],
          "name": "stdout"
        }
      ]
    },
    {
      "cell_type": "markdown",
      "metadata": {
        "id": "1l4X-1m3DQxR"
      },
      "source": [
        "#Question 3"
      ]
    },
    {
      "cell_type": "markdown",
      "metadata": {
        "id": "9WTGIyCvDZn3"
      },
      "source": [
        "Q-3: TATA has developed a better fuel management system for the SUV segment. They claim that with this system, on average the SUV's mileage is at least 15 km/litre?"
      ]
    },
    {
      "cell_type": "code",
      "metadata": {
        "colab": {
          "base_uri": "https://localhost:8080/"
        },
        "id": "4EOVA5JxDb5M",
        "outputId": "6869aadb-c5d8-4408-80ce-12cf1d50ac27"
      },
      "source": [
        "sample=[14.08,14.13,15.65,13.78,16.26,14.97,15.36,15.81,14.53,16.79,15.78,16.98,13.23,15.43,15.46,13.88,14.31,14.41,15.76,15.38]\n",
        "sum(sample)/len(sample)"
      ],
      "execution_count": null,
      "outputs": [
        {
          "output_type": "execute_result",
          "data": {
            "text/plain": [
              "15.098999999999998"
            ]
          },
          "metadata": {
            "tags": []
          },
          "execution_count": 116
        }
      ]
    },
    {
      "cell_type": "code",
      "metadata": {
        "colab": {
          "base_uri": "https://localhost:8080/"
        },
        "id": "tbJPFqfqFLXC",
        "outputId": "0b1a21c8-8ed6-4f45-ef58-0b755f76a584"
      },
      "source": [
        "np.std(sample)"
      ],
      "execution_count": null,
      "outputs": [
        {
          "output_type": "execute_result",
          "data": {
            "text/plain": [
              "0.9994043225842081"
            ]
          },
          "metadata": {
            "tags": []
          },
          "execution_count": 117
        }
      ]
    },
    {
      "cell_type": "code",
      "metadata": {
        "colab": {
          "base_uri": "https://localhost:8080/"
        },
        "id": "FLB2OpW-FPbH",
        "outputId": "c4303677-739c-49b3-9d8b-61f9e9c67ba3"
      },
      "source": [
        "# One Tail - Calculating the t-critical value\n",
        "\n",
        "confidence_level = 0.95\n",
        "\n",
        "alpha = 1 - confidence_level\n",
        "\n",
        "t_critical = t.ppf(1 - alpha,df=19)\n",
        "\n",
        "print(t_critical)"
      ],
      "execution_count": null,
      "outputs": [
        {
          "output_type": "stream",
          "text": [
            "1.729132811521367\n"
          ],
          "name": "stdout"
        }
      ]
    },
    {
      "cell_type": "code",
      "metadata": {
        "id": "0um8TVHjFeoz"
      },
      "source": [
        "sample_size = 20\n",
        "sample_mean = 15.098999999999998\n",
        "pop_mean = 15\n",
        "sample_std = 0.9994043225842081"
      ],
      "execution_count": null,
      "outputs": []
    },
    {
      "cell_type": "code",
      "metadata": {
        "colab": {
          "base_uri": "https://localhost:8080/"
        },
        "id": "FypUtFEZFwHK",
        "outputId": "48e1591b-996a-4060-f8ae-9355c4f676c6"
      },
      "source": [
        "# Calculating the t-score\n",
        "\n",
        "t = t_score(sample_size, sample_mean, pop_mean, sample_std)\n",
        "\n",
        "print(t)"
      ],
      "execution_count": null,
      "outputs": [
        {
          "output_type": "stream",
          "text": [
            "0.44300534782572615\n"
          ],
          "name": "stdout"
        }
      ]
    },
    {
      "cell_type": "code",
      "metadata": {
        "colab": {
          "base_uri": "https://localhost:8080/",
          "height": 282
        },
        "id": "_bdGHgbsGtSd",
        "outputId": "cf8fa461-1b2e-4198-c9d5-764114c807cc"
      },
      "source": [
        "x_min = 13\n",
        "x_max = 17\n",
        "\n",
        "mean = pop_mean\n",
        "std = sample_std / (sample_size**0.5)\n",
        "\n",
        "x = np.linspace(x_min, x_max, 100)\n",
        "y = norm.pdf(x, mean, std)\n",
        "\n",
        "plt.xlim(x_min, x_max)\n",
        "# plt.ylim(0, 0.03)\n",
        "\n",
        "plt.plot(x, y)\n",
        "\n",
        "t_critical_right = pop_mean + (t_critical * std)\n",
        "\n",
        "x1 = np.linspace(t_critical_right, x_max, 100)\n",
        "y1 = norm.pdf(x1, mean, std)\n",
        "plt.fill_between(x1, y1, color='orange')\n",
        "\n",
        "plt.scatter(sample_mean, 0)\n",
        "plt.annotate(\"x_bar\", (sample_mean, 0.1))\n"
      ],
      "execution_count": null,
      "outputs": [
        {
          "output_type": "execute_result",
          "data": {
            "text/plain": [
              "Text(15.098999999999998, 0.1, 'x_bar')"
            ]
          },
          "metadata": {
            "tags": []
          },
          "execution_count": 124
        },
        {
          "output_type": "display_data",
          "data": {
            "image/png": "[encoded data removed]",
            "text/plain": [
              "<Figure size 432x288 with 1 Axes>"
            ]
          },
          "metadata": {
            "tags": [],
            "needs_background": "light"
          }
        }
      ]
    },
    {
      "cell_type": "code",
      "metadata": {
        "colab": {
          "base_uri": "https://localhost:8080/"
        },
        "id": "f_mZuacSHFOP",
        "outputId": "b009fd42-fe7b-49ed-8fe2-45f95d4bb5f3"
      },
      "source": [
        "if(t > t_critical):\n",
        "    print(\"Reject Null Hypothesis\")\n",
        "else:\n",
        "    print(\"Fail to reject Null Hypothesis\")"
      ],
      "execution_count": null,
      "outputs": [
        {
          "output_type": "stream",
          "text": [
            "Fail to reject Null Hypothesis\n"
          ],
          "name": "stdout"
        }
      ]
    },
    {
      "cell_type": "code",
      "metadata": {
        "colab": {
          "base_uri": "https://localhost:8080/"
        },
        "id": "L-29LLoeHFWb",
        "outputId": "eca1235e-6aad-41e8-eabd-df7b5ef03586"
      },
      "source": [
        "p_value = 1.0 - norm.cdf(np.abs(t))\n",
        "\n",
        "print(\"p_value = \", p_value)\n",
        "\n",
        "if(p_value < alpha):\n",
        "    print(\"Reject Null Hypothesis\")\n",
        "else:\n",
        "    print(\"Fail to reject Null Hypothesis\")"
      ],
      "execution_count": null,
      "outputs": [
        {
          "output_type": "stream",
          "text": [
            "p_value =  0.32888093328445067\n",
            "Fail to reject Null Hypothesis\n"
          ],
          "name": "stdout"
        }
      ]
    },
    {
      "cell_type": "markdown",
      "metadata": {
        "id": "31UfepngHXwO"
      },
      "source": [
        "#question 4"
      ]
    },
    {
      "cell_type": "markdown",
      "metadata": {
        "id": "9beEbs7dHb6W"
      },
      "source": [
        "Q-4: You have developed a new Machine Learning Application and claim that on average it takes less than 100 ms to predict for any future datapoint. How do you convince your client about this claim?"
      ]
    },
    {
      "cell_type": "code",
      "metadata": {
        "id": "RRZ69yjJM4Oy"
      },
      "source": [
        "v=[95, 100, 95, 95, 100, 104, 98, 96, 98, 101, 100, 97, 97, 99, 96, 96, 104, 95, 95, 95, 95, 103, 105, 97, 105, 105, 95, 99, 105, 96, 96, 98, 102, 96, 99, 100, 95, 95, 95, 98, 95, 97, 95, 95, 95, 100, 95, 95, 98, 100, 97, 95, 99, 100, 97, 95, 95, 95, 95, 102, 95, 96, 95, 98, 100, 98, 95, 98, 97, 97, 95, 95, 95, 95, 98, 101, 95, 98, 95, 96, 104, 95, 95,95,95, 103, 102, 99, 95, 98, 98, 95, 101, 100, 99, 95, 97, 96, 95, 95]"
      ],
      "execution_count": null,
      "outputs": []
    },
    {
      "cell_type": "code",
      "metadata": {
        "colab": {
          "base_uri": "https://localhost:8080/"
        },
        "id": "cli2LVniNPqw",
        "outputId": "25111d62-7286-4e66-860a-152e633ccd1f"
      },
      "source": [
        "len(v)"
      ],
      "execution_count": null,
      "outputs": [
        {
          "output_type": "execute_result",
          "data": {
            "text/plain": [
              "100"
            ]
          },
          "metadata": {
            "tags": []
          },
          "execution_count": 189
        }
      ]
    },
    {
      "cell_type": "code",
      "metadata": {
        "colab": {
          "base_uri": "https://localhost:8080/"
        },
        "id": "mMykM-v3MSmi",
        "outputId": "552ba784-0673-4ef9-c95d-32c5f7dcafcb"
      },
      "source": [
        "sum(v)/len(v)"
      ],
      "execution_count": null,
      "outputs": [
        {
          "output_type": "execute_result",
          "data": {
            "text/plain": [
              "97.54"
            ]
          },
          "metadata": {
            "tags": []
          },
          "execution_count": 210
        }
      ]
    },
    {
      "cell_type": "code",
      "metadata": {
        "colab": {
          "base_uri": "https://localhost:8080/"
        },
        "id": "kXVDMWgEUFCM",
        "outputId": "565adcd3-0c99-4688-dabe-89636d55993e"
      },
      "source": [
        "np.std(v)"
      ],
      "execution_count": null,
      "outputs": [
        {
          "output_type": "execute_result",
          "data": {
            "text/plain": [
              "2.9237646964145387"
            ]
          },
          "metadata": {
            "tags": []
          },
          "execution_count": 212
        }
      ]
    },
    {
      "cell_type": "code",
      "metadata": {
        "colab": {
          "base_uri": "https://localhost:8080/"
        },
        "id": "isYBbqiuHnTR",
        "outputId": "25295062-e75c-4a47-ba67-0134aa2760a4"
      },
      "source": [
        "# One Tail\n",
        "\n",
        "alpha = 1 - 0.99\n",
        "\n",
        "t_critical = norm.ppf(1 - alpha)\n",
        "\n",
        "print(t_critical)\n"
      ],
      "execution_count": null,
      "outputs": [
        {
          "output_type": "stream",
          "text": [
            "2.3263478740408408\n"
          ],
          "name": "stdout"
        }
      ]
    },
    {
      "cell_type": "code",
      "metadata": {
        "id": "95zTYq7QH2-i"
      },
      "source": [
        "sample_size = 100\n",
        "sample_mean = 97.5\n",
        "pop_mean = 100\n",
        "sample_std = 2.9237646964145387"
      ],
      "execution_count": null,
      "outputs": []
    },
    {
      "cell_type": "code",
      "metadata": {
        "colab": {
          "base_uri": "https://localhost:8080/"
        },
        "id": "Gf_sndsXUQH4",
        "outputId": "77497353-644b-43fe-80b1-5d0c68ba0ff3"
      },
      "source": [
        "t= t_score(sample_size, sample_mean, pop_mean, sample_std)\n",
        "\n",
        "print(t)"
      ],
      "execution_count": null,
      "outputs": [
        {
          "output_type": "stream",
          "text": [
            "-8.550619696125997\n"
          ],
          "name": "stdout"
        }
      ]
    },
    {
      "cell_type": "code",
      "metadata": {
        "colab": {
          "base_uri": "https://localhost:8080/",
          "height": 285
        },
        "id": "Sd8QFsx3Uazc",
        "outputId": "62a114f8-3130-4a71-e1ac-e7cc9e238f2c"
      },
      "source": [
        "x_min = 95\n",
        "x_max = 105\n",
        "\n",
        "mean = pop_mean\n",
        "std = sample_std / (sample_size**0.5)\n",
        "\n",
        "x = np.linspace(x_min, x_max, 100)\n",
        "y = norm.pdf(x, mean, std)\n",
        "\n",
        "plt.xlim(x_min, x_max)\n",
        "# plt.ylim(0, 0.03)\n",
        "\n",
        "plt.plot(x, y)\n",
        "\n",
        "t_critical_left = pop_mean + (-t_critical * std)\n",
        "\n",
        "x1 = np.linspace(x_min, t_critical_left, 100)\n",
        "y1 = norm.pdf(x1, mean, std)\n",
        "plt.fill_between(x1, y1, color='orange')\n",
        "\n",
        "plt.scatter(sample_mean, 0)\n",
        "plt.annotate(\"x_bar\", (sample_mean, 0.02))\n"
      ],
      "execution_count": null,
      "outputs": [
        {
          "output_type": "execute_result",
          "data": {
            "text/plain": [
              "Text(97.5, 0.02, 'x_bar')"
            ]
          },
          "metadata": {
            "tags": []
          },
          "execution_count": 219
        },
        {
          "output_type": "display_data",
          "data": {
            "image/png": "[encoded data removed]",
            "text/plain": [
              "<Figure size 432x288 with 1 Axes>"
            ]
          },
          "metadata": {
            "tags": [],
            "needs_background": "light"
          }
        }
      ]
    },
    {
      "cell_type": "code",
      "metadata": {
        "colab": {
          "base_uri": "https://localhost:8080/"
        },
        "id": "SRSWZDbQVFbp",
        "outputId": "0d72c04f-8df8-424b-d939-f44d6e6e579e"
      },
      "source": [
        "if(t < -t_critical):\n",
        "    print(\"Reject Null Hypothesis\")\n",
        "else:\n",
        "    print(\"Fail to reject Null Hypothesis\")"
      ],
      "execution_count": null,
      "outputs": [
        {
          "output_type": "stream",
          "text": [
            "Reject Null Hypothesis\n"
          ],
          "name": "stdout"
        }
      ]
    },
    {
      "cell_type": "code",
      "metadata": {
        "colab": {
          "base_uri": "https://localhost:8080/"
        },
        "id": "BMt-P-VYVS9t",
        "outputId": "808bc744-47ee-4c63-cd95-6cf503b1cdfc"
      },
      "source": [
        "p_value = 1.0 - norm.cdf(np.abs(t))\n",
        "\n",
        "print(\"p_value = \", p_value)\n",
        "\n",
        "if(p_value < 0.01):\n",
        "    print(\"Reject Null Hypothesis\")\n",
        "else:\n",
        "    print(\"Fail to reject Null Hypothesis\")"
      ],
      "execution_count": null,
      "outputs": [
        {
          "output_type": "stream",
          "text": [
            "p_value =  0.0\n",
            "Reject Null Hypothesis\n"
          ],
          "name": "stdout"
        }
      ]
    }
  ]
}