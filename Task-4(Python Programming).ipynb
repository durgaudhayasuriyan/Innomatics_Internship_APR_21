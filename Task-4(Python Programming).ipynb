{
  "nbformat": 4,
  "nbformat_minor": 0,
  "metadata": {
    "colab": {
      "name": "Task - 4 (Python Programming).ipynb",
      "provenance": []
    },
    "kernelspec": {
      "name": "python3",
      "display_name": "Python 3"
    },
    "language_info": {
      "name": "python"
    }
  },
  "cells": [
    {
      "cell_type": "code",
      "metadata": {
        "colab": {
          "base_uri": "https://localhost:8080/",
          "height": 35
        },
        "id": "U6H1zprvRDzw",
        "outputId": "8ab2347e-bd10-4517-ffce-df0393bf5690"
      },
      "source": [
        "#question 1\n",
        "def swap_case(s):\n",
        "    return s.swapcase()\n",
        "swap_case('22T6M2reD4')"
      ],
      "execution_count": 7,
      "outputs": [
        {
          "output_type": "execute_result",
          "data": {
            "application/vnd.google.colaboratory.intrinsic+json": {
              "type": "string"
            },
            "text/plain": [
              "'22t6m2REd4'"
            ]
          },
          "metadata": {
            "tags": []
          },
          "execution_count": 7
        }
      ]
    },
    {
      "cell_type": "code",
      "metadata": {
        "colab": {
          "base_uri": "https://localhost:8080/",
          "height": 35
        },
        "id": "URDhzifXSKnG",
        "outputId": "782cbf7e-5f70-434c-8be3-2c0e609fa93a"
      },
      "source": [
        "#question 2\n",
        "def split_and_join(line):\n",
        "    a=line.split(\" \")\n",
        "    return \"-\".join(a)\n",
        "split_and_join('this is a string')"
      ],
      "execution_count": 8,
      "outputs": [
        {
          "output_type": "execute_result",
          "data": {
            "application/vnd.google.colaboratory.intrinsic+json": {
              "type": "string"
            },
            "text/plain": [
              "'this-is-a-string'"
            ]
          },
          "metadata": {
            "tags": []
          },
          "execution_count": 8
        }
      ]
    },
    {
      "cell_type": "code",
      "metadata": {
        "colab": {
          "base_uri": "https://localhost:8080/"
        },
        "id": "PidBRd8YTir7",
        "outputId": "cdf7e194-6828-459a-c9d3-d974831fb445"
      },
      "source": [
        "#question 3\n",
        "def print_full_name(first, last):\n",
        "    print(\"Hello {0} {1}! You just delved into python.\".format(first, last))\n",
        "print_full_name('Ross','Taylor')"
      ],
      "execution_count": 11,
      "outputs": [
        {
          "output_type": "stream",
          "text": [
            "Hello Ross Taylor! You just delved into python.\n"
          ],
          "name": "stdout"
        }
      ]
    },
    {
      "cell_type": "code",
      "metadata": {
        "colab": {
          "base_uri": "https://localhost:8080/",
          "height": 35
        },
        "id": "fvKWu_J3UO-J",
        "outputId": "4d97ac62-446d-419f-d44f-66973aa7dc43"
      },
      "source": [
        "#question 4\n",
        "def mutate_string(string, position, character):\n",
        "    l=list(string)\n",
        "    l[position]= character\n",
        "    string= ''.join(l)\n",
        "    return string\n",
        "mutate_string('abracadabra',5,'k')"
      ],
      "execution_count": 12,
      "outputs": [
        {
          "output_type": "execute_result",
          "data": {
            "application/vnd.google.colaboratory.intrinsic+json": {
              "type": "string"
            },
            "text/plain": [
              "'abrackdabra'"
            ]
          },
          "metadata": {
            "tags": []
          },
          "execution_count": 12
        }
      ]
    },
    {
      "cell_type": "code",
      "metadata": {
        "colab": {
          "base_uri": "https://localhost:8080/"
        },
        "id": "SS8UWaEeUzUq",
        "outputId": "df57b700-6193-449f-fced-b6432fccdae0"
      },
      "source": [
        "#question 5\n",
        "def count_substring(string, sub_string):\n",
        "    s=0\n",
        "    \n",
        "    for i in range(len(string)):\n",
        "        if string[i]==sub_string[0]:\n",
        "            if i==(len(string)-1):\n",
        "                break\n",
        "            c=''\n",
        "            try:\n",
        "              for j in range(len(sub_string)):\n",
        "                  c=c+string[i+j]\n",
        "            except IndexError:\n",
        "              break\n",
        "            if c==sub_string:\n",
        "                s=s+1\n",
        "    return s\n",
        "count_substring('ABCDCDC','CDC')"
      ],
      "execution_count": 13,
      "outputs": [
        {
          "output_type": "execute_result",
          "data": {
            "text/plain": [
              "2"
            ]
          },
          "metadata": {
            "tags": []
          },
          "execution_count": 13
        }
      ]
    },
    {
      "cell_type": "code",
      "metadata": {
        "colab": {
          "base_uri": "https://localhost:8080/"
        },
        "id": "mAJZBJ35VQU_",
        "outputId": "cf0c8b87-a1f7-4d93-b934-a27cabf9732a"
      },
      "source": [
        "#question 6\n",
        "if __name__ == '__main__':\n",
        "    s = input()\n",
        "    for i in s:\n",
        "        if i.isalnum()==True:\n",
        "            print(True)\n",
        "            break\n",
        "        else:\n",
        "            continue\n",
        "    j=1\n",
        "    while i.isalnum()!=True and j==1:\n",
        "        print(False)\n",
        "        j+=1\n",
        "    for i in s:\n",
        "        if i.isalpha()==True:\n",
        "            print(True)\n",
        "            break\n",
        "        else:\n",
        "            continue\n",
        "    j=1\n",
        "    while i.isalpha()!=True and j==1:\n",
        "        print(False)\n",
        "        j+=1   \n",
        "    for i in s:\n",
        "        if i.isdigit()==True:\n",
        "            print(True)\n",
        "            break\n",
        "        else:\n",
        "            continue\n",
        "    j=1\n",
        "    while i.isdigit()!=True and j==1:\n",
        "        print(False)\n",
        "        j+=1\n",
        "    for i in s:\n",
        "        if i.islower()==True:\n",
        "            print(True)\n",
        "            break\n",
        "        else:\n",
        "            continue\n",
        "    j=1\n",
        "    while i.islower()!=True and j==1:\n",
        "        print(False)\n",
        "        j+=1\n",
        "    for i in s:\n",
        "        if i.isupper()==True:\n",
        "            print(True)\n",
        "            break\n",
        "        else:\n",
        "            continue\n",
        "    j=1\n",
        "    while i.isupper()!=True and j==1:\n",
        "        print(False)\n",
        "        j+=1\n"
      ],
      "execution_count": 15,
      "outputs": [
        {
          "output_type": "stream",
          "text": [
            "qA2\n",
            "True\n",
            "True\n",
            "True\n",
            "True\n",
            "True\n"
          ],
          "name": "stdout"
        }
      ]
    },
    {
      "cell_type": "code",
      "metadata": {
        "colab": {
          "base_uri": "https://localhost:8080/"
        },
        "id": "v9PeVrs4Vo0K",
        "outputId": "7cbe80b2-39ea-4d8b-fea9-05f2763f53db"
      },
      "source": [
        "#question 7\n",
        "thickness = int(input()) #This must be an odd number\n",
        "c = 'H'\n",
        "\n",
        "#Top Cone\n",
        "for i in range(thickness):\n",
        "    print((c*i).rjust(thickness-1)+c+(c*i).ljust(thickness-1))\n",
        "\n",
        "#Top Pillars\n",
        "for i in range(thickness+1):\n",
        "    print((c*thickness).center(thickness*2)+(c*thickness).center(thickness*6))\n",
        "\n",
        "#Middle Belt\n",
        "for i in range((thickness+1)//2):\n",
        "    print((c*thickness*5).center(thickness*6))    \n",
        "\n",
        "#Bottom Pillars\n",
        "for i in range(thickness+1):\n",
        "    print((c*thickness).center(thickness*2)+(c*thickness).center(thickness*6))    \n",
        "\n",
        "#Bottom Cone\n",
        "for i in range(thickness):\n",
        "    print(((c*(thickness-i-1)).rjust(thickness)+c+(c*(thickness-i-1)).ljust(thickness)).rjust(thickness*6))\n"
      ],
      "execution_count": 16,
      "outputs": [
        {
          "output_type": "stream",
          "text": [
            "5\n",
            "    H    \n",
            "   HHH   \n",
            "  HHHHH  \n",
            " HHHHHHH \n",
            "HHHHHHHHH\n",
            "  HHHHH               HHHHH             \n",
            "  HHHHH               HHHHH             \n",
            "  HHHHH               HHHHH             \n",
            "  HHHHH               HHHHH             \n",
            "  HHHHH               HHHHH             \n",
            "  HHHHH               HHHHH             \n",
            "  HHHHHHHHHHHHHHHHHHHHHHHHH   \n",
            "  HHHHHHHHHHHHHHHHHHHHHHHHH   \n",
            "  HHHHHHHHHHHHHHHHHHHHHHHHH   \n",
            "  HHHHH               HHHHH             \n",
            "  HHHHH               HHHHH             \n",
            "  HHHHH               HHHHH             \n",
            "  HHHHH               HHHHH             \n",
            "  HHHHH               HHHHH             \n",
            "  HHHHH               HHHHH             \n",
            "                    HHHHHHHHH \n",
            "                     HHHHHHH  \n",
            "                      HHHHH   \n",
            "                       HHH    \n",
            "                        H     \n"
          ],
          "name": "stdout"
        }
      ]
    },
    {
      "cell_type": "code",
      "metadata": {
        "colab": {
          "base_uri": "https://localhost:8080/",
          "height": 35
        },
        "id": "k2TCxAkfYmen",
        "outputId": "3e546629-08fd-497f-f41a-58faab3a5145"
      },
      "source": [
        "#question 8\n",
        "import textwrap\n",
        "def wrap(string, max_width):\n",
        "    wrapper = textwrap.TextWrapper(width=max_width) \n",
        "    dedented_text = textwrap.dedent(text=string) \n",
        "    result = wrapper.fill(text=dedented_text) \n",
        "    return result\n",
        "wrap('ABCDEFGHIJKLMNOPQRSTUVWXYZ',4)"
      ],
      "execution_count": 24,
      "outputs": [
        {
          "output_type": "execute_result",
          "data": {
            "application/vnd.google.colaboratory.intrinsic+json": {
              "type": "string"
            },
            "text/plain": [
              "'ABCD\\nEFGH\\nIJKL\\nMNOP\\nQRST\\nUVWX\\nYZ'"
            ]
          },
          "metadata": {
            "tags": []
          },
          "execution_count": 24
        }
      ]
    },
    {
      "cell_type": "code",
      "metadata": {
        "colab": {
          "base_uri": "https://localhost:8080/"
        },
        "id": "6zCsYHACZW6a",
        "outputId": "ebe0c809-b81e-4466-91fe-68a244c357f6"
      },
      "source": [
        "#question 9\n",
        "N, M = map(int,input().split())\n",
        "for i in range(1,N,2): \n",
        "    print((i * \".|.\").center(M, \"-\"))\n",
        "print(\"WELCOME\".center(M,\"-\"))\n",
        "for i in range(N-2,-1,-2): \n",
        "    print((i * \".|.\").center(M, \"-\"))\n"
      ],
      "execution_count": 27,
      "outputs": [
        {
          "output_type": "stream",
          "text": [
            "7 21\n",
            "---------.|.---------\n",
            "------.|..|..|.------\n",
            "---.|..|..|..|..|.---\n",
            "-------WELCOME-------\n",
            "---.|..|..|..|..|.---\n",
            "------.|..|..|.------\n",
            "---------.|.---------\n"
          ],
          "name": "stdout"
        }
      ]
    },
    {
      "cell_type": "code",
      "metadata": {
        "colab": {
          "base_uri": "https://localhost:8080/"
        },
        "id": "szDbEjFxZzBQ",
        "outputId": "7cd1ceb1-8d92-4dda-dae3-6bb3dc109a01"
      },
      "source": [
        "#question 10\n",
        "def print_formatted(number): \n",
        "    spacePad = len(str(bin(number))) \n",
        "    for i in range(1, number + 1): \n",
        "        floatVar = str(i) \n",
        "        octVar = str(oct(i)[2:]) \n",
        "        hexVar = str(hex(i)[2:]).upper() \n",
        "        binVar = str(bin(i)[2:]) \n",
        "        formatFloat = ((\" \" * (spacePad - len(str(floatVar)) - 2)) + floatVar) \n",
        "        formatOct = ((\" \" * (spacePad - len(str(octVar)) - 2)) + octVar) \n",
        "        formatHex = ((\" \" * (spacePad - len(str(hexVar)) - 2)) + hexVar) \n",
        "        formatBin = ((\" \" * (spacePad - len(str(binVar)) - 2)) + binVar) \n",
        "        print(formatFloat + \" \" + formatOct + \" \" + formatHex + \" \" + formatBin)\n",
        "print_formatted(17)"
      ],
      "execution_count": 31,
      "outputs": [
        {
          "output_type": "stream",
          "text": [
            "    1     1     1     1\n",
            "    2     2     2    10\n",
            "    3     3     3    11\n",
            "    4     4     4   100\n",
            "    5     5     5   101\n",
            "    6     6     6   110\n",
            "    7     7     7   111\n",
            "    8    10     8  1000\n",
            "    9    11     9  1001\n",
            "   10    12     A  1010\n",
            "   11    13     B  1011\n",
            "   12    14     C  1100\n",
            "   13    15     D  1101\n",
            "   14    16     E  1110\n",
            "   15    17     F  1111\n",
            "   16    20    10 10000\n",
            "   17    21    11 10001\n"
          ],
          "name": "stdout"
        }
      ]
    },
    {
      "cell_type": "code",
      "metadata": {
        "colab": {
          "base_uri": "https://localhost:8080/"
        },
        "id": "u6jGx8OLcLZd",
        "outputId": "3d2930f5-941c-42ee-cbff-af867eb6fdd9"
      },
      "source": [
        "#question 11\n",
        "def print_rangoli(n):\n",
        "    from string import ascii_lowercase as chars\n",
        "    heap = [(('-'.join(chars[i:n])[::-1]+'-'.join(chars[i:n])[1:])).center(4*n-3, '-')for i in range(n)]\n",
        "    print(*(heap[::-1]+heap[1:]), sep=\"\\n\")\n",
        "print_rangoli(5)"
      ],
      "execution_count": 32,
      "outputs": [
        {
          "output_type": "stream",
          "text": [
            "--------e--------\n",
            "------e-d-e------\n",
            "----e-d-c-d-e----\n",
            "--e-d-c-b-c-d-e--\n",
            "e-d-c-b-a-b-c-d-e\n",
            "--e-d-c-b-c-d-e--\n",
            "----e-d-c-d-e----\n",
            "------e-d-e------\n",
            "--------e--------\n"
          ],
          "name": "stdout"
        }
      ]
    },
    {
      "cell_type": "code",
      "metadata": {
        "colab": {
          "base_uri": "https://localhost:8080/",
          "height": 35
        },
        "id": "zkf3R7sJcotq",
        "outputId": "d055e28d-fd3f-4e43-f02b-0af3e5b4c0c2"
      },
      "source": [
        "#question 12\n",
        "def solve(s):\n",
        "    for x in s[:].split():\n",
        "        s = s.replace(x, x.capitalize())\n",
        "    return s\n",
        "solve('chris alan')"
      ],
      "execution_count": 36,
      "outputs": [
        {
          "output_type": "execute_result",
          "data": {
            "application/vnd.google.colaboratory.intrinsic+json": {
              "type": "string"
            },
            "text/plain": [
              "'Chris Alan'"
            ]
          },
          "metadata": {
            "tags": []
          },
          "execution_count": 36
        }
      ]
    },
    {
      "cell_type": "code",
      "metadata": {
        "colab": {
          "base_uri": "https://localhost:8080/"
        },
        "id": "yWRckupbd5KG",
        "outputId": "e891ad82-b20d-42e5-89ed-8f1cbffdaf4d"
      },
      "source": [
        "#question 13\n",
        "def minion_game(string):\n",
        "    vowel =['A','E','I','O','U']\n",
        "    S=0\n",
        "    K=0\n",
        "    for i in range(len(string)):\n",
        "        if string[i] in vowel:\n",
        "            K+= len(string)-i\n",
        "        else:\n",
        "            S+=len(string)-i\n",
        "    if S>K:\n",
        "        print(\"Stuart\"+\" \"+ \"%d\" % S)\n",
        "    elif K>S:\n",
        "        print(\"Kevin\"+\" \"+'%d' % K)\n",
        "    else:\n",
        "        print(\"Draw\")\n",
        "minion_game('BANANA')"
      ],
      "execution_count": 37,
      "outputs": [
        {
          "output_type": "stream",
          "text": [
            "Stuart 12\n"
          ],
          "name": "stdout"
        }
      ]
    },
    {
      "cell_type": "code",
      "metadata": {
        "colab": {
          "base_uri": "https://localhost:8080/"
        },
        "id": "SOQA3sW2eaRj",
        "outputId": "5580c791-0941-4961-85b0-74d5a3103d15"
      },
      "source": [
        "#question 14\n",
        "S = input()\n",
        "K =int(input())\n",
        "temp = []\n",
        "len_temp = 0\n",
        "for item in S:\n",
        "    len_temp += 1\n",
        "    if item not in temp:\n",
        "        temp.append(item)\n",
        "    if len_temp == K:\n",
        "        print(''.join(temp))\n",
        "        temp = []\n",
        "        len_temp = 0"
      ],
      "execution_count": 39,
      "outputs": [
        {
          "output_type": "stream",
          "text": [
            "AABCAAADA\n",
            "3\n",
            "AB\n",
            "CA\n",
            "AD\n"
          ],
          "name": "stdout"
        }
      ]
    }
  ]
}