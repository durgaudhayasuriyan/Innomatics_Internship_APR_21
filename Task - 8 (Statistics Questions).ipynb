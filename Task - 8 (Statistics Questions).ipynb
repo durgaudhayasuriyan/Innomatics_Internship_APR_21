{
  "nbformat": 4,
  "nbformat_minor": 0,
  "metadata": {
    "colab": {
      "name": "Task - 8 (Statistics Questions).ipynb",
      "provenance": [],
      "collapsed_sections": []
    },
    "kernelspec": {
      "name": "python3",
      "display_name": "Python 3"
    },
    "language_info": {
      "name": "python"
    }
  },
  "cells": [
    {
      "cell_type": "code",
      "metadata": {
        "id": "giv2b4TLcIt6"
      },
      "source": [
        "#question 1\n",
        "import math\n",
        "\n",
        "def bi_dist(x, n, p):\n",
        "    b = (math.factorial(n)/(math.factorial(x)*math.factorial(n-x)))*(p**x)*((1-p)**(n-x))\n",
        "    return(b)\n",
        "\n",
        "b, p, n = 0, 1.09/2.09, 6\n",
        "for i in range(3,7):\n",
        "    b += bi_dist(i, n, p)   \n",
        "print(\"%.3f\" %b)"
      ],
      "execution_count": null,
      "outputs": []
    },
    {
      "cell_type": "code",
      "metadata": {
        "colab": {
          "base_uri": "https://localhost:8080/"
        },
        "id": "XnZkeDzJIYT3",
        "outputId": "7cd50ef3-1f7b-4b30-d132-bb31199494c8"
      },
      "source": [
        "#question 2\n",
        "def fact(n):\n",
        "    return 1 if n == 0 else n*fact(n-1)\n",
        "\n",
        "def comb(n, x):\n",
        "    return fact(n) / (fact(x) * fact(n-x))\n",
        "\n",
        "def b(x, n, p):\n",
        "    return comb(n, x) * p**x * (1-p)**(n-x)\n",
        "\n",
        "p, n = list(map(int, input().split(\" \")))\n",
        "print(round(sum([b(i, n, p/100) for i in range(3)]), 3))\n",
        "print(round(sum([b(i, n, p/100) for i in range(2, n+1)]), 3))"
      ],
      "execution_count": null,
      "outputs": [
        {
          "output_type": "stream",
          "text": [
            "12 10\n",
            "0.891\n",
            "0.342\n"
          ],
          "name": "stdout"
        }
      ]
    },
    {
      "cell_type": "code",
      "metadata": {
        "colab": {
          "base_uri": "https://localhost:8080/"
        },
        "id": "LjL8N1uhIlLo",
        "outputId": "644de7ff-5b50-4287-f875-1aabd7da87b6"
      },
      "source": [
        "#question 3\n",
        "import scipy.stats as st\n",
        "\n",
        "mean, std = 20, 2\n",
        "p1=st.norm.cdf(19.5, mean, std)\n",
        "p2=st.norm.cdf(22,mean, std)-st.norm.cdf(20, mean, std)\n",
        "print('%.3f\\n%.3f' % (p1,p2))"
      ],
      "execution_count": null,
      "outputs": [
        {
          "output_type": "stream",
          "text": [
            "0.401\n",
            "0.341\n"
          ],
          "name": "stdout"
        }
      ]
    },
    {
      "cell_type": "code",
      "metadata": {
        "colab": {
          "base_uri": "https://localhost:8080/"
        },
        "id": "7dqHFkmSI231",
        "outputId": "984afd81-dbcb-4658-e223-9dd595a64db1"
      },
      "source": [
        "#question 4\n",
        "import math\n",
        "mean, std = 70, 10\n",
        "cdf = lambda x: 0.5 * (1 + math.erf((x - mean) / (std * (2 ** 0.5))))\n",
        "\n",
        "\n",
        "print(round((1-cdf(80))*100,2))\n",
        "print(round((1-cdf(60))*100,2))\n",
        "print(round((cdf(60))*100,2))"
      ],
      "execution_count": null,
      "outputs": [
        {
          "output_type": "stream",
          "text": [
            "15.87\n",
            "84.13\n",
            "15.87\n"
          ],
          "name": "stdout"
        }
      ]
    },
    {
      "cell_type": "code",
      "metadata": {
        "colab": {
          "base_uri": "https://localhost:8080/"
        },
        "id": "9PZ0hWadJZ1P",
        "outputId": "c95208b2-5e80-4ec6-9cde-0e3c1c8aecbb"
      },
      "source": [
        "#question 5\n",
        "import math\n",
        "\n",
        "def less_than_boundary_cdf(x, mean, std):\n",
        "    return round(0.5 * (1 + math.erf((x - mean)/ (std * math.sqrt(2)))), 4)\n",
        "\n",
        "print(less_than_boundary_cdf(9800, 49 * 205, math.sqrt(49) * 15))"
      ],
      "execution_count": null,
      "outputs": [
        {
          "output_type": "stream",
          "text": [
            "0.0098\n"
          ],
          "name": "stdout"
        }
      ]
    },
    {
      "cell_type": "code",
      "metadata": {
        "colab": {
          "base_uri": "https://localhost:8080/"
        },
        "id": "-rXTWn_nJ4Wc",
        "outputId": "6cbcb89e-54c1-45dc-c4fe-d843529d821f"
      },
      "source": [
        "#question 6\n",
        "import math\n",
        "x = 250\n",
        "n = 100\n",
        "sampling_mean = 2.4\n",
        "sampling_stdev = 2.0\n",
        "stdev = sampling_stdev * math.sqrt(n)\n",
        "\n",
        "cdf = 0.5 * (1 + math.erf((x - sampling_mean * n) / (stdev * math.sqrt(2))))\n",
        "\n",
        "print(round(cdf,4))"
      ],
      "execution_count": null,
      "outputs": [
        {
          "output_type": "stream",
          "text": [
            "0.6915\n"
          ],
          "name": "stdout"
        }
      ]
    },
    {
      "cell_type": "code",
      "metadata": {
        "colab": {
          "base_uri": "https://localhost:8080/"
        },
        "id": "0x72kcmgRe68",
        "outputId": "11883009-1191-4670-d143-412cf2399aa6"
      },
      "source": [
        "#question 7\n",
        "samples = float(input())\n",
        "mean = float(input())\n",
        "sd = float(input())\n",
        "interval = float(input())\n",
        "z = float (input())\n",
        "\n",
        "sd_sample = sd / (samples**0.5)\n",
        "print(round(mean - sd_sample*z,2))\n",
        "print(round(mean + sd_sample*z,2))"
      ],
      "execution_count": null,
      "outputs": [
        {
          "output_type": "stream",
          "text": [
            "100\n",
            "500\n",
            "80\n",
            "0.95\n",
            "1.96\n",
            "484.32\n",
            "515.68\n"
          ],
          "name": "stdout"
        }
      ]
    },
    {
      "cell_type": "code",
      "metadata": {
        "colab": {
          "base_uri": "https://localhost:8080/"
        },
        "id": "0C_tQqnqSEMG",
        "outputId": "8277be6f-c6ee-4c70-cbcf-087e7451518b"
      },
      "source": [
        "#question 8\n",
        "import statistics as st\n",
        "\n",
        "n=int(input())\n",
        "x=tuple(map(float,input().split()))\n",
        "y=tuple(map(float,input().split()))\n",
        "\n",
        "rho=sum([a*b for a,b in zip([i-st.mean(x) for i in x],[i-st.mean(y) for i in y])])/(n*st.pstdev(x)*st.pstdev(y))   \n",
        "\n",
        "print(round(rho,3))"
      ],
      "execution_count": null,
      "outputs": [
        {
          "output_type": "stream",
          "text": [
            "10\n",
            "10 9.8 8 7.8 7.7 7 6 5 4 2\n",
            "200 44 32 24 22 17 15 12 8 4\n",
            "0.612\n"
          ],
          "name": "stdout"
        }
      ]
    },
    {
      "cell_type": "code",
      "metadata": {
        "colab": {
          "base_uri": "https://localhost:8080/"
        },
        "id": "yXmj7j8TSeVE",
        "outputId": "0edcd01f-75df-4309-fb2c-548a21b32e65"
      },
      "source": [
        "#question 9\n",
        "from statistics import mean, pstdev\n",
        "\n",
        "\n",
        "def pearson(x, y):\n",
        "    mx, sx, my, sy = mean(x), pstdev(x), mean(y), pstdev(y)\n",
        "    return sum((xi - mx) * (yi - my) for xi, yi in zip(x, y)) / (len(x) * sx * sy)\n",
        "\n",
        "\n",
        "def linear_regression(x, y):\n",
        "    b = pearson(x, y) * pstdev(y) / pstdev(x)\n",
        "    return mean(y) - b * mean(x), b\n",
        "\n",
        "\n",
        "x, y = zip(*(map(float, input().split()) for _ in range(5)))\n",
        "a, b = linear_regression(x, y)\n",
        "print(f'{a+b*80:.3f}')"
      ],
      "execution_count": null,
      "outputs": [
        {
          "output_type": "stream",
          "text": [
            "95 85\n",
            "85 95\n",
            "80 70\n",
            "70 65\n",
            "60 70\n",
            "78.288\n"
          ],
          "name": "stdout"
        }
      ]
    },
    {
      "cell_type": "code",
      "metadata": {
        "id": "dde2SqolV8uj"
      },
      "source": [
        "#question 10\n",
        "import numpy as np\n",
        "\n",
        "nfeatures,nfeaturesets = map(int, input().split())\n",
        "X = list()\n",
        "Y = list()\n",
        "for _ in range(nfeaturesets):\n",
        "    *Xtemp, Ytemp = [1] + list(map(float, input().split()))\n",
        "    X.append((Xtemp))\n",
        "    Y.append(Ytemp)\n",
        "\n",
        "Xarr = np.array(X)\n",
        "Yarr = np.array(Y)\n",
        "\n",
        "B = np.matmul(np.matmul(np.linalg.inv(np.matmul(np.transpose(Xarr),Xarr)), np.transpose(Xarr)), Yarr)\n",
        "\n",
        "ntests = int(input())\n",
        "for _ in range(ntests):\n",
        "    sample = [1] + list(map(float, input().split()))\n",
        "    samplearr = np.array(sample)\n",
        "    print(np.matmul(samplearr,B))"
      ],
      "execution_count": null,
      "outputs": []
    }
  ]
}