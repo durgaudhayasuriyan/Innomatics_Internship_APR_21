{
  "nbformat": 4,
  "nbformat_minor": 0,
  "metadata": {
    "colab": {
      "name": "Task - 3 (Python Programming).ipynb",
      "provenance": []
    },
    "kernelspec": {
      "name": "python3",
      "display_name": "Python 3"
    },
    "language_info": {
      "name": "python"
    }
  },
  "cells": [
    {
      "cell_type": "code",
      "metadata": {
        "colab": {
          "base_uri": "https://localhost:8080/"
        },
        "id": "3HsEaE3yLIeR",
        "outputId": "842fc9b1-1214-4a02-d2f4-ba7d51569b15"
      },
      "source": [
        "#question 1\n",
        "from cmath import phase\n",
        "c=complex(input())\n",
        "print(abs(c))\n",
        "print(phase(c))"
      ],
      "execution_count": 1,
      "outputs": [
        {
          "output_type": "stream",
          "text": [
            "1+2j\n",
            "2.23606797749979\n",
            "1.1071487177940904\n"
          ],
          "name": "stdout"
        }
      ]
    },
    {
      "cell_type": "code",
      "metadata": {
        "colab": {
          "base_uri": "https://localhost:8080/"
        },
        "id": "BHBG1O0CLqrr",
        "outputId": "e64c099f-15e0-461b-baf3-89869e26eec5"
      },
      "source": [
        "#question 2\n",
        "import math\n",
        "AB=int(input())\n",
        "BC=int(input())\n",
        "x=AB/BC\n",
        "c=math.degrees(math.atan(x))\n",
        "degree_sign = \"\\N{DEGREE SIGN}\"\n",
        "b=round(c)\n",
        "print(b,end='')\n",
        "print(degree_sign)"
      ],
      "execution_count": 2,
      "outputs": [
        {
          "output_type": "stream",
          "text": [
            "10\n",
            "10\n",
            "45°\n"
          ],
          "name": "stdout"
        }
      ]
    },
    {
      "cell_type": "code",
      "metadata": {
        "colab": {
          "base_uri": "https://localhost:8080/"
        },
        "id": "lr5cxSaLMg_e",
        "outputId": "83e9a6e5-eb16-484b-d192-f86406b1e357"
      },
      "source": [
        "#question 3\n",
        "for i in range(1,int(input())+1):\n",
        "    print(((10**i - 1)//9)**2)\n"
      ],
      "execution_count": 5,
      "outputs": [
        {
          "output_type": "stream",
          "text": [
            "5\n",
            "1\n",
            "121\n",
            "12321\n",
            "1234321\n",
            "123454321\n"
          ],
          "name": "stdout"
        }
      ]
    },
    {
      "cell_type": "code",
      "metadata": {
        "colab": {
          "base_uri": "https://localhost:8080/"
        },
        "id": "6CBpiy0iM4Yu",
        "outputId": "2f1d81ed-c7aa-4db7-c313-71b3c6146a32"
      },
      "source": [
        "#question 4\n",
        "a=int(input())\n",
        "b=int(input())\n",
        "print(a//b)\n",
        "print(a%b)\n",
        "print(divmod(a,b))"
      ],
      "execution_count": 6,
      "outputs": [
        {
          "output_type": "stream",
          "text": [
            "177\n",
            "10\n",
            "17\n",
            "7\n",
            "(17, 7)\n"
          ],
          "name": "stdout"
        }
      ]
    },
    {
      "cell_type": "code",
      "metadata": {
        "colab": {
          "base_uri": "https://localhost:8080/"
        },
        "id": "TjpRBBvTNOQO",
        "outputId": "bb8f64d7-970f-42a6-8942-89ac0723c96e"
      },
      "source": [
        "#question 5\n",
        "a=int(input())\n",
        "b=int(input())\n",
        "m=int(input())\n",
        "print(pow(a,b))\n",
        "print(pow(a,b,m))"
      ],
      "execution_count": 7,
      "outputs": [
        {
          "output_type": "stream",
          "text": [
            "3\n",
            "4\n",
            "5\n",
            "81\n",
            "1\n"
          ],
          "name": "stdout"
        }
      ]
    },
    {
      "cell_type": "code",
      "metadata": {
        "colab": {
          "base_uri": "https://localhost:8080/"
        },
        "id": "8znYI2icNdEs",
        "outputId": "47f128e0-4555-495a-e96d-2484a7672b45"
      },
      "source": [
        "#question 6\n",
        "a=int(input())\n",
        "b=int(input())\n",
        "c=int(input())\n",
        "d=int(input())\n",
        "e=a**b\n",
        "f=c**d\n",
        "g=e+f\n",
        "print(g)"
      ],
      "execution_count": 8,
      "outputs": [
        {
          "output_type": "stream",
          "text": [
            "9\n",
            "29\n",
            "7\n",
            "27\n",
            "4710194409608608369201743232\n"
          ],
          "name": "stdout"
        }
      ]
    },
    {
      "cell_type": "code",
      "metadata": {
        "colab": {
          "base_uri": "https://localhost:8080/"
        },
        "id": "Mwx14SagN7B7",
        "outputId": "c69da2e2-e6ab-45b0-cf1b-cd39a7e2716b"
      },
      "source": [
        "#question 7\n",
        "for i in range(1,int(input())):\n",
        "    print((10**(i)//9)*i)"
      ],
      "execution_count": 9,
      "outputs": [
        {
          "output_type": "stream",
          "text": [
            "5\n",
            "1\n",
            "22\n",
            "333\n",
            "4444\n"
          ],
          "name": "stdout"
        }
      ]
    }
  ]
}