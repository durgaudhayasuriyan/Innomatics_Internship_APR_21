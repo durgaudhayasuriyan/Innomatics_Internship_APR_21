{
  "nbformat": 4,
  "nbformat_minor": 0,
  "metadata": {
    "colab": {
      "name": "Task 1 - Descriptive Statistics.ipynb",
      "provenance": []
    },
    "kernelspec": {
      "name": "python3",
      "display_name": "Python 3"
    },
    "language_info": {
      "name": "python"
    }
  },
  "cells": [
    {
      "cell_type": "code",
      "metadata": {
        "id": "ZXSKEwQFnPrq"
      },
      "source": [
        "import numpy as np\n",
        "import pandas as pd\n",
        "import matplotlib.pyplot as plt\n",
        "import seaborn as sns"
      ],
      "execution_count": 13,
      "outputs": []
    },
    {
      "cell_type": "code",
      "metadata": {
        "colab": {
          "base_uri": "https://localhost:8080/",
          "height": 215
        },
        "id": "KZPQaU_Cnj5d",
        "outputId": "292ee17f-369e-41df-c349-9b2344c7ef4e"
      },
      "source": [
        "data=pd.read_csv('/content/data.csv')\n",
        "data.head()"
      ],
      "execution_count": 14,
      "outputs": [
        {
          "output_type": "execute_result",
          "data": {
            "text/html": [
              "<div>\n",
              "<style scoped>\n",
              "    .dataframe tbody tr th:only-of-type {\n",
              "        vertical-align: middle;\n",
              "    }\n",
              "\n",
              "    .dataframe tbody tr th {\n",
              "        vertical-align: top;\n",
              "    }\n",
              "\n",
              "    .dataframe thead th {\n",
              "        text-align: right;\n",
              "    }\n",
              "</style>\n",
              "<table border=\"1\" class=\"dataframe\">\n",
              "  <thead>\n",
              "    <tr style=\"text-align: right;\">\n",
              "      <th></th>\n",
              "      <th>Mthly_HH_Income</th>\n",
              "      <th>Mthly_HH_Expense</th>\n",
              "      <th>No_of_Fly_Members</th>\n",
              "      <th>Emi_or_Rent_Amt</th>\n",
              "      <th>Annual_HH_Income</th>\n",
              "      <th>Highest_Qualified_Member</th>\n",
              "      <th>No_of_Earning_Members</th>\n",
              "    </tr>\n",
              "  </thead>\n",
              "  <tbody>\n",
              "    <tr>\n",
              "      <th>0</th>\n",
              "      <td>5000</td>\n",
              "      <td>8000</td>\n",
              "      <td>3</td>\n",
              "      <td>2000</td>\n",
              "      <td>64200</td>\n",
              "      <td>Under-Graduate</td>\n",
              "      <td>1</td>\n",
              "    </tr>\n",
              "    <tr>\n",
              "      <th>1</th>\n",
              "      <td>6000</td>\n",
              "      <td>7000</td>\n",
              "      <td>2</td>\n",
              "      <td>3000</td>\n",
              "      <td>79920</td>\n",
              "      <td>Illiterate</td>\n",
              "      <td>1</td>\n",
              "    </tr>\n",
              "    <tr>\n",
              "      <th>2</th>\n",
              "      <td>10000</td>\n",
              "      <td>4500</td>\n",
              "      <td>2</td>\n",
              "      <td>0</td>\n",
              "      <td>112800</td>\n",
              "      <td>Under-Graduate</td>\n",
              "      <td>1</td>\n",
              "    </tr>\n",
              "    <tr>\n",
              "      <th>3</th>\n",
              "      <td>10000</td>\n",
              "      <td>2000</td>\n",
              "      <td>1</td>\n",
              "      <td>0</td>\n",
              "      <td>97200</td>\n",
              "      <td>Illiterate</td>\n",
              "      <td>1</td>\n",
              "    </tr>\n",
              "    <tr>\n",
              "      <th>4</th>\n",
              "      <td>12500</td>\n",
              "      <td>12000</td>\n",
              "      <td>2</td>\n",
              "      <td>3000</td>\n",
              "      <td>147000</td>\n",
              "      <td>Graduate</td>\n",
              "      <td>1</td>\n",
              "    </tr>\n",
              "  </tbody>\n",
              "</table>\n",
              "</div>"
            ],
            "text/plain": [
              "   Mthly_HH_Income  ...  No_of_Earning_Members\n",
              "0             5000  ...                      1\n",
              "1             6000  ...                      1\n",
              "2            10000  ...                      1\n",
              "3            10000  ...                      1\n",
              "4            12500  ...                      1\n",
              "\n",
              "[5 rows x 7 columns]"
            ]
          },
          "metadata": {
            "tags": []
          },
          "execution_count": 14
        }
      ]
    },
    {
      "cell_type": "markdown",
      "metadata": {
        "id": "jtkxR272Aa93"
      },
      "source": [
        "#mean"
      ]
    },
    {
      "cell_type": "markdown",
      "metadata": {
        "id": "mMnMSawiAcbP"
      },
      "source": [
        "The arithmetic mean, or simply the mean or the average, is the sum of a collection of numbers divided by the count of numbers in the collection. The collection is often a set of results of an experiment or an observational study, or frequently a set of results from a survey.\n",
        "\n",
        "It is easy to calculate: add up all the numbers, then divide by how many numbers there are. In other words it is the sum divided by the count.\n"
      ]
    },
    {
      "cell_type": "code",
      "metadata": {
        "colab": {
          "base_uri": "https://localhost:8080/"
        },
        "id": "BNKEqw6Ln3P5",
        "outputId": "125c5b2f-c9fa-4c90-b7a7-a8ee64d3a33e"
      },
      "source": [
        "data.mean()"
      ],
      "execution_count": 15,
      "outputs": [
        {
          "output_type": "execute_result",
          "data": {
            "text/plain": [
              "Mthly_HH_Income           41558.00\n",
              "Mthly_HH_Expense          18818.00\n",
              "No_of_Fly_Members             4.06\n",
              "Emi_or_Rent_Amt            3060.00\n",
              "Annual_HH_Income         490019.04\n",
              "No_of_Earning_Members         1.46\n",
              "dtype: float64"
            ]
          },
          "metadata": {
            "tags": []
          },
          "execution_count": 15
        }
      ]
    },
    {
      "cell_type": "markdown",
      "metadata": {
        "id": "YyUc5AnGCq_i"
      },
      "source": [
        "#median"
      ]
    },
    {
      "cell_type": "markdown",
      "metadata": {
        "id": "r3KHyGzZCtq5"
      },
      "source": [
        "The median is the middle number in a sorted, ascending or descending, list of numbers and can be more descriptive of that data set than the average."
      ]
    },
    {
      "cell_type": "markdown",
      "metadata": {
        "id": "3sikYeiGDI2D"
      },
      "source": [
        "#how to calculate median\n",
        "\n",
        "Arrange your numbers in numerical order.\n",
        "\n",
        "Count how many numbers you have.\n",
        "\n",
        "If you have an odd number, divide by 2 and round up to get the position of the median number.\n",
        "\n",
        "If you have an even number, divide by 2. Go to the number in that position and average it with the number in the next higher position to get the median."
      ]
    },
    {
      "cell_type": "code",
      "metadata": {
        "colab": {
          "base_uri": "https://localhost:8080/"
        },
        "id": "xkPuknXfn6Dn",
        "outputId": "cdf4d172-bb58-4928-9e87-a1707f4ba442"
      },
      "source": [
        "data.median()"
      ],
      "execution_count": 16,
      "outputs": [
        {
          "output_type": "execute_result",
          "data": {
            "text/plain": [
              "Mthly_HH_Income           35000.0\n",
              "Mthly_HH_Expense          15500.0\n",
              "No_of_Fly_Members             4.0\n",
              "Emi_or_Rent_Amt               0.0\n",
              "Annual_HH_Income         447420.0\n",
              "No_of_Earning_Members         1.0\n",
              "dtype: float64"
            ]
          },
          "metadata": {
            "tags": []
          },
          "execution_count": 16
        }
      ]
    },
    {
      "cell_type": "markdown",
      "metadata": {
        "id": "NCekeL5dDq9u"
      },
      "source": [
        "#mode"
      ]
    },
    {
      "cell_type": "markdown",
      "metadata": {
        "id": "6jTJU_47DtKy"
      },
      "source": [
        "The mode is the value that appears most frequently in a data set. A set of data may have one mode, more than one mode, or no mode at all. Other popular measures of central tendency include the mean, or the average of a set, and the median, the middle value in a set."
      ]
    },
    {
      "cell_type": "code",
      "metadata": {
        "colab": {
          "base_uri": "https://localhost:8080/",
          "height": 99
        },
        "id": "WT9sGsmnn8A5",
        "outputId": "f31a47ab-a7ae-46e8-ad76-9201db320e8e"
      },
      "source": [
        "data.mode()"
      ],
      "execution_count": 17,
      "outputs": [
        {
          "output_type": "execute_result",
          "data": {
            "text/html": [
              "<div>\n",
              "<style scoped>\n",
              "    .dataframe tbody tr th:only-of-type {\n",
              "        vertical-align: middle;\n",
              "    }\n",
              "\n",
              "    .dataframe tbody tr th {\n",
              "        vertical-align: top;\n",
              "    }\n",
              "\n",
              "    .dataframe thead th {\n",
              "        text-align: right;\n",
              "    }\n",
              "</style>\n",
              "<table border=\"1\" class=\"dataframe\">\n",
              "  <thead>\n",
              "    <tr style=\"text-align: right;\">\n",
              "      <th></th>\n",
              "      <th>Mthly_HH_Income</th>\n",
              "      <th>Mthly_HH_Expense</th>\n",
              "      <th>No_of_Fly_Members</th>\n",
              "      <th>Emi_or_Rent_Amt</th>\n",
              "      <th>Annual_HH_Income</th>\n",
              "      <th>Highest_Qualified_Member</th>\n",
              "      <th>No_of_Earning_Members</th>\n",
              "    </tr>\n",
              "  </thead>\n",
              "  <tbody>\n",
              "    <tr>\n",
              "      <th>0</th>\n",
              "      <td>45000</td>\n",
              "      <td>25000</td>\n",
              "      <td>4</td>\n",
              "      <td>0</td>\n",
              "      <td>590400</td>\n",
              "      <td>Graduate</td>\n",
              "      <td>1</td>\n",
              "    </tr>\n",
              "  </tbody>\n",
              "</table>\n",
              "</div>"
            ],
            "text/plain": [
              "   Mthly_HH_Income  ...  No_of_Earning_Members\n",
              "0            45000  ...                      1\n",
              "\n",
              "[1 rows x 7 columns]"
            ]
          },
          "metadata": {
            "tags": []
          },
          "execution_count": 17
        }
      ]
    },
    {
      "cell_type": "markdown",
      "metadata": {
        "id": "RwDVibB-D8A5"
      },
      "source": [
        "#variance"
      ]
    },
    {
      "cell_type": "markdown",
      "metadata": {
        "id": "Z4tTKd-TD-Qq"
      },
      "source": [
        "The variance is a measure of variability. It is calculated by taking the average of squared deviations from the mean.\n",
        "\n",
        "Variance tells you the degree of spread in your data set. The more spread the data, the larger the variance is in relation to the mean."
      ]
    },
    {
      "cell_type": "code",
      "metadata": {
        "colab": {
          "base_uri": "https://localhost:8080/"
        },
        "id": "08ctJJwrn_xX",
        "outputId": "117de6a8-dd43-4be7-d5e9-dd72a5e09bf3"
      },
      "source": [
        "data.var()"
      ],
      "execution_count": 18,
      "outputs": [
        {
          "output_type": "execute_result",
          "data": {
            "text/plain": [
              "Mthly_HH_Income          6.811009e+08\n",
              "Mthly_HH_Expense         1.461733e+08\n",
              "No_of_Fly_Members        2.302449e+00\n",
              "Emi_or_Rent_Amt          3.895551e+07\n",
              "Annual_HH_Income         1.024869e+11\n",
              "No_of_Earning_Members    5.391837e-01\n",
              "dtype: float64"
            ]
          },
          "metadata": {
            "tags": []
          },
          "execution_count": 18
        }
      ]
    },
    {
      "cell_type": "markdown",
      "metadata": {
        "id": "zCmblFjDEOH9"
      },
      "source": [
        "#standard deviation"
      ]
    },
    {
      "cell_type": "markdown",
      "metadata": {
        "id": "MjxYNL4GEVIa"
      },
      "source": [
        "A standard deviation is a statistic that measures the dispersion of a dataset relative to its mean. The standard deviation is calculated as the square root of variance by determining each data point's deviation relative to the mean. If the data points are further from the mean, there is a higher deviation within the data set; thus, the more spread out the data, the higher the standard deviation."
      ]
    },
    {
      "cell_type": "code",
      "metadata": {
        "colab": {
          "base_uri": "https://localhost:8080/"
        },
        "id": "htPsA-O6oFZP",
        "outputId": "0a94ccb3-0956-4078-b7ab-b2c596a81bff"
      },
      "source": [
        "data.std()"
      ],
      "execution_count": 19,
      "outputs": [
        {
          "output_type": "execute_result",
          "data": {
            "text/plain": [
              "Mthly_HH_Income           26097.908979\n",
              "Mthly_HH_Expense          12090.216824\n",
              "No_of_Fly_Members             1.517382\n",
              "Emi_or_Rent_Amt            6241.434948\n",
              "Annual_HH_Income         320135.792123\n",
              "No_of_Earning_Members         0.734291\n",
              "dtype: float64"
            ]
          },
          "metadata": {
            "tags": []
          },
          "execution_count": 19
        }
      ]
    },
    {
      "cell_type": "markdown",
      "metadata": {
        "id": "pIVcohTqErFB"
      },
      "source": [
        "#correlation"
      ]
    },
    {
      "cell_type": "markdown",
      "metadata": {
        "id": "I8OSkVS9EtKF"
      },
      "source": [
        "“Correlation” is a statistical term describing the degree to which two variables move in coordination with one-another. If the two variables move in the same direction, then those variables are said to have a positive correlation. If they move in opposite directions, then they have a negative correlation."
      ]
    },
    {
      "cell_type": "code",
      "metadata": {
        "colab": {
          "base_uri": "https://localhost:8080/",
          "height": 210
        },
        "id": "3eb0v0L5oHTw",
        "outputId": "a6110e9e-ecaf-4960-e88d-c33a6053b52b"
      },
      "source": [
        "data.corr()"
      ],
      "execution_count": 20,
      "outputs": [
        {
          "output_type": "execute_result",
          "data": {
            "text/html": [
              "<div>\n",
              "<style scoped>\n",
              "    .dataframe tbody tr th:only-of-type {\n",
              "        vertical-align: middle;\n",
              "    }\n",
              "\n",
              "    .dataframe tbody tr th {\n",
              "        vertical-align: top;\n",
              "    }\n",
              "\n",
              "    .dataframe thead th {\n",
              "        text-align: right;\n",
              "    }\n",
              "</style>\n",
              "<table border=\"1\" class=\"dataframe\">\n",
              "  <thead>\n",
              "    <tr style=\"text-align: right;\">\n",
              "      <th></th>\n",
              "      <th>Mthly_HH_Income</th>\n",
              "      <th>Mthly_HH_Expense</th>\n",
              "      <th>No_of_Fly_Members</th>\n",
              "      <th>Emi_or_Rent_Amt</th>\n",
              "      <th>Annual_HH_Income</th>\n",
              "      <th>No_of_Earning_Members</th>\n",
              "    </tr>\n",
              "  </thead>\n",
              "  <tbody>\n",
              "    <tr>\n",
              "      <th>Mthly_HH_Income</th>\n",
              "      <td>1.000000</td>\n",
              "      <td>0.649215</td>\n",
              "      <td>0.448317</td>\n",
              "      <td>0.036976</td>\n",
              "      <td>0.970315</td>\n",
              "      <td>0.347883</td>\n",
              "    </tr>\n",
              "    <tr>\n",
              "      <th>Mthly_HH_Expense</th>\n",
              "      <td>0.649215</td>\n",
              "      <td>1.000000</td>\n",
              "      <td>0.639702</td>\n",
              "      <td>0.405280</td>\n",
              "      <td>0.591222</td>\n",
              "      <td>0.311915</td>\n",
              "    </tr>\n",
              "    <tr>\n",
              "      <th>No_of_Fly_Members</th>\n",
              "      <td>0.448317</td>\n",
              "      <td>0.639702</td>\n",
              "      <td>1.000000</td>\n",
              "      <td>0.085808</td>\n",
              "      <td>0.430868</td>\n",
              "      <td>0.597482</td>\n",
              "    </tr>\n",
              "    <tr>\n",
              "      <th>Emi_or_Rent_Amt</th>\n",
              "      <td>0.036976</td>\n",
              "      <td>0.405280</td>\n",
              "      <td>0.085808</td>\n",
              "      <td>1.000000</td>\n",
              "      <td>0.002716</td>\n",
              "      <td>-0.097431</td>\n",
              "    </tr>\n",
              "    <tr>\n",
              "      <th>Annual_HH_Income</th>\n",
              "      <td>0.970315</td>\n",
              "      <td>0.591222</td>\n",
              "      <td>0.430868</td>\n",
              "      <td>0.002716</td>\n",
              "      <td>1.000000</td>\n",
              "      <td>0.296679</td>\n",
              "    </tr>\n",
              "    <tr>\n",
              "      <th>No_of_Earning_Members</th>\n",
              "      <td>0.347883</td>\n",
              "      <td>0.311915</td>\n",
              "      <td>0.597482</td>\n",
              "      <td>-0.097431</td>\n",
              "      <td>0.296679</td>\n",
              "      <td>1.000000</td>\n",
              "    </tr>\n",
              "  </tbody>\n",
              "</table>\n",
              "</div>"
            ],
            "text/plain": [
              "                       Mthly_HH_Income  ...  No_of_Earning_Members\n",
              "Mthly_HH_Income               1.000000  ...               0.347883\n",
              "Mthly_HH_Expense              0.649215  ...               0.311915\n",
              "No_of_Fly_Members             0.448317  ...               0.597482\n",
              "Emi_or_Rent_Amt               0.036976  ...              -0.097431\n",
              "Annual_HH_Income              0.970315  ...               0.296679\n",
              "No_of_Earning_Members         0.347883  ...               1.000000\n",
              "\n",
              "[6 rows x 6 columns]"
            ]
          },
          "metadata": {
            "tags": []
          },
          "execution_count": 20
        }
      ]
    },
    {
      "cell_type": "code",
      "metadata": {
        "id": "zU4hOZIOsnEp"
      },
      "source": [
        ""
      ],
      "execution_count": null,
      "outputs": []
    },
    {
      "cell_type": "markdown",
      "metadata": {
        "id": "u5K-asaBsrYQ"
      },
      "source": [
        "#normal distibution"
      ]
    },
    {
      "cell_type": "markdown",
      "metadata": {
        "id": "jql5b0uqsx4W"
      },
      "source": [
        "Normal distribution, also known as the Gaussian distribution, is a probability distribution that is symmetric about the mean, showing that data near the mean are more frequent in occurrence than data far from the mean. In graph form, normal distribution will appear as a bell curve"
      ]
    },
    {
      "cell_type": "markdown",
      "metadata": {
        "id": "fdN-lIgTtUMU"
      },
      "source": [
        "#features of normal distribution"
      ]
    },
    {
      "cell_type": "markdown",
      "metadata": {
        "id": "yvXlFyYatag1"
      },
      "source": [
        "The mean, mode and median are all equal.\n",
        "The curve is symmetric at the center (i.e. around the mean, μ).\n",
        "\n",
        "Exactly half of the values are to the left of center and exactly half the values are to the right.\n",
        "\n",
        "The total area under the curve is 1."
      ]
    },
    {
      "cell_type": "code",
      "metadata": {
        "colab": {
          "base_uri": "https://localhost:8080/",
          "height": 336
        },
        "id": "hhvmF7CdnZTF",
        "outputId": "69f6e73f-bfc9-4540-b5d2-13fcacc45d50"
      },
      "source": [
        "sns.distplot(data['Annual_HH_Income'])"
      ],
      "execution_count": 26,
      "outputs": [
        {
          "output_type": "stream",
          "text": [
            "/usr/local/lib/python3.7/dist-packages/seaborn/distributions.py:2557: FutureWarning: `distplot` is a deprecated function and will be removed in a future version. Please adapt your code to use either `displot` (a figure-level function with similar flexibility) or `histplot` (an axes-level function for histograms).\n",
            "  warnings.warn(msg, FutureWarning)\n"
          ],
          "name": "stderr"
        },
        {
          "output_type": "execute_result",
          "data": {
            "text/plain": [
              "<matplotlib.axes._subplots.AxesSubplot at 0x7fda7672a850>"
            ]
          },
          "metadata": {
            "tags": []
          },
          "execution_count": 26
        },
        {
          "output_type": "display_data",
          "data": {
            "image/png": "[encoded data removed]",
            "text/plain": [
              "<Figure size 432x288 with 1 Axes>"
            ]
          },
          "metadata": {
            "tags": [],
            "needs_background": "light"
          }
        }
      ]
    },
    {
      "cell_type": "markdown",
      "metadata": {
        "id": "RV2d0-COuPom"
      },
      "source": [
        "#Positively Skewed & Negatively Skewed Normal Distribution\n"
      ]
    },
    {
      "cell_type": "markdown",
      "metadata": {
        "id": "JD6CHOTDuzXD"
      },
      "source": [
        "A right-skewed distribution has a long right tail. Right-skewed distributions are also called positive-skew distributions. That’s because there is a long tail in the positive direction on the number line. The mean is also to the right of the peak."
      ]
    },
    {
      "cell_type": "markdown",
      "metadata": {
        "id": "0HSyk0tzu9s2"
      },
      "source": [
        "A left-skewed distribution has a long left tail. Left-skewed distributions are also called negatively-skewed distributions. That’s because there is a long tail in the negative direction on the number line. The mean is also to the left of the peak."
      ]
    },
    {
      "cell_type": "markdown",
      "metadata": {
        "id": "FVmgK2uUvCdi"
      },
      "source": [
        "#Effect on Mean, Median and Mode due to Skewness\n"
      ]
    },
    {
      "cell_type": "markdown",
      "metadata": {
        "id": "BMLsjt8WzYzu"
      },
      "source": [
        "In the case of negative skew, the mean is influenced by the presence of outliers at the lower end of the data’s range. This means that the mean would be less than the median and mode. It seems counterintuitive that the majority of the data is on the higher side, but it is called negative skew. One mnemonic that I use is that the long tail points to the negative side of an x-axis."
      ]
    },
    {
      "cell_type": "markdown",
      "metadata": {
        "id": "6AHGAk9QzfXI"
      },
      "source": [
        "For positive skew, the case is backward. The mean is heavily influenced by the outliers at the upper part of the data’s range. In this case, the mean is greater than the mode or median. The mnemonic that I use is that the long tail is skewed toward the positive end of the x-axis."
      ]
    },
    {
      "cell_type": "markdown",
      "metadata": {
        "id": "HV7CWK83zpLM"
      },
      "source": [
        "#QQ plot"
      ]
    },
    {
      "cell_type": "markdown",
      "metadata": {
        "id": "CV4V9iXlzyRj"
      },
      "source": [
        "When the quantiles of two variables are plotted against each other, then the plot obtained is known as quantile – quantile plot or qqplot. This plot provides a summary of whether the distributions of two variables are similar or not with respect to the locations."
      ]
    },
    {
      "cell_type": "code",
      "metadata": {
        "id": "Tqo1F5wWydjy"
      },
      "source": [
        "from google.colab import drive\n",
        "from scipy.special import ndtri"
      ],
      "execution_count": 50,
      "outputs": []
    },
    {
      "cell_type": "code",
      "metadata": {
        "id": "JWoYmNbdwUet"
      },
      "source": [
        "df=data.sort_values(by=['Annual_HH_Income'],ascending=True).reset_index()"
      ],
      "execution_count": 51,
      "outputs": []
    },
    {
      "cell_type": "code",
      "metadata": {
        "id": "MODMqCJ_w3pw"
      },
      "source": [
        "df['count']=df.index+1"
      ],
      "execution_count": 52,
      "outputs": []
    },
    {
      "cell_type": "code",
      "metadata": {
        "colab": {
          "base_uri": "https://localhost:8080/",
          "height": 183
        },
        "id": "3t5JF_mvxABg",
        "outputId": "e9b75460-91b9-4a10-fada-12e863a12ccb"
      },
      "source": [
        "df.head()"
      ],
      "execution_count": 53,
      "outputs": [
        {
          "output_type": "execute_result",
          "data": {
            "text/html": [
              "<div>\n",
              "<style scoped>\n",
              "    .dataframe tbody tr th:only-of-type {\n",
              "        vertical-align: middle;\n",
              "    }\n",
              "\n",
              "    .dataframe tbody tr th {\n",
              "        vertical-align: top;\n",
              "    }\n",
              "\n",
              "    .dataframe thead th {\n",
              "        text-align: right;\n",
              "    }\n",
              "</style>\n",
              "<table border=\"1\" class=\"dataframe\">\n",
              "  <thead>\n",
              "    <tr style=\"text-align: right;\">\n",
              "      <th></th>\n",
              "      <th>index</th>\n",
              "      <th>Mthly_HH_Income</th>\n",
              "      <th>Mthly_HH_Expense</th>\n",
              "      <th>No_of_Fly_Members</th>\n",
              "      <th>Emi_or_Rent_Amt</th>\n",
              "      <th>Annual_HH_Income</th>\n",
              "      <th>Highest_Qualified_Member</th>\n",
              "      <th>No_of_Earning_Members</th>\n",
              "      <th>count</th>\n",
              "    </tr>\n",
              "  </thead>\n",
              "  <tbody>\n",
              "    <tr>\n",
              "      <th>0</th>\n",
              "      <td>0</td>\n",
              "      <td>5000</td>\n",
              "      <td>8000</td>\n",
              "      <td>3</td>\n",
              "      <td>2000</td>\n",
              "      <td>64200</td>\n",
              "      <td>Under-Graduate</td>\n",
              "      <td>1</td>\n",
              "      <td>1</td>\n",
              "    </tr>\n",
              "    <tr>\n",
              "      <th>1</th>\n",
              "      <td>1</td>\n",
              "      <td>6000</td>\n",
              "      <td>7000</td>\n",
              "      <td>2</td>\n",
              "      <td>3000</td>\n",
              "      <td>79920</td>\n",
              "      <td>Illiterate</td>\n",
              "      <td>1</td>\n",
              "      <td>2</td>\n",
              "    </tr>\n",
              "    <tr>\n",
              "      <th>2</th>\n",
              "      <td>3</td>\n",
              "      <td>10000</td>\n",
              "      <td>2000</td>\n",
              "      <td>1</td>\n",
              "      <td>0</td>\n",
              "      <td>97200</td>\n",
              "      <td>Illiterate</td>\n",
              "      <td>1</td>\n",
              "      <td>3</td>\n",
              "    </tr>\n",
              "    <tr>\n",
              "      <th>3</th>\n",
              "      <td>2</td>\n",
              "      <td>10000</td>\n",
              "      <td>4500</td>\n",
              "      <td>2</td>\n",
              "      <td>0</td>\n",
              "      <td>112800</td>\n",
              "      <td>Under-Graduate</td>\n",
              "      <td>1</td>\n",
              "      <td>4</td>\n",
              "    </tr>\n",
              "    <tr>\n",
              "      <th>4</th>\n",
              "      <td>4</td>\n",
              "      <td>12500</td>\n",
              "      <td>12000</td>\n",
              "      <td>2</td>\n",
              "      <td>3000</td>\n",
              "      <td>147000</td>\n",
              "      <td>Graduate</td>\n",
              "      <td>1</td>\n",
              "      <td>5</td>\n",
              "    </tr>\n",
              "  </tbody>\n",
              "</table>\n",
              "</div>"
            ],
            "text/plain": [
              "   index  Mthly_HH_Income  ...  No_of_Earning_Members  count\n",
              "0      0             5000  ...                      1      1\n",
              "1      1             6000  ...                      1      2\n",
              "2      3            10000  ...                      1      3\n",
              "3      2            10000  ...                      1      4\n",
              "4      4            12500  ...                      1      5\n",
              "\n",
              "[5 rows x 9 columns]"
            ]
          },
          "metadata": {
            "tags": []
          },
          "execution_count": 53
        }
      ]
    },
    {
      "cell_type": "code",
      "metadata": {
        "id": "0CUtK9r2xDh-"
      },
      "source": [
        "n_rows=df.shape[0]"
      ],
      "execution_count": 54,
      "outputs": []
    },
    {
      "cell_type": "code",
      "metadata": {
        "id": "dgJf0fV2xKLO"
      },
      "source": [
        "df['percentile_area']=(df['count'])/n_rows"
      ],
      "execution_count": 55,
      "outputs": []
    },
    {
      "cell_type": "code",
      "metadata": {
        "id": "s9Q5OMyHxhJS"
      },
      "source": [
        "df['z_theoritical']=ndtri(df['percentile_area'])"
      ],
      "execution_count": 56,
      "outputs": []
    },
    {
      "cell_type": "code",
      "metadata": {
        "id": "uIi9fp6cyycP"
      },
      "source": [
        "df['z_actual']=(df['Annual_HH_Income'] - df['Annual_HH_Income'].mean())/df['Annual_HH_Income'].std(ddof=0)"
      ],
      "execution_count": 58,
      "outputs": []
    },
    {
      "cell_type": "code",
      "metadata": {
        "colab": {
          "base_uri": "https://localhost:8080/",
          "height": 183
        },
        "id": "2Cjan6Ne0-hj",
        "outputId": "666c9420-d619-41ee-99aa-c62c26b7c829"
      },
      "source": [
        "df.head()"
      ],
      "execution_count": 59,
      "outputs": [
        {
          "output_type": "execute_result",
          "data": {
            "text/html": [
              "<div>\n",
              "<style scoped>\n",
              "    .dataframe tbody tr th:only-of-type {\n",
              "        vertical-align: middle;\n",
              "    }\n",
              "\n",
              "    .dataframe tbody tr th {\n",
              "        vertical-align: top;\n",
              "    }\n",
              "\n",
              "    .dataframe thead th {\n",
              "        text-align: right;\n",
              "    }\n",
              "</style>\n",
              "<table border=\"1\" class=\"dataframe\">\n",
              "  <thead>\n",
              "    <tr style=\"text-align: right;\">\n",
              "      <th></th>\n",
              "      <th>index</th>\n",
              "      <th>Mthly_HH_Income</th>\n",
              "      <th>Mthly_HH_Expense</th>\n",
              "      <th>No_of_Fly_Members</th>\n",
              "      <th>Emi_or_Rent_Amt</th>\n",
              "      <th>Annual_HH_Income</th>\n",
              "      <th>Highest_Qualified_Member</th>\n",
              "      <th>No_of_Earning_Members</th>\n",
              "      <th>count</th>\n",
              "      <th>percentile_area</th>\n",
              "      <th>z_theoritical</th>\n",
              "      <th>z_actual</th>\n",
              "    </tr>\n",
              "  </thead>\n",
              "  <tbody>\n",
              "    <tr>\n",
              "      <th>0</th>\n",
              "      <td>0</td>\n",
              "      <td>5000</td>\n",
              "      <td>8000</td>\n",
              "      <td>3</td>\n",
              "      <td>2000</td>\n",
              "      <td>64200</td>\n",
              "      <td>Under-Graduate</td>\n",
              "      <td>1</td>\n",
              "      <td>1</td>\n",
              "      <td>0.02</td>\n",
              "      <td>-2.053749</td>\n",
              "      <td>-1.343624</td>\n",
              "    </tr>\n",
              "    <tr>\n",
              "      <th>1</th>\n",
              "      <td>1</td>\n",
              "      <td>6000</td>\n",
              "      <td>7000</td>\n",
              "      <td>2</td>\n",
              "      <td>3000</td>\n",
              "      <td>79920</td>\n",
              "      <td>Illiterate</td>\n",
              "      <td>1</td>\n",
              "      <td>2</td>\n",
              "      <td>0.04</td>\n",
              "      <td>-1.750686</td>\n",
              "      <td>-1.294021</td>\n",
              "    </tr>\n",
              "    <tr>\n",
              "      <th>2</th>\n",
              "      <td>3</td>\n",
              "      <td>10000</td>\n",
              "      <td>2000</td>\n",
              "      <td>1</td>\n",
              "      <td>0</td>\n",
              "      <td>97200</td>\n",
              "      <td>Illiterate</td>\n",
              "      <td>1</td>\n",
              "      <td>3</td>\n",
              "      <td>0.06</td>\n",
              "      <td>-1.554774</td>\n",
              "      <td>-1.239496</td>\n",
              "    </tr>\n",
              "    <tr>\n",
              "      <th>3</th>\n",
              "      <td>2</td>\n",
              "      <td>10000</td>\n",
              "      <td>4500</td>\n",
              "      <td>2</td>\n",
              "      <td>0</td>\n",
              "      <td>112800</td>\n",
              "      <td>Under-Graduate</td>\n",
              "      <td>1</td>\n",
              "      <td>4</td>\n",
              "      <td>0.08</td>\n",
              "      <td>-1.405072</td>\n",
              "      <td>-1.190272</td>\n",
              "    </tr>\n",
              "    <tr>\n",
              "      <th>4</th>\n",
              "      <td>4</td>\n",
              "      <td>12500</td>\n",
              "      <td>12000</td>\n",
              "      <td>2</td>\n",
              "      <td>3000</td>\n",
              "      <td>147000</td>\n",
              "      <td>Graduate</td>\n",
              "      <td>1</td>\n",
              "      <td>5</td>\n",
              "      <td>0.10</td>\n",
              "      <td>-1.281552</td>\n",
              "      <td>-1.082358</td>\n",
              "    </tr>\n",
              "  </tbody>\n",
              "</table>\n",
              "</div>"
            ],
            "text/plain": [
              "   index  Mthly_HH_Income  ...  z_theoritical  z_actual\n",
              "0      0             5000  ...      -2.053749 -1.343624\n",
              "1      1             6000  ...      -1.750686 -1.294021\n",
              "2      3            10000  ...      -1.554774 -1.239496\n",
              "3      2            10000  ...      -1.405072 -1.190272\n",
              "4      4            12500  ...      -1.281552 -1.082358\n",
              "\n",
              "[5 rows x 12 columns]"
            ]
          },
          "metadata": {
            "tags": []
          },
          "execution_count": 59
        }
      ]
    },
    {
      "cell_type": "code",
      "metadata": {
        "colab": {
          "base_uri": "https://localhost:8080/",
          "height": 279
        },
        "id": "WnwUKzyK1JNj",
        "outputId": "7254601c-ace6-4a45-c003-802173cae042"
      },
      "source": [
        "plt.scatter(df.z_actual,df.z_theoritical)\n",
        "plt.plot([-2,-1,0,1,2],[-2,-1,0,1,2])"
      ],
      "execution_count": 60,
      "outputs": [
        {
          "output_type": "execute_result",
          "data": {
            "text/plain": [
              "[<matplotlib.lines.Line2D at 0x7fda66a846d0>]"
            ]
          },
          "metadata": {
            "tags": []
          },
          "execution_count": 60
        },
        {
          "output_type": "display_data",
          "data": {
            "image/png": "[encoded data removed]",
            "text/plain": [
              "<Figure size 432x288 with 1 Axes>"
            ]
          },
          "metadata": {
            "tags": [],
            "needs_background": "light"
          }
        }
      ]
    },
    {
      "cell_type": "markdown",
      "metadata": {
        "id": "Y9FDRNeSz94e"
      },
      "source": [
        "#Box Cox"
      ]
    },
    {
      "cell_type": "markdown",
      "metadata": {
        "id": "M8PTbrmA0Lqg"
      },
      "source": [
        "A Box Cox transformation is a transformation of a non-normal dependent variables into a normal shape. Normality is an important assumption for many statistical techniques; if your data isn’t normal, applying a Box-Cox means that you are able to run a broader number of tests."
      ]
    },
    {
      "cell_type": "code",
      "metadata": {
        "colab": {
          "base_uri": "https://localhost:8080/",
          "height": 264
        },
        "id": "k0WLuCmq8KEh",
        "outputId": "e1792f48-839c-4286-8500-f9912bc64f5b"
      },
      "source": [
        "data.describe()"
      ],
      "execution_count": 65,
      "outputs": [
        {
          "output_type": "execute_result",
          "data": {
            "text/html": [
              "<div>\n",
              "<style scoped>\n",
              "    .dataframe tbody tr th:only-of-type {\n",
              "        vertical-align: middle;\n",
              "    }\n",
              "\n",
              "    .dataframe tbody tr th {\n",
              "        vertical-align: top;\n",
              "    }\n",
              "\n",
              "    .dataframe thead th {\n",
              "        text-align: right;\n",
              "    }\n",
              "</style>\n",
              "<table border=\"1\" class=\"dataframe\">\n",
              "  <thead>\n",
              "    <tr style=\"text-align: right;\">\n",
              "      <th></th>\n",
              "      <th>Mthly_HH_Income</th>\n",
              "      <th>Mthly_HH_Expense</th>\n",
              "      <th>No_of_Fly_Members</th>\n",
              "      <th>Emi_or_Rent_Amt</th>\n",
              "      <th>Annual_HH_Income</th>\n",
              "      <th>No_of_Earning_Members</th>\n",
              "    </tr>\n",
              "  </thead>\n",
              "  <tbody>\n",
              "    <tr>\n",
              "      <th>count</th>\n",
              "      <td>50.000000</td>\n",
              "      <td>50.000000</td>\n",
              "      <td>50.000000</td>\n",
              "      <td>50.000000</td>\n",
              "      <td>5.000000e+01</td>\n",
              "      <td>50.000000</td>\n",
              "    </tr>\n",
              "    <tr>\n",
              "      <th>mean</th>\n",
              "      <td>41558.000000</td>\n",
              "      <td>18818.000000</td>\n",
              "      <td>4.060000</td>\n",
              "      <td>3060.000000</td>\n",
              "      <td>4.900190e+05</td>\n",
              "      <td>1.460000</td>\n",
              "    </tr>\n",
              "    <tr>\n",
              "      <th>std</th>\n",
              "      <td>26097.908979</td>\n",
              "      <td>12090.216824</td>\n",
              "      <td>1.517382</td>\n",
              "      <td>6241.434948</td>\n",
              "      <td>3.201358e+05</td>\n",
              "      <td>0.734291</td>\n",
              "    </tr>\n",
              "    <tr>\n",
              "      <th>min</th>\n",
              "      <td>5000.000000</td>\n",
              "      <td>2000.000000</td>\n",
              "      <td>1.000000</td>\n",
              "      <td>0.000000</td>\n",
              "      <td>6.420000e+04</td>\n",
              "      <td>1.000000</td>\n",
              "    </tr>\n",
              "    <tr>\n",
              "      <th>25%</th>\n",
              "      <td>23550.000000</td>\n",
              "      <td>10000.000000</td>\n",
              "      <td>3.000000</td>\n",
              "      <td>0.000000</td>\n",
              "      <td>2.587500e+05</td>\n",
              "      <td>1.000000</td>\n",
              "    </tr>\n",
              "    <tr>\n",
              "      <th>50%</th>\n",
              "      <td>35000.000000</td>\n",
              "      <td>15500.000000</td>\n",
              "      <td>4.000000</td>\n",
              "      <td>0.000000</td>\n",
              "      <td>4.474200e+05</td>\n",
              "      <td>1.000000</td>\n",
              "    </tr>\n",
              "    <tr>\n",
              "      <th>75%</th>\n",
              "      <td>50375.000000</td>\n",
              "      <td>25000.000000</td>\n",
              "      <td>5.000000</td>\n",
              "      <td>3500.000000</td>\n",
              "      <td>5.947200e+05</td>\n",
              "      <td>2.000000</td>\n",
              "    </tr>\n",
              "    <tr>\n",
              "      <th>max</th>\n",
              "      <td>100000.000000</td>\n",
              "      <td>50000.000000</td>\n",
              "      <td>7.000000</td>\n",
              "      <td>35000.000000</td>\n",
              "      <td>1.404000e+06</td>\n",
              "      <td>4.000000</td>\n",
              "    </tr>\n",
              "  </tbody>\n",
              "</table>\n",
              "</div>"
            ],
            "text/plain": [
              "       Mthly_HH_Income  ...  No_of_Earning_Members\n",
              "count        50.000000  ...              50.000000\n",
              "mean      41558.000000  ...               1.460000\n",
              "std       26097.908979  ...               0.734291\n",
              "min        5000.000000  ...               1.000000\n",
              "25%       23550.000000  ...               1.000000\n",
              "50%       35000.000000  ...               1.000000\n",
              "75%       50375.000000  ...               2.000000\n",
              "max      100000.000000  ...               4.000000\n",
              "\n",
              "[8 rows x 6 columns]"
            ]
          },
          "metadata": {
            "tags": []
          },
          "execution_count": 65
        }
      ]
    },
    {
      "cell_type": "code",
      "metadata": {
        "id": "SioaBVhQ_Syn"
      },
      "source": [
        "data=data.drop('Emi_or_Rent_Amt',axis=1)"
      ],
      "execution_count": null,
      "outputs": []
    },
    {
      "cell_type": "code",
      "metadata": {
        "id": "P7lfj0LqAjDS"
      },
      "source": [
        "data=data.drop('Highest_Qualified_Member',axis=1)"
      ],
      "execution_count": 75,
      "outputs": []
    },
    {
      "cell_type": "code",
      "metadata": {
        "colab": {
          "base_uri": "https://localhost:8080/",
          "height": 183
        },
        "id": "3DoTPHXDA5Nr",
        "outputId": "6174764f-81ff-45fd-a5a7-df203931e291"
      },
      "source": [
        "data.head()"
      ],
      "execution_count": 77,
      "outputs": [
        {
          "output_type": "execute_result",
          "data": {
            "text/html": [
              "<div>\n",
              "<style scoped>\n",
              "    .dataframe tbody tr th:only-of-type {\n",
              "        vertical-align: middle;\n",
              "    }\n",
              "\n",
              "    .dataframe tbody tr th {\n",
              "        vertical-align: top;\n",
              "    }\n",
              "\n",
              "    .dataframe thead th {\n",
              "        text-align: right;\n",
              "    }\n",
              "</style>\n",
              "<table border=\"1\" class=\"dataframe\">\n",
              "  <thead>\n",
              "    <tr style=\"text-align: right;\">\n",
              "      <th></th>\n",
              "      <th>Mthly_HH_Income</th>\n",
              "      <th>Mthly_HH_Expense</th>\n",
              "      <th>No_of_Fly_Members</th>\n",
              "      <th>Annual_HH_Income</th>\n",
              "      <th>No_of_Earning_Members</th>\n",
              "    </tr>\n",
              "  </thead>\n",
              "  <tbody>\n",
              "    <tr>\n",
              "      <th>0</th>\n",
              "      <td>5000</td>\n",
              "      <td>8000</td>\n",
              "      <td>3</td>\n",
              "      <td>64200</td>\n",
              "      <td>1</td>\n",
              "    </tr>\n",
              "    <tr>\n",
              "      <th>1</th>\n",
              "      <td>6000</td>\n",
              "      <td>7000</td>\n",
              "      <td>2</td>\n",
              "      <td>79920</td>\n",
              "      <td>1</td>\n",
              "    </tr>\n",
              "    <tr>\n",
              "      <th>2</th>\n",
              "      <td>10000</td>\n",
              "      <td>4500</td>\n",
              "      <td>2</td>\n",
              "      <td>112800</td>\n",
              "      <td>1</td>\n",
              "    </tr>\n",
              "    <tr>\n",
              "      <th>3</th>\n",
              "      <td>10000</td>\n",
              "      <td>2000</td>\n",
              "      <td>1</td>\n",
              "      <td>97200</td>\n",
              "      <td>1</td>\n",
              "    </tr>\n",
              "    <tr>\n",
              "      <th>4</th>\n",
              "      <td>12500</td>\n",
              "      <td>12000</td>\n",
              "      <td>2</td>\n",
              "      <td>147000</td>\n",
              "      <td>1</td>\n",
              "    </tr>\n",
              "  </tbody>\n",
              "</table>\n",
              "</div>"
            ],
            "text/plain": [
              "   Mthly_HH_Income  Mthly_HH_Expense  ...  Annual_HH_Income  No_of_Earning_Members\n",
              "0             5000              8000  ...             64200                      1\n",
              "1             6000              7000  ...             79920                      1\n",
              "2            10000              4500  ...            112800                      1\n",
              "3            10000              2000  ...             97200                      1\n",
              "4            12500             12000  ...            147000                      1\n",
              "\n",
              "[5 rows x 5 columns]"
            ]
          },
          "metadata": {
            "tags": []
          },
          "execution_count": 77
        }
      ]
    },
    {
      "cell_type": "code",
      "metadata": {
        "id": "H-b7sR679Bkv"
      },
      "source": [
        "%matplotlib inline\n",
        "from sklearn.preprocessing import PowerTransformer"
      ],
      "execution_count": 76,
      "outputs": []
    },
    {
      "cell_type": "code",
      "metadata": {
        "id": "sCgUDVfP8_lK"
      },
      "source": [
        "def plots(d,var,t):\n",
        "  plt.figure(figsize=(13,5))\n",
        "  plt.subplot(121)\n",
        "  sns.kdeplot(d[var])\n",
        "  plt.title('beforee'+str(t).split(' ')[0])\n",
        "\n",
        "  plt.subplot(122)\n",
        "  p1=t.fit_transform(d[[var]]).flatten()\n",
        "  sns.kdeplot(p1)\n",
        "  plt.title('after'+str(t).split('(')[0])"
      ],
      "execution_count": 68,
      "outputs": []
    },
    {
      "cell_type": "code",
      "metadata": {
        "colab": {
          "base_uri": "https://localhost:8080/",
          "height": 1000
        },
        "id": "krIP2CJV8Y0F",
        "outputId": "953ecf1a-2b10-4bfd-cca1-b882352fc4ac"
      },
      "source": [
        "for col in data.columns:\n",
        "  plots(data,col,PowerTransformer(method='box-cox'))"
      ],
      "execution_count": 78,
      "outputs": [
        {
          "output_type": "display_data",
          "data": {
            "image/png": "[encoded data removed]",
            "text/plain": [
              "<Figure size 936x360 with 2 Axes>"
            ]
          },
          "metadata": {
            "tags": [],
            "needs_background": "light"
          }
        },
        {
          "output_type": "display_data",
          "data": {
            "image/png": "[encoded data removed]",
            "text/plain": [
              "<Figure size 936x360 with 2 Axes>"
            ]
          },
          "metadata": {
            "tags": [],
            "needs_background": "light"
          }
        },
        {
          "output_type": "display_data",
          "data": {
            "image/png": "[encoded data removed]",
            "text/plain": [
              "<Figure size 936x360 with 2 Axes>"
            ]
          },
          "metadata": {
            "tags": [],
            "needs_background": "light"
          }
        },
        {
          "output_type": "display_data",
          "data": {
            "image/png": "[encoded data removed]",
            "text/plain": [
              "<Figure size 936x360 with 2 Axes>"
            ]
          },
          "metadata": {
            "tags": [],
            "needs_background": "light"
          }
        },
        {
          "output_type": "display_data",
          "data": {
            "image/png": "[encoded data removed]",
            "text/plain": [
              "<Figure size 936x360 with 2 Axes>"
            ]
          },
          "metadata": {
            "tags": [],
            "needs_background": "light"
          }
        }
      ]
    }
  ]
}