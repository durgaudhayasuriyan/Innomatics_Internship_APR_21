{
  "nbformat": 4,
  "nbformat_minor": 0,
  "metadata": {
    "colab": {
      "name": "Task - 6 (Numpy).ipynb",
      "provenance": []
    },
    "kernelspec": {
      "name": "python3",
      "display_name": "Python 3"
    },
    "language_info": {
      "name": "python"
    }
  },
  "cells": [
    {
      "cell_type": "code",
      "metadata": {
        "id": "dazYSbU32eHC"
      },
      "source": [
        "#question 1\n",
        "def arrays(arr):\n",
        "    return numpy.array((arr)[::-1],float)"
      ],
      "execution_count": null,
      "outputs": []
    },
    {
      "cell_type": "code",
      "metadata": {
        "id": "u7kjP9ER21p6"
      },
      "source": [
        "#question 2\n",
        "import numpy\n",
        "n=input().strip().split(' ')\n",
        "d=numpy.array(n,dtype=int)\n",
        "c=numpy.reshape(d,(3,3))\n",
        "print(c)"
      ],
      "execution_count": null,
      "outputs": []
    },
    {
      "cell_type": "code",
      "metadata": {
        "id": "YTaABa803ED9"
      },
      "source": [
        "#question 3\n",
        "import numpy\n",
        "a=[]\n",
        "n,m=map(int,input().split(' '))\n",
        "for i in range(n):\n",
        "  b=input().split(' ')\n",
        "  a.append(b)\n",
        "c=numpy.array(a,dtype=int)\n",
        "print(numpy.transpose(c))\n",
        "print(c.flatten())"
      ],
      "execution_count": null,
      "outputs": []
    },
    {
      "cell_type": "code",
      "metadata": {
        "id": "GI-hynkj3PIK"
      },
      "source": [
        "#question 4\n",
        "import numpy\n",
        "N,M,P=map(int,input().split(' '))\n",
        "a=[]\n",
        "for i in range(N):\n",
        "  b=input().split(' ')\n",
        "  a.append(b)\n",
        "c=numpy.array(a,dtype=int)\n",
        "d=[]\n",
        "for i in range(M):\n",
        "  e=input().split(' ')\n",
        "  d.append(e)\n",
        "g=numpy.array(d,dtype=int)\n",
        "v=numpy.concatenate((c,g),axis=0)\n",
        "print(v)"
      ],
      "execution_count": null,
      "outputs": []
    },
    {
      "cell_type": "code",
      "metadata": {
        "id": "i3J4T9_K3dUC"
      },
      "source": [
        "#question 5\n",
        "import numpy\n",
        "nums = list(map(int, input().split()))\n",
        "print (numpy.zeros(nums, dtype = numpy.int))\n",
        "print (numpy.ones(nums, dtype = numpy.int))"
      ],
      "execution_count": null,
      "outputs": []
    },
    {
      "cell_type": "code",
      "metadata": {
        "id": "Le1-JDZP3peh"
      },
      "source": [
        "#question 6\n",
        "import numpy\n",
        "\n",
        "numpy.set_printoptions(sign=' ')\n",
        "print(numpy.eye(*map(int, input().split())))\n"
      ],
      "execution_count": null,
      "outputs": []
    },
    {
      "cell_type": "code",
      "metadata": {
        "id": "d4fXUmvi31f2"
      },
      "source": [
        "#question 7\n",
        "import numpy\n",
        "\n",
        "\n",
        "N,M=map(int,input().split(' '))\n",
        "v=[]\n",
        "s=[]\n",
        "for i in range(N):\n",
        "  c=input().split(' ')\n",
        "  v.append(c)\n",
        "a=numpy.array(v,dtype=int)\n",
        "for i in range(N):\n",
        "  d=input().split(' ')\n",
        "  s.append(d)\n",
        "b=numpy.array(s,dtype=int)\n",
        "print(a+b)\n",
        "print(a-b)\n",
        "print(a*b)\n",
        "print(a//b)\n",
        "print(a%b)\n",
        "print(a**b)\n"
      ],
      "execution_count": null,
      "outputs": []
    },
    {
      "cell_type": "code",
      "metadata": {
        "id": "3uDa2CVQ4Cq4"
      },
      "source": [
        "#question 8\n",
        "import numpy\n",
        "\n",
        "numpy.set_printoptions(legacy='1.13')\n",
        "a=numpy.array(input().split(' '),float)\n",
        "print(numpy.floor(a))\n",
        "print(numpy.ceil(a))\n",
        "print(numpy.rint(a))\n"
      ],
      "execution_count": null,
      "outputs": []
    },
    {
      "cell_type": "code",
      "metadata": {
        "id": "ga0_Zc6j4OAA"
      },
      "source": [
        "#question 9\n",
        "import numpy\n",
        "\n",
        "\n",
        "\n",
        "N,M=map(int,input().split(' '))\n",
        "a=[]\n",
        "for i in range(N):\n",
        "    c=input().split(' ')\n",
        "    a.append(c)\n",
        "v=numpy.array(a,dtype=int)\n",
        "b=numpy.sum(v,axis=0)\n",
        "print(numpy.prod(b))\n"
      ],
      "execution_count": null,
      "outputs": []
    },
    {
      "cell_type": "code",
      "metadata": {
        "id": "c4fTQRpR4YEm"
      },
      "source": [
        "#question 10\n",
        "import numpy\n",
        "\n",
        "N,M=map(int,input().split(' '))\n",
        "a=[]\n",
        "for i in range(N):\n",
        "    c=input().split(' ')\n",
        "    a.append(c)\n",
        "v=numpy.array(a,dtype=int)\n",
        "min=numpy.min(v,axis=1)\n",
        "print(max(min))"
      ],
      "execution_count": null,
      "outputs": []
    },
    {
      "cell_type": "code",
      "metadata": {
        "id": "Ubljob0w4iKa"
      },
      "source": [
        "#question 11\n",
        "import numpy\n",
        "\n",
        "nm = input().split()\n",
        "n = int(nm[0])\n",
        "m = int(nm[1])\n",
        "arr = []\n",
        "for i in range(n):\n",
        "    m = list(map(int, input().split()))\n",
        "    arr.append(m)\n",
        "arr = numpy.array(arr)\n",
        "\n",
        "mean = numpy.mean(arr, axis = 1)\n",
        "var = numpy.var(arr, axis = 0)\n",
        "std = numpy.std(arr)\n",
        "\n",
        "print(mean)\n",
        "print(var)\n",
        "\n",
        "rnd = numpy.around(std, 11)\n",
        "print(rnd)\n"
      ],
      "execution_count": null,
      "outputs": []
    },
    {
      "cell_type": "code",
      "metadata": {
        "id": "CLhfisrY4wY-"
      },
      "source": [
        "#question 12\n",
        "import numpy\n",
        "\n",
        "import numpy\n",
        "n=int(input())\n",
        "A=[]\n",
        "B=[]\n",
        "for i in range(n):\n",
        "  c=list(map(int,input().split(' ')))\n",
        "  A.append(c)\n",
        "for j in range(n):\n",
        "  d=list(map(int,input().split(' ')))\n",
        "  B.append(d)\n",
        "print(numpy.dot(A,B))"
      ],
      "execution_count": null,
      "outputs": []
    },
    {
      "cell_type": "code",
      "metadata": {
        "id": "YN6MNl-u4-Bn"
      },
      "source": [
        "#question 13\n",
        "import numpy\n",
        "\n",
        "A=list(map(int,input().split(' ')))\n",
        "B=list(map(int,input().split(' ')))\n",
        "print(numpy.inner(A, B))\n",
        "print(numpy.outer(A, B))\n"
      ],
      "execution_count": null,
      "outputs": []
    },
    {
      "cell_type": "code",
      "metadata": {
        "id": "_UfBHeWK5KQw"
      },
      "source": [
        "#question 14\n",
        "import numpy\n",
        "p=list(map(float,input().split(' ')))\n",
        "x=int(input())\n",
        "print(numpy.polyval(p,x))"
      ],
      "execution_count": null,
      "outputs": []
    },
    {
      "cell_type": "code",
      "metadata": {
        "id": "xCnrxN4a5YKu"
      },
      "source": [
        "#question 15\n",
        "import numpy\n",
        "n=int(input())\n",
        "A=[]\n",
        "for i in range(n):\n",
        "  A.append(list(map(float,input().split(' '))))\n",
        "c=numpy.linalg.det(A)\n",
        "print(round(c,2))"
      ],
      "execution_count": null,
      "outputs": []
    }
  ]
}