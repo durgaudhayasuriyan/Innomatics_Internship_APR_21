{
  "nbformat": 4,
  "nbformat_minor": 0,
  "metadata": {
    "colab": {
      "name": "Task - 1 (Python Programming).ipynb",
      "provenance": []
    },
    "kernelspec": {
      "name": "python3",
      "display_name": "Python 3"
    },
    "language_info": {
      "name": "python"
    }
  },
  "cells": [
    {
      "cell_type": "code",
      "metadata": {
        "colab": {
          "base_uri": "https://localhost:8080/"
        },
        "id": "Gm19APqAeYVn",
        "outputId": "d4b27d88-f404-488e-d2b4-9246965c0a26"
      },
      "source": [
        "#question 1\n",
        "print(\"Hello, World!\")"
      ],
      "execution_count": null,
      "outputs": [
        {
          "output_type": "stream",
          "text": [
            "Hello, World!\n"
          ],
          "name": "stdout"
        }
      ]
    },
    {
      "cell_type": "code",
      "metadata": {
        "colab": {
          "base_uri": "https://localhost:8080/"
        },
        "id": "gGZe_CEFlouz",
        "outputId": "cde59bc7-7d83-4043-a2f7-cc0767fe99d5"
      },
      "source": [
        "#question 2\n",
        "if __name__ == '__main__':\n",
        "    n = int(input().strip())\n",
        "    if n%2!=0:\n",
        "        print('Weird')\n",
        "    elif n%2==0 and 2<=n<=5:\n",
        "        print('Not Weird')\n",
        "    elif n%2==0 and 6<=n<=20:\n",
        "        print('Weird')\n",
        "    else:\n",
        "        print('Not Weird')"
      ],
      "execution_count": null,
      "outputs": [
        {
          "output_type": "stream",
          "text": [
            "5\n",
            "Weird\n"
          ],
          "name": "stdout"
        }
      ]
    },
    {
      "cell_type": "code",
      "metadata": {
        "colab": {
          "base_uri": "https://localhost:8080/"
        },
        "id": "aLkrn1P6nLSY",
        "outputId": "ac14ad70-5a1b-4fc4-e8b7-e14fbb12c582"
      },
      "source": [
        "#question 3\n",
        "if __name__ == '__main__':\n",
        "    a = int(input())\n",
        "    b = int(input())\n",
        "    print(a+b)\n",
        "    print(a-b)\n",
        "    print(a*b)"
      ],
      "execution_count": null,
      "outputs": [
        {
          "output_type": "stream",
          "text": [
            "5\n",
            "2\n",
            "7\n",
            "3\n",
            "10\n"
          ],
          "name": "stdout"
        }
      ]
    },
    {
      "cell_type": "code",
      "metadata": {
        "colab": {
          "base_uri": "https://localhost:8080/"
        },
        "id": "ZY9H9l9doZ_r",
        "outputId": "b8178d16-00e9-4833-bce6-0ce1cd63575e"
      },
      "source": [
        "#question 4\n",
        "if __name__ == '__main__':\n",
        "    a = int(input())\n",
        "    b = int(input())\n",
        "    print(a//b)\n",
        "    print(a/b)"
      ],
      "execution_count": null,
      "outputs": [
        {
          "output_type": "stream",
          "text": [
            "5\n",
            "2\n",
            "2\n",
            "2.5\n"
          ],
          "name": "stdout"
        }
      ]
    },
    {
      "cell_type": "code",
      "metadata": {
        "colab": {
          "base_uri": "https://localhost:8080/"
        },
        "id": "-9IAA6bkogcx",
        "outputId": "690448ba-7186-4ae3-a247-40ae61b08ca2"
      },
      "source": [
        "#question 5\n",
        "if __name__ == '__main__':\n",
        "    n = int(input())\n",
        "    i=0\n",
        "    while i<n:\n",
        "        print(i*i)\n",
        "        i+=1 "
      ],
      "execution_count": null,
      "outputs": [
        {
          "output_type": "stream",
          "text": [
            "5\n",
            "0\n",
            "1\n",
            "4\n",
            "9\n",
            "16\n"
          ],
          "name": "stdout"
        }
      ]
    },
    {
      "cell_type": "code",
      "metadata": {
        "colab": {
          "base_uri": "https://localhost:8080/"
        },
        "id": "O_tF6piovhWo",
        "outputId": "fb459aed-28d2-48f1-caf1-27d5bf1f3539"
      },
      "source": [
        "#question 6\n",
        "def is_leap(year):\n",
        "  if year ==2100:\n",
        "    return False\n",
        "  elif year%4==0:\n",
        "    return True\n",
        "  elif year%400==0:\n",
        "    return True\n",
        "  else:\n",
        "    return False\n",
        "\n",
        "year = int(input())\n",
        "print(is_leap(year))"
      ],
      "execution_count": null,
      "outputs": [
        {
          "output_type": "stream",
          "text": [
            "2100\n",
            "False\n"
          ],
          "name": "stdout"
        }
      ]
    },
    {
      "cell_type": "code",
      "metadata": {
        "colab": {
          "base_uri": "https://localhost:8080/"
        },
        "id": "O-iMRIwcgUWY",
        "outputId": "c4360517-232d-4e99-f5f0-2cf99a6bb8eb"
      },
      "source": [
        "#quesrtion 7\n",
        "if __name__ == '__main__':\n",
        "    n = int(input())\n",
        "    for i in range(1,n+1):\n",
        "        print(i,end='')"
      ],
      "execution_count": null,
      "outputs": [
        {
          "output_type": "stream",
          "text": [
            "5\n",
            "12345"
          ],
          "name": "stdout"
        }
      ]
    }
  ]
}