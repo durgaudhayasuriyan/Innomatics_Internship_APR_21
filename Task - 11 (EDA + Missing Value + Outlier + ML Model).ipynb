{
  "nbformat": 4,
  "nbformat_minor": 0,
  "metadata": {
    "colab": {
      "name": "Task - 11 (EDA + Missing Value + Outlier + ML Model).ipynb",
      "provenance": []
    },
    "kernelspec": {
      "name": "python3",
      "display_name": "Python 3"
    },
    "language_info": {
      "name": "python"
    }
  },
  "cells": [
    {
      "cell_type": "markdown",
      "metadata": {
        "id": "sGAXlHtd2ODM"
      },
      "source": [
        "#introduction\n",
        " we have adult income dataset. we have to fit the best model for this data."
      ]
    },
    {
      "cell_type": "code",
      "metadata": {
        "id": "ttdQFUTA2Obm"
      },
      "source": [
        "import numpy as np\n",
        "import pandas as pd\n",
        "import matplotlib.pyplot as plt\n",
        "import seaborn as sns\n",
        "import warnings\n",
        "warnings.filterwarnings('ignore')"
      ],
      "execution_count": 12,
      "outputs": []
    },
    {
      "cell_type": "code",
      "metadata": {
        "colab": {
          "base_uri": "https://localhost:8080/",
          "height": 675
        },
        "id": "L_lWQ6852Z82",
        "outputId": "461ab657-68d7-4a2b-ccc5-7b6dbe942cf4"
      },
      "source": [
        "data=pd.read_csv('/content/adult - adult.csv')\n",
        "data.head(10)"
      ],
      "execution_count": 13,
      "outputs": [
        {
          "output_type": "execute_result",
          "data": {
            "text/html": [
              "<div>\n",
              "<style scoped>\n",
              "    .dataframe tbody tr th:only-of-type {\n",
              "        vertical-align: middle;\n",
              "    }\n",
              "\n",
              "    .dataframe tbody tr th {\n",
              "        vertical-align: top;\n",
              "    }\n",
              "\n",
              "    .dataframe thead th {\n",
              "        text-align: right;\n",
              "    }\n",
              "</style>\n",
              "<table border=\"1\" class=\"dataframe\">\n",
              "  <thead>\n",
              "    <tr style=\"text-align: right;\">\n",
              "      <th></th>\n",
              "      <th>age</th>\n",
              "      <th>workclass</th>\n",
              "      <th>fnlwgt</th>\n",
              "      <th>education</th>\n",
              "      <th>educational-num</th>\n",
              "      <th>marital-status</th>\n",
              "      <th>occupation</th>\n",
              "      <th>relationship</th>\n",
              "      <th>race</th>\n",
              "      <th>gender</th>\n",
              "      <th>capital-gain</th>\n",
              "      <th>capital-loss</th>\n",
              "      <th>hours-per-week</th>\n",
              "      <th>native-country</th>\n",
              "      <th>income</th>\n",
              "    </tr>\n",
              "  </thead>\n",
              "  <tbody>\n",
              "    <tr>\n",
              "      <th>0</th>\n",
              "      <td>25</td>\n",
              "      <td>Private</td>\n",
              "      <td>226802</td>\n",
              "      <td>11th</td>\n",
              "      <td>7</td>\n",
              "      <td>Never-married</td>\n",
              "      <td>Machine-op-inspct</td>\n",
              "      <td>Own-child</td>\n",
              "      <td>Black</td>\n",
              "      <td>Male</td>\n",
              "      <td>0</td>\n",
              "      <td>0</td>\n",
              "      <td>40</td>\n",
              "      <td>United-States</td>\n",
              "      <td>&lt;=50K</td>\n",
              "    </tr>\n",
              "    <tr>\n",
              "      <th>1</th>\n",
              "      <td>38</td>\n",
              "      <td>Private</td>\n",
              "      <td>89814</td>\n",
              "      <td>HS-grad</td>\n",
              "      <td>9</td>\n",
              "      <td>Married-civ-spouse</td>\n",
              "      <td>Farming-fishing</td>\n",
              "      <td>Husband</td>\n",
              "      <td>White</td>\n",
              "      <td>Male</td>\n",
              "      <td>0</td>\n",
              "      <td>0</td>\n",
              "      <td>50</td>\n",
              "      <td>United-States</td>\n",
              "      <td>&lt;=50K</td>\n",
              "    </tr>\n",
              "    <tr>\n",
              "      <th>2</th>\n",
              "      <td>28</td>\n",
              "      <td>Local-gov</td>\n",
              "      <td>336951</td>\n",
              "      <td>Assoc-acdm</td>\n",
              "      <td>12</td>\n",
              "      <td>Married-civ-spouse</td>\n",
              "      <td>Protective-serv</td>\n",
              "      <td>Husband</td>\n",
              "      <td>White</td>\n",
              "      <td>Male</td>\n",
              "      <td>0</td>\n",
              "      <td>0</td>\n",
              "      <td>40</td>\n",
              "      <td>United-States</td>\n",
              "      <td>&gt;50K</td>\n",
              "    </tr>\n",
              "    <tr>\n",
              "      <th>3</th>\n",
              "      <td>44</td>\n",
              "      <td>Private</td>\n",
              "      <td>160323</td>\n",
              "      <td>Some-college</td>\n",
              "      <td>10</td>\n",
              "      <td>Married-civ-spouse</td>\n",
              "      <td>Machine-op-inspct</td>\n",
              "      <td>Husband</td>\n",
              "      <td>Black</td>\n",
              "      <td>Male</td>\n",
              "      <td>7688</td>\n",
              "      <td>0</td>\n",
              "      <td>40</td>\n",
              "      <td>United-States</td>\n",
              "      <td>&gt;50K</td>\n",
              "    </tr>\n",
              "    <tr>\n",
              "      <th>4</th>\n",
              "      <td>18</td>\n",
              "      <td>?</td>\n",
              "      <td>103497</td>\n",
              "      <td>Some-college</td>\n",
              "      <td>10</td>\n",
              "      <td>Never-married</td>\n",
              "      <td>?</td>\n",
              "      <td>Own-child</td>\n",
              "      <td>White</td>\n",
              "      <td>Female</td>\n",
              "      <td>0</td>\n",
              "      <td>0</td>\n",
              "      <td>30</td>\n",
              "      <td>United-States</td>\n",
              "      <td>&lt;=50K</td>\n",
              "    </tr>\n",
              "    <tr>\n",
              "      <th>5</th>\n",
              "      <td>34</td>\n",
              "      <td>Private</td>\n",
              "      <td>198693</td>\n",
              "      <td>10th</td>\n",
              "      <td>6</td>\n",
              "      <td>Never-married</td>\n",
              "      <td>Other-service</td>\n",
              "      <td>Not-in-family</td>\n",
              "      <td>White</td>\n",
              "      <td>Male</td>\n",
              "      <td>0</td>\n",
              "      <td>0</td>\n",
              "      <td>30</td>\n",
              "      <td>United-States</td>\n",
              "      <td>&lt;=50K</td>\n",
              "    </tr>\n",
              "    <tr>\n",
              "      <th>6</th>\n",
              "      <td>29</td>\n",
              "      <td>?</td>\n",
              "      <td>227026</td>\n",
              "      <td>HS-grad</td>\n",
              "      <td>9</td>\n",
              "      <td>Never-married</td>\n",
              "      <td>?</td>\n",
              "      <td>Unmarried</td>\n",
              "      <td>Black</td>\n",
              "      <td>Male</td>\n",
              "      <td>0</td>\n",
              "      <td>0</td>\n",
              "      <td>40</td>\n",
              "      <td>United-States</td>\n",
              "      <td>&lt;=50K</td>\n",
              "    </tr>\n",
              "    <tr>\n",
              "      <th>7</th>\n",
              "      <td>63</td>\n",
              "      <td>Self-emp-not-inc</td>\n",
              "      <td>104626</td>\n",
              "      <td>Prof-school</td>\n",
              "      <td>15</td>\n",
              "      <td>Married-civ-spouse</td>\n",
              "      <td>Prof-specialty</td>\n",
              "      <td>Husband</td>\n",
              "      <td>White</td>\n",
              "      <td>Male</td>\n",
              "      <td>3103</td>\n",
              "      <td>0</td>\n",
              "      <td>32</td>\n",
              "      <td>United-States</td>\n",
              "      <td>&gt;50K</td>\n",
              "    </tr>\n",
              "    <tr>\n",
              "      <th>8</th>\n",
              "      <td>24</td>\n",
              "      <td>Private</td>\n",
              "      <td>369667</td>\n",
              "      <td>Some-college</td>\n",
              "      <td>10</td>\n",
              "      <td>Never-married</td>\n",
              "      <td>Other-service</td>\n",
              "      <td>Unmarried</td>\n",
              "      <td>White</td>\n",
              "      <td>Female</td>\n",
              "      <td>0</td>\n",
              "      <td>0</td>\n",
              "      <td>40</td>\n",
              "      <td>United-States</td>\n",
              "      <td>&lt;=50K</td>\n",
              "    </tr>\n",
              "    <tr>\n",
              "      <th>9</th>\n",
              "      <td>55</td>\n",
              "      <td>Private</td>\n",
              "      <td>104996</td>\n",
              "      <td>7th-8th</td>\n",
              "      <td>4</td>\n",
              "      <td>Married-civ-spouse</td>\n",
              "      <td>Craft-repair</td>\n",
              "      <td>Husband</td>\n",
              "      <td>White</td>\n",
              "      <td>Male</td>\n",
              "      <td>0</td>\n",
              "      <td>0</td>\n",
              "      <td>10</td>\n",
              "      <td>United-States</td>\n",
              "      <td>&lt;=50K</td>\n",
              "    </tr>\n",
              "  </tbody>\n",
              "</table>\n",
              "</div>"
            ],
            "text/plain": [
              "   age         workclass  fnlwgt  ... hours-per-week  native-country income\n",
              "0   25           Private  226802  ...             40   United-States  <=50K\n",
              "1   38           Private   89814  ...             50   United-States  <=50K\n",
              "2   28         Local-gov  336951  ...             40   United-States   >50K\n",
              "3   44           Private  160323  ...             40   United-States   >50K\n",
              "4   18                 ?  103497  ...             30   United-States  <=50K\n",
              "5   34           Private  198693  ...             30   United-States  <=50K\n",
              "6   29                 ?  227026  ...             40   United-States  <=50K\n",
              "7   63  Self-emp-not-inc  104626  ...             32   United-States   >50K\n",
              "8   24           Private  369667  ...             40   United-States  <=50K\n",
              "9   55           Private  104996  ...             10   United-States  <=50K\n",
              "\n",
              "[10 rows x 15 columns]"
            ]
          },
          "metadata": {
            "tags": []
          },
          "execution_count": 13
        }
      ]
    },
    {
      "cell_type": "markdown",
      "metadata": {
        "id": "19dTqmvELRdg"
      },
      "source": [
        "here we have null valuesin the form of '?'. so we are going to replacce the '?' by nan "
      ]
    },
    {
      "cell_type": "code",
      "metadata": {
        "id": "t0oMwIuP2fOP"
      },
      "source": [
        "data.replace('?',np.nan,inplace=True)"
      ],
      "execution_count": 14,
      "outputs": []
    },
    {
      "cell_type": "code",
      "metadata": {
        "colab": {
          "base_uri": "https://localhost:8080/",
          "height": 675
        },
        "id": "Isl5Atd-3bdy",
        "outputId": "f0c6e69e-8d20-4b61-c7b0-e814dceed439"
      },
      "source": [
        "data.head(10)"
      ],
      "execution_count": 15,
      "outputs": [
        {
          "output_type": "execute_result",
          "data": {
            "text/html": [
              "<div>\n",
              "<style scoped>\n",
              "    .dataframe tbody tr th:only-of-type {\n",
              "        vertical-align: middle;\n",
              "    }\n",
              "\n",
              "    .dataframe tbody tr th {\n",
              "        vertical-align: top;\n",
              "    }\n",
              "\n",
              "    .dataframe thead th {\n",
              "        text-align: right;\n",
              "    }\n",
              "</style>\n",
              "<table border=\"1\" class=\"dataframe\">\n",
              "  <thead>\n",
              "    <tr style=\"text-align: right;\">\n",
              "      <th></th>\n",
              "      <th>age</th>\n",
              "      <th>workclass</th>\n",
              "      <th>fnlwgt</th>\n",
              "      <th>education</th>\n",
              "      <th>educational-num</th>\n",
              "      <th>marital-status</th>\n",
              "      <th>occupation</th>\n",
              "      <th>relationship</th>\n",
              "      <th>race</th>\n",
              "      <th>gender</th>\n",
              "      <th>capital-gain</th>\n",
              "      <th>capital-loss</th>\n",
              "      <th>hours-per-week</th>\n",
              "      <th>native-country</th>\n",
              "      <th>income</th>\n",
              "    </tr>\n",
              "  </thead>\n",
              "  <tbody>\n",
              "    <tr>\n",
              "      <th>0</th>\n",
              "      <td>25</td>\n",
              "      <td>Private</td>\n",
              "      <td>226802</td>\n",
              "      <td>11th</td>\n",
              "      <td>7</td>\n",
              "      <td>Never-married</td>\n",
              "      <td>Machine-op-inspct</td>\n",
              "      <td>Own-child</td>\n",
              "      <td>Black</td>\n",
              "      <td>Male</td>\n",
              "      <td>0</td>\n",
              "      <td>0</td>\n",
              "      <td>40</td>\n",
              "      <td>United-States</td>\n",
              "      <td>&lt;=50K</td>\n",
              "    </tr>\n",
              "    <tr>\n",
              "      <th>1</th>\n",
              "      <td>38</td>\n",
              "      <td>Private</td>\n",
              "      <td>89814</td>\n",
              "      <td>HS-grad</td>\n",
              "      <td>9</td>\n",
              "      <td>Married-civ-spouse</td>\n",
              "      <td>Farming-fishing</td>\n",
              "      <td>Husband</td>\n",
              "      <td>White</td>\n",
              "      <td>Male</td>\n",
              "      <td>0</td>\n",
              "      <td>0</td>\n",
              "      <td>50</td>\n",
              "      <td>United-States</td>\n",
              "      <td>&lt;=50K</td>\n",
              "    </tr>\n",
              "    <tr>\n",
              "      <th>2</th>\n",
              "      <td>28</td>\n",
              "      <td>Local-gov</td>\n",
              "      <td>336951</td>\n",
              "      <td>Assoc-acdm</td>\n",
              "      <td>12</td>\n",
              "      <td>Married-civ-spouse</td>\n",
              "      <td>Protective-serv</td>\n",
              "      <td>Husband</td>\n",
              "      <td>White</td>\n",
              "      <td>Male</td>\n",
              "      <td>0</td>\n",
              "      <td>0</td>\n",
              "      <td>40</td>\n",
              "      <td>United-States</td>\n",
              "      <td>&gt;50K</td>\n",
              "    </tr>\n",
              "    <tr>\n",
              "      <th>3</th>\n",
              "      <td>44</td>\n",
              "      <td>Private</td>\n",
              "      <td>160323</td>\n",
              "      <td>Some-college</td>\n",
              "      <td>10</td>\n",
              "      <td>Married-civ-spouse</td>\n",
              "      <td>Machine-op-inspct</td>\n",
              "      <td>Husband</td>\n",
              "      <td>Black</td>\n",
              "      <td>Male</td>\n",
              "      <td>7688</td>\n",
              "      <td>0</td>\n",
              "      <td>40</td>\n",
              "      <td>United-States</td>\n",
              "      <td>&gt;50K</td>\n",
              "    </tr>\n",
              "    <tr>\n",
              "      <th>4</th>\n",
              "      <td>18</td>\n",
              "      <td>NaN</td>\n",
              "      <td>103497</td>\n",
              "      <td>Some-college</td>\n",
              "      <td>10</td>\n",
              "      <td>Never-married</td>\n",
              "      <td>NaN</td>\n",
              "      <td>Own-child</td>\n",
              "      <td>White</td>\n",
              "      <td>Female</td>\n",
              "      <td>0</td>\n",
              "      <td>0</td>\n",
              "      <td>30</td>\n",
              "      <td>United-States</td>\n",
              "      <td>&lt;=50K</td>\n",
              "    </tr>\n",
              "    <tr>\n",
              "      <th>5</th>\n",
              "      <td>34</td>\n",
              "      <td>Private</td>\n",
              "      <td>198693</td>\n",
              "      <td>10th</td>\n",
              "      <td>6</td>\n",
              "      <td>Never-married</td>\n",
              "      <td>Other-service</td>\n",
              "      <td>Not-in-family</td>\n",
              "      <td>White</td>\n",
              "      <td>Male</td>\n",
              "      <td>0</td>\n",
              "      <td>0</td>\n",
              "      <td>30</td>\n",
              "      <td>United-States</td>\n",
              "      <td>&lt;=50K</td>\n",
              "    </tr>\n",
              "    <tr>\n",
              "      <th>6</th>\n",
              "      <td>29</td>\n",
              "      <td>NaN</td>\n",
              "      <td>227026</td>\n",
              "      <td>HS-grad</td>\n",
              "      <td>9</td>\n",
              "      <td>Never-married</td>\n",
              "      <td>NaN</td>\n",
              "      <td>Unmarried</td>\n",
              "      <td>Black</td>\n",
              "      <td>Male</td>\n",
              "      <td>0</td>\n",
              "      <td>0</td>\n",
              "      <td>40</td>\n",
              "      <td>United-States</td>\n",
              "      <td>&lt;=50K</td>\n",
              "    </tr>\n",
              "    <tr>\n",
              "      <th>7</th>\n",
              "      <td>63</td>\n",
              "      <td>Self-emp-not-inc</td>\n",
              "      <td>104626</td>\n",
              "      <td>Prof-school</td>\n",
              "      <td>15</td>\n",
              "      <td>Married-civ-spouse</td>\n",
              "      <td>Prof-specialty</td>\n",
              "      <td>Husband</td>\n",
              "      <td>White</td>\n",
              "      <td>Male</td>\n",
              "      <td>3103</td>\n",
              "      <td>0</td>\n",
              "      <td>32</td>\n",
              "      <td>United-States</td>\n",
              "      <td>&gt;50K</td>\n",
              "    </tr>\n",
              "    <tr>\n",
              "      <th>8</th>\n",
              "      <td>24</td>\n",
              "      <td>Private</td>\n",
              "      <td>369667</td>\n",
              "      <td>Some-college</td>\n",
              "      <td>10</td>\n",
              "      <td>Never-married</td>\n",
              "      <td>Other-service</td>\n",
              "      <td>Unmarried</td>\n",
              "      <td>White</td>\n",
              "      <td>Female</td>\n",
              "      <td>0</td>\n",
              "      <td>0</td>\n",
              "      <td>40</td>\n",
              "      <td>United-States</td>\n",
              "      <td>&lt;=50K</td>\n",
              "    </tr>\n",
              "    <tr>\n",
              "      <th>9</th>\n",
              "      <td>55</td>\n",
              "      <td>Private</td>\n",
              "      <td>104996</td>\n",
              "      <td>7th-8th</td>\n",
              "      <td>4</td>\n",
              "      <td>Married-civ-spouse</td>\n",
              "      <td>Craft-repair</td>\n",
              "      <td>Husband</td>\n",
              "      <td>White</td>\n",
              "      <td>Male</td>\n",
              "      <td>0</td>\n",
              "      <td>0</td>\n",
              "      <td>10</td>\n",
              "      <td>United-States</td>\n",
              "      <td>&lt;=50K</td>\n",
              "    </tr>\n",
              "  </tbody>\n",
              "</table>\n",
              "</div>"
            ],
            "text/plain": [
              "   age         workclass  fnlwgt  ... hours-per-week  native-country income\n",
              "0   25           Private  226802  ...             40   United-States  <=50K\n",
              "1   38           Private   89814  ...             50   United-States  <=50K\n",
              "2   28         Local-gov  336951  ...             40   United-States   >50K\n",
              "3   44           Private  160323  ...             40   United-States   >50K\n",
              "4   18               NaN  103497  ...             30   United-States  <=50K\n",
              "5   34           Private  198693  ...             30   United-States  <=50K\n",
              "6   29               NaN  227026  ...             40   United-States  <=50K\n",
              "7   63  Self-emp-not-inc  104626  ...             32   United-States   >50K\n",
              "8   24           Private  369667  ...             40   United-States  <=50K\n",
              "9   55           Private  104996  ...             10   United-States  <=50K\n",
              "\n",
              "[10 rows x 15 columns]"
            ]
          },
          "metadata": {
            "tags": []
          },
          "execution_count": 15
        }
      ]
    },
    {
      "cell_type": "code",
      "metadata": {
        "colab": {
          "base_uri": "https://localhost:8080/"
        },
        "id": "QPAL7EDH2pEb",
        "outputId": "32ba23e5-3d52-4c78-ae4a-3ea7726d31fc"
      },
      "source": [
        "data.isnull().sum()"
      ],
      "execution_count": 16,
      "outputs": [
        {
          "output_type": "execute_result",
          "data": {
            "text/plain": [
              "age                   0\n",
              "workclass          2799\n",
              "fnlwgt                0\n",
              "education             0\n",
              "educational-num       0\n",
              "marital-status        0\n",
              "occupation         2809\n",
              "relationship          0\n",
              "race                  0\n",
              "gender                0\n",
              "capital-gain          0\n",
              "capital-loss          0\n",
              "hours-per-week        0\n",
              "native-country      857\n",
              "income                0\n",
              "dtype: int64"
            ]
          },
          "metadata": {
            "tags": []
          },
          "execution_count": 16
        }
      ]
    },
    {
      "cell_type": "code",
      "metadata": {
        "colab": {
          "base_uri": "https://localhost:8080/"
        },
        "id": "4waXHB4r5UUF",
        "outputId": "935c6fd9-e384-4f2c-d912-c0b55a2d982c"
      },
      "source": [
        "data.shape"
      ],
      "execution_count": 17,
      "outputs": [
        {
          "output_type": "execute_result",
          "data": {
            "text/plain": [
              "(48842, 15)"
            ]
          },
          "metadata": {
            "tags": []
          },
          "execution_count": 17
        }
      ]
    },
    {
      "cell_type": "markdown",
      "metadata": {
        "id": "6pdzW1MpLqN7"
      },
      "source": [
        "we can see that we have null values in workclass, occupation,native-country columns"
      ]
    },
    {
      "cell_type": "code",
      "metadata": {
        "id": "_sxM63Eq2uxd"
      },
      "source": [
        "#dropping the NaN rows now \n",
        "data.dropna(how='any',inplace=True)"
      ],
      "execution_count": 18,
      "outputs": []
    },
    {
      "cell_type": "markdown",
      "metadata": {
        "id": "rUii1wn3L3wL"
      },
      "source": [
        "we were droped the row which has null values"
      ]
    },
    {
      "cell_type": "code",
      "metadata": {
        "colab": {
          "base_uri": "https://localhost:8080/"
        },
        "id": "RKUtwmTO3Cp6",
        "outputId": "40fcb2b5-ca85-4203-edc3-489e47df2f21"
      },
      "source": [
        "data.shape"
      ],
      "execution_count": 19,
      "outputs": [
        {
          "output_type": "execute_result",
          "data": {
            "text/plain": [
              "(45222, 15)"
            ]
          },
          "metadata": {
            "tags": []
          },
          "execution_count": 19
        }
      ]
    },
    {
      "cell_type": "code",
      "metadata": {
        "id": "SEPEOIvb5gV9"
      },
      "source": [
        "#mapping the data into numerical data using map function\n",
        "data['income'] = data['income'].map({'<=50K': 0, '>50K': 1}).astype(int)"
      ],
      "execution_count": 20,
      "outputs": []
    },
    {
      "cell_type": "code",
      "metadata": {
        "id": "FYGjSw0k-Zc_"
      },
      "source": [
        "data.drop(['education'], axis = 1, inplace = True)"
      ],
      "execution_count": 22,
      "outputs": []
    },
    {
      "cell_type": "markdown",
      "metadata": {
        "id": "zWCYlsFaMHGB"
      },
      "source": [
        "educatioal-num column is encrypted column of education categorical column. so, we've removed the column."
      ]
    },
    {
      "cell_type": "code",
      "metadata": {
        "colab": {
          "base_uri": "https://localhost:8080/",
          "height": 406
        },
        "id": "indeCpzI-cXC",
        "outputId": "aac10f30-0dcc-42fe-dc0c-805b21817229"
      },
      "source": [
        "plt.figure(figsize = (10,6))\n",
        "plt.title(\"Income of people according to their workclass\", fontsize = 16)\n",
        "sns.countplot(y = data['workclass'], hue = data['income'])\n",
        "plt.show()"
      ],
      "execution_count": 23,
      "outputs": [
        {
          "output_type": "display_data",
          "data": {
            "image/png": "[encoded data removed]",
            "text/plain": [
              "<Figure size 720x432 with 1 Axes>"
            ]
          },
          "metadata": {
            "tags": [],
            "needs_background": "light"
          }
        }
      ]
    },
    {
      "cell_type": "markdown",
      "metadata": {
        "id": "XKyHJ2DLMcjM"
      },
      "source": [
        "from this plot we can say that most of the people are working in private."
      ]
    },
    {
      "cell_type": "markdown",
      "metadata": {
        "id": "d4SL730oMrm9"
      },
      "source": [
        "Next we are going to encrypt the categorical column"
      ]
    },
    {
      "cell_type": "code",
      "metadata": {
        "colab": {
          "base_uri": "https://localhost:8080/"
        },
        "id": "au4JIgtnDfAX",
        "outputId": "f0b00176-df39-4cda-df65-47e575af68b8"
      },
      "source": [
        "occupation_enc = (data.groupby('occupation').size()) / len(data)\n",
        "print(occupation_enc)\n",
        "\n",
        "data['occupation_enc'] = data['occupation'].apply(lambda x : occupation_enc[x])\n",
        "data['occupation_enc'].head(3)"
      ],
      "execution_count": 42,
      "outputs": [
        {
          "output_type": "stream",
          "text": [
            "occupation\n",
            "Adm-clerical         0.122507\n",
            "Armed-Forces         0.000310\n",
            "Craft-repair         0.133121\n",
            "Exec-managerial      0.132325\n",
            "Farming-fishing      0.032727\n",
            "Handlers-cleaners    0.045243\n",
            "Machine-op-inspct    0.065676\n",
            "Other-service        0.106320\n",
            "Priv-house-serv      0.005130\n",
            "Prof-specialty       0.132856\n",
            "Protective-serv      0.021582\n",
            "Sales                0.119588\n",
            "Tech-support         0.031401\n",
            "Transport-moving     0.051214\n",
            "dtype: float64\n"
          ],
          "name": "stdout"
        },
        {
          "output_type": "execute_result",
          "data": {
            "text/plain": [
              "0    0.065676\n",
              "1    0.032727\n",
              "2    0.021582\n",
              "Name: occupation_enc, dtype: float64"
            ]
          },
          "metadata": {
            "tags": []
          },
          "execution_count": 42
        }
      ]
    },
    {
      "cell_type": "code",
      "metadata": {
        "colab": {
          "base_uri": "https://localhost:8080/"
        },
        "id": "bFBzdGYfEbad",
        "outputId": "a29f7df0-dfa1-4be3-af1a-ec77983eb5b3"
      },
      "source": [
        "workclass_enc = (data.groupby('workclass').size()) / len(data)\n",
        "print(workclass_enc)\n",
        "\n",
        "data['workclass_enc'] = data['workclass'].apply(lambda x : workclass_enc[x])\n",
        "data['workclass_enc'].head(3)"
      ],
      "execution_count": 43,
      "outputs": [
        {
          "output_type": "stream",
          "text": [
            "workclass\n",
            "Federal-gov         0.031091\n",
            "Local-gov           0.068551\n",
            "Private             0.736522\n",
            "Self-emp-inc        0.036398\n",
            "Self-emp-not-inc    0.083941\n",
            "State-gov           0.043032\n",
            "Without-pay         0.000464\n",
            "dtype: float64\n"
          ],
          "name": "stdout"
        },
        {
          "output_type": "execute_result",
          "data": {
            "text/plain": [
              "0    0.736522\n",
              "1    0.736522\n",
              "2    0.068551\n",
              "Name: workclass_enc, dtype: float64"
            ]
          },
          "metadata": {
            "tags": []
          },
          "execution_count": 43
        }
      ]
    },
    {
      "cell_type": "code",
      "metadata": {
        "colab": {
          "base_uri": "https://localhost:8080/"
        },
        "id": "TBLmsL-Z-toR",
        "outputId": "8acdc01e-8db1-4eaa-ff47-a2fd70fb7147"
      },
      "source": [
        "data['native-country'].loc[data['native-country'] == 'United-States'] = 'usa'\n",
        "data['native-country'].loc[data['native-country'] != 'usa'] = 'non_usa'\n",
        "data['native-country'].value_counts()"
      ],
      "execution_count": 24,
      "outputs": [
        {
          "output_type": "execute_result",
          "data": {
            "text/plain": [
              "usa        41292\n",
              "non_usa     3930\n",
              "Name: native-country, dtype: int64"
            ]
          },
          "metadata": {
            "tags": []
          },
          "execution_count": 24
        }
      ]
    },
    {
      "cell_type": "code",
      "metadata": {
        "id": "9xw-JFLE_jyp"
      },
      "source": [
        "data['country_enc'] = data['native-country'].map({'usa' : 1, 'non_usa' : 0})\n",
        "data.drop(['native-country'], axis = 1, inplace = True)"
      ],
      "execution_count": 26,
      "outputs": []
    },
    {
      "cell_type": "code",
      "metadata": {
        "id": "plm2z71oACNz"
      },
      "source": [
        "data['sex_enc'] = data['gender'].map({'Male' : 1, 'Female' : 0})\n",
        "data.drop(['gender'], axis = 1, inplace = True)"
      ],
      "execution_count": 28,
      "outputs": []
    },
    {
      "cell_type": "code",
      "metadata": {
        "colab": {
          "base_uri": "https://localhost:8080/"
        },
        "id": "CZvBohLkAcZk",
        "outputId": "62e3b1e9-3707-464a-9db9-7d78994e1962"
      },
      "source": [
        "marital_status_enc = (data.groupby('marital-status').size()) / len(data)\n",
        "print(marital_status_enc)"
      ],
      "execution_count": 30,
      "outputs": [
        {
          "output_type": "stream",
          "text": [
            "marital-status\n",
            "Divorced                 0.139246\n",
            "Married-AF-spouse        0.000708\n",
            "Married-civ-spouse       0.465592\n",
            "Married-spouse-absent    0.012206\n",
            "Never-married            0.322807\n",
            "Separated                0.031202\n",
            "Widowed                  0.028238\n",
            "dtype: float64\n"
          ],
          "name": "stdout"
        }
      ]
    },
    {
      "cell_type": "code",
      "metadata": {
        "colab": {
          "base_uri": "https://localhost:8080/"
        },
        "id": "WoTn-hdYBUxe",
        "outputId": "ca0cf345-c9c5-4692-c556-62d9119edf51"
      },
      "source": [
        "data['marital_status_enc'] = data['marital-status'].apply(lambda x : marital_status_enc[x])\n",
        "data['marital_status_enc'].head(3)"
      ],
      "execution_count": 31,
      "outputs": [
        {
          "output_type": "execute_result",
          "data": {
            "text/plain": [
              "0    0.322807\n",
              "1    0.465592\n",
              "2    0.465592\n",
              "Name: marital_status_enc, dtype: float64"
            ]
          },
          "metadata": {
            "tags": []
          },
          "execution_count": 31
        }
      ]
    },
    {
      "cell_type": "code",
      "metadata": {
        "id": "vKUSANhjCrn-"
      },
      "source": [
        "data.drop(['marital-status'], axis = 1, inplace = True)"
      ],
      "execution_count": 37,
      "outputs": []
    },
    {
      "cell_type": "code",
      "metadata": {
        "colab": {
          "base_uri": "https://localhost:8080/"
        },
        "id": "rhCCbyyxBmXl",
        "outputId": "186c9a87-239c-4251-8e35-63ce21a81823"
      },
      "source": [
        "race_enc = (data.groupby('race').size()) / len(data)\n",
        "print(race_enc,'\\n')\n",
        "data['race_enc'] = data['race'].apply(lambda x : race_enc[x])\n",
        "\n",
        "relationship_enc = (data.groupby('relationship').size()) / len(data)\n",
        "print(relationship_enc)\n",
        "data['relationship_enc'] = data['relationship'].apply(lambda x : relationship_enc[x])"
      ],
      "execution_count": 32,
      "outputs": [
        {
          "output_type": "stream",
          "text": [
            "race\n",
            "Amer-Indian-Eskimo    0.009619\n",
            "Asian-Pac-Islander    0.028813\n",
            "Black                 0.093494\n",
            "Other                 0.007806\n",
            "White                 0.860267\n",
            "dtype: float64 \n",
            "\n",
            "relationship\n",
            "Husband           0.412764\n",
            "Not-in-family     0.258768\n",
            "Other-relative    0.029831\n",
            "Own-child         0.146522\n",
            "Unmarried         0.105878\n",
            "Wife              0.046239\n",
            "dtype: float64\n"
          ],
          "name": "stdout"
        }
      ]
    },
    {
      "cell_type": "code",
      "metadata": {
        "id": "Xm5KM2T7CXKb"
      },
      "source": [
        "data.drop(['race', 'relationship'], axis = 1, inplace = True)"
      ],
      "execution_count": null,
      "outputs": []
    },
    {
      "cell_type": "code",
      "metadata": {
        "id": "_P7eMuCeE3kS"
      },
      "source": [
        "data.drop(['workclass','occupation'],axis=1,inplace=True)"
      ],
      "execution_count": 47,
      "outputs": []
    },
    {
      "cell_type": "code",
      "metadata": {
        "colab": {
          "base_uri": "https://localhost:8080/",
          "height": 470
        },
        "id": "DV3oKEmICDis",
        "outputId": "7ae89a09-3208-4365-db70-29c6525673a4"
      },
      "source": [
        "new_ds = data.drop(['income'], axis = 1)\n",
        "new_ds['income'] = data['income']\n",
        "new_ds"
      ],
      "execution_count": 48,
      "outputs": [
        {
          "output_type": "execute_result",
          "data": {
            "text/html": [
              "<div>\n",
              "<style scoped>\n",
              "    .dataframe tbody tr th:only-of-type {\n",
              "        vertical-align: middle;\n",
              "    }\n",
              "\n",
              "    .dataframe tbody tr th {\n",
              "        vertical-align: top;\n",
              "    }\n",
              "\n",
              "    .dataframe thead th {\n",
              "        text-align: right;\n",
              "    }\n",
              "</style>\n",
              "<table border=\"1\" class=\"dataframe\">\n",
              "  <thead>\n",
              "    <tr style=\"text-align: right;\">\n",
              "      <th></th>\n",
              "      <th>age</th>\n",
              "      <th>fnlwgt</th>\n",
              "      <th>educational-num</th>\n",
              "      <th>capital-gain</th>\n",
              "      <th>capital-loss</th>\n",
              "      <th>hours-per-week</th>\n",
              "      <th>country_enc</th>\n",
              "      <th>sex_enc</th>\n",
              "      <th>marital_status_enc</th>\n",
              "      <th>race_enc</th>\n",
              "      <th>relationship_enc</th>\n",
              "      <th>occupation_enc</th>\n",
              "      <th>workclass_enc</th>\n",
              "      <th>income</th>\n",
              "    </tr>\n",
              "  </thead>\n",
              "  <tbody>\n",
              "    <tr>\n",
              "      <th>0</th>\n",
              "      <td>25</td>\n",
              "      <td>226802</td>\n",
              "      <td>7</td>\n",
              "      <td>0</td>\n",
              "      <td>0</td>\n",
              "      <td>40</td>\n",
              "      <td>1</td>\n",
              "      <td>1</td>\n",
              "      <td>0.322807</td>\n",
              "      <td>0.093494</td>\n",
              "      <td>0.146522</td>\n",
              "      <td>0.065676</td>\n",
              "      <td>0.736522</td>\n",
              "      <td>0</td>\n",
              "    </tr>\n",
              "    <tr>\n",
              "      <th>1</th>\n",
              "      <td>38</td>\n",
              "      <td>89814</td>\n",
              "      <td>9</td>\n",
              "      <td>0</td>\n",
              "      <td>0</td>\n",
              "      <td>50</td>\n",
              "      <td>1</td>\n",
              "      <td>1</td>\n",
              "      <td>0.465592</td>\n",
              "      <td>0.860267</td>\n",
              "      <td>0.412764</td>\n",
              "      <td>0.032727</td>\n",
              "      <td>0.736522</td>\n",
              "      <td>0</td>\n",
              "    </tr>\n",
              "    <tr>\n",
              "      <th>2</th>\n",
              "      <td>28</td>\n",
              "      <td>336951</td>\n",
              "      <td>12</td>\n",
              "      <td>0</td>\n",
              "      <td>0</td>\n",
              "      <td>40</td>\n",
              "      <td>1</td>\n",
              "      <td>1</td>\n",
              "      <td>0.465592</td>\n",
              "      <td>0.860267</td>\n",
              "      <td>0.412764</td>\n",
              "      <td>0.021582</td>\n",
              "      <td>0.068551</td>\n",
              "      <td>1</td>\n",
              "    </tr>\n",
              "    <tr>\n",
              "      <th>3</th>\n",
              "      <td>44</td>\n",
              "      <td>160323</td>\n",
              "      <td>10</td>\n",
              "      <td>7688</td>\n",
              "      <td>0</td>\n",
              "      <td>40</td>\n",
              "      <td>1</td>\n",
              "      <td>1</td>\n",
              "      <td>0.465592</td>\n",
              "      <td>0.093494</td>\n",
              "      <td>0.412764</td>\n",
              "      <td>0.065676</td>\n",
              "      <td>0.736522</td>\n",
              "      <td>1</td>\n",
              "    </tr>\n",
              "    <tr>\n",
              "      <th>5</th>\n",
              "      <td>34</td>\n",
              "      <td>198693</td>\n",
              "      <td>6</td>\n",
              "      <td>0</td>\n",
              "      <td>0</td>\n",
              "      <td>30</td>\n",
              "      <td>1</td>\n",
              "      <td>1</td>\n",
              "      <td>0.322807</td>\n",
              "      <td>0.860267</td>\n",
              "      <td>0.258768</td>\n",
              "      <td>0.106320</td>\n",
              "      <td>0.736522</td>\n",
              "      <td>0</td>\n",
              "    </tr>\n",
              "    <tr>\n",
              "      <th>...</th>\n",
              "      <td>...</td>\n",
              "      <td>...</td>\n",
              "      <td>...</td>\n",
              "      <td>...</td>\n",
              "      <td>...</td>\n",
              "      <td>...</td>\n",
              "      <td>...</td>\n",
              "      <td>...</td>\n",
              "      <td>...</td>\n",
              "      <td>...</td>\n",
              "      <td>...</td>\n",
              "      <td>...</td>\n",
              "      <td>...</td>\n",
              "      <td>...</td>\n",
              "    </tr>\n",
              "    <tr>\n",
              "      <th>48837</th>\n",
              "      <td>27</td>\n",
              "      <td>257302</td>\n",
              "      <td>12</td>\n",
              "      <td>0</td>\n",
              "      <td>0</td>\n",
              "      <td>38</td>\n",
              "      <td>1</td>\n",
              "      <td>0</td>\n",
              "      <td>0.465592</td>\n",
              "      <td>0.860267</td>\n",
              "      <td>0.046239</td>\n",
              "      <td>0.031401</td>\n",
              "      <td>0.736522</td>\n",
              "      <td>0</td>\n",
              "    </tr>\n",
              "    <tr>\n",
              "      <th>48838</th>\n",
              "      <td>40</td>\n",
              "      <td>154374</td>\n",
              "      <td>9</td>\n",
              "      <td>0</td>\n",
              "      <td>0</td>\n",
              "      <td>40</td>\n",
              "      <td>1</td>\n",
              "      <td>1</td>\n",
              "      <td>0.465592</td>\n",
              "      <td>0.860267</td>\n",
              "      <td>0.412764</td>\n",
              "      <td>0.065676</td>\n",
              "      <td>0.736522</td>\n",
              "      <td>1</td>\n",
              "    </tr>\n",
              "    <tr>\n",
              "      <th>48839</th>\n",
              "      <td>58</td>\n",
              "      <td>151910</td>\n",
              "      <td>9</td>\n",
              "      <td>0</td>\n",
              "      <td>0</td>\n",
              "      <td>40</td>\n",
              "      <td>1</td>\n",
              "      <td>0</td>\n",
              "      <td>0.028238</td>\n",
              "      <td>0.860267</td>\n",
              "      <td>0.105878</td>\n",
              "      <td>0.122507</td>\n",
              "      <td>0.736522</td>\n",
              "      <td>0</td>\n",
              "    </tr>\n",
              "    <tr>\n",
              "      <th>48840</th>\n",
              "      <td>22</td>\n",
              "      <td>201490</td>\n",
              "      <td>9</td>\n",
              "      <td>0</td>\n",
              "      <td>0</td>\n",
              "      <td>20</td>\n",
              "      <td>1</td>\n",
              "      <td>1</td>\n",
              "      <td>0.322807</td>\n",
              "      <td>0.860267</td>\n",
              "      <td>0.146522</td>\n",
              "      <td>0.122507</td>\n",
              "      <td>0.736522</td>\n",
              "      <td>0</td>\n",
              "    </tr>\n",
              "    <tr>\n",
              "      <th>48841</th>\n",
              "      <td>52</td>\n",
              "      <td>287927</td>\n",
              "      <td>9</td>\n",
              "      <td>15024</td>\n",
              "      <td>0</td>\n",
              "      <td>40</td>\n",
              "      <td>1</td>\n",
              "      <td>0</td>\n",
              "      <td>0.465592</td>\n",
              "      <td>0.860267</td>\n",
              "      <td>0.046239</td>\n",
              "      <td>0.132325</td>\n",
              "      <td>0.036398</td>\n",
              "      <td>1</td>\n",
              "    </tr>\n",
              "  </tbody>\n",
              "</table>\n",
              "<p>45222 rows × 14 columns</p>\n",
              "</div>"
            ],
            "text/plain": [
              "       age  fnlwgt  educational-num  ...  occupation_enc  workclass_enc  income\n",
              "0       25  226802                7  ...        0.065676       0.736522       0\n",
              "1       38   89814                9  ...        0.032727       0.736522       0\n",
              "2       28  336951               12  ...        0.021582       0.068551       1\n",
              "3       44  160323               10  ...        0.065676       0.736522       1\n",
              "5       34  198693                6  ...        0.106320       0.736522       0\n",
              "...    ...     ...              ...  ...             ...            ...     ...\n",
              "48837   27  257302               12  ...        0.031401       0.736522       0\n",
              "48838   40  154374                9  ...        0.065676       0.736522       1\n",
              "48839   58  151910                9  ...        0.122507       0.736522       0\n",
              "48840   22  201490                9  ...        0.122507       0.736522       0\n",
              "48841   52  287927                9  ...        0.132325       0.036398       1\n",
              "\n",
              "[45222 rows x 14 columns]"
            ]
          },
          "metadata": {
            "tags": []
          },
          "execution_count": 48
        }
      ]
    },
    {
      "cell_type": "markdown",
      "metadata": {
        "id": "MlzK7Rk3M4Qt"
      },
      "source": [
        "Next we are going to detect outliers"
      ]
    },
    {
      "cell_type": "code",
      "metadata": {
        "colab": {
          "base_uri": "https://localhost:8080/",
          "height": 583
        },
        "id": "wK3ZnL9PE1da",
        "outputId": "1d67d0bc-00a2-4b5a-95dc-a1f7928bd597"
      },
      "source": [
        "plt.style.use('default')\n",
        "plt.style.use('ggplot')\n",
        "clist = ['fnlwgt','age','capital-gain','capital-loss','hours-per-week']\n",
        "plt.figure(figsize = (12,6))\n",
        "for i in range(0, len(clist)):\n",
        "    plt.subplot(2,3, i+1)\n",
        "    sns.boxplot(data[clist[i]], color = 'skyblue')\n",
        "print(\"BoxPlots of the features:\")\n",
        "plt.show()"
      ],
      "execution_count": 50,
      "outputs": [
        {
          "output_type": "stream",
          "text": [
            "BoxPlots of the features:\n"
          ],
          "name": "stdout"
        },
        {
          "output_type": "display_data",
          "data": {
            "image/png": "[encoded data removed]",
            "text/plain": [
              "<Figure size 1200x600 with 5 Axes>"
            ]
          },
          "metadata": {
            "tags": []
          }
        }
      ]
    },
    {
      "cell_type": "code",
      "metadata": {
        "colab": {
          "base_uri": "https://localhost:8080/",
          "height": 487
        },
        "id": "vpge1aOSCQur",
        "outputId": "1d5cdc49-b4b0-46dc-c504-ed75f9d2ae00"
      },
      "source": [
        "from scipy.stats import zscore\n",
        "zabs = np.abs(zscore(new_ds.loc[:,'fnlwgt':'hours-per-week']))\n",
        "print(np.shape(np.where(zabs >= 3)))\n",
        "new_ds = new_ds[(zabs < 3).all(axis = 1)]\n",
        "new_ds"
      ],
      "execution_count": 51,
      "outputs": [
        {
          "output_type": "stream",
          "text": [
            "(2, 3778)\n"
          ],
          "name": "stdout"
        },
        {
          "output_type": "execute_result",
          "data": {
            "text/html": [
              "<div>\n",
              "<style scoped>\n",
              "    .dataframe tbody tr th:only-of-type {\n",
              "        vertical-align: middle;\n",
              "    }\n",
              "\n",
              "    .dataframe tbody tr th {\n",
              "        vertical-align: top;\n",
              "    }\n",
              "\n",
              "    .dataframe thead th {\n",
              "        text-align: right;\n",
              "    }\n",
              "</style>\n",
              "<table border=\"1\" class=\"dataframe\">\n",
              "  <thead>\n",
              "    <tr style=\"text-align: right;\">\n",
              "      <th></th>\n",
              "      <th>age</th>\n",
              "      <th>fnlwgt</th>\n",
              "      <th>educational-num</th>\n",
              "      <th>capital-gain</th>\n",
              "      <th>capital-loss</th>\n",
              "      <th>hours-per-week</th>\n",
              "      <th>country_enc</th>\n",
              "      <th>sex_enc</th>\n",
              "      <th>marital_status_enc</th>\n",
              "      <th>race_enc</th>\n",
              "      <th>relationship_enc</th>\n",
              "      <th>occupation_enc</th>\n",
              "      <th>workclass_enc</th>\n",
              "      <th>income</th>\n",
              "    </tr>\n",
              "  </thead>\n",
              "  <tbody>\n",
              "    <tr>\n",
              "      <th>0</th>\n",
              "      <td>25</td>\n",
              "      <td>226802</td>\n",
              "      <td>7</td>\n",
              "      <td>0</td>\n",
              "      <td>0</td>\n",
              "      <td>40</td>\n",
              "      <td>1</td>\n",
              "      <td>1</td>\n",
              "      <td>0.322807</td>\n",
              "      <td>0.093494</td>\n",
              "      <td>0.146522</td>\n",
              "      <td>0.065676</td>\n",
              "      <td>0.736522</td>\n",
              "      <td>0</td>\n",
              "    </tr>\n",
              "    <tr>\n",
              "      <th>1</th>\n",
              "      <td>38</td>\n",
              "      <td>89814</td>\n",
              "      <td>9</td>\n",
              "      <td>0</td>\n",
              "      <td>0</td>\n",
              "      <td>50</td>\n",
              "      <td>1</td>\n",
              "      <td>1</td>\n",
              "      <td>0.465592</td>\n",
              "      <td>0.860267</td>\n",
              "      <td>0.412764</td>\n",
              "      <td>0.032727</td>\n",
              "      <td>0.736522</td>\n",
              "      <td>0</td>\n",
              "    </tr>\n",
              "    <tr>\n",
              "      <th>2</th>\n",
              "      <td>28</td>\n",
              "      <td>336951</td>\n",
              "      <td>12</td>\n",
              "      <td>0</td>\n",
              "      <td>0</td>\n",
              "      <td>40</td>\n",
              "      <td>1</td>\n",
              "      <td>1</td>\n",
              "      <td>0.465592</td>\n",
              "      <td>0.860267</td>\n",
              "      <td>0.412764</td>\n",
              "      <td>0.021582</td>\n",
              "      <td>0.068551</td>\n",
              "      <td>1</td>\n",
              "    </tr>\n",
              "    <tr>\n",
              "      <th>3</th>\n",
              "      <td>44</td>\n",
              "      <td>160323</td>\n",
              "      <td>10</td>\n",
              "      <td>7688</td>\n",
              "      <td>0</td>\n",
              "      <td>40</td>\n",
              "      <td>1</td>\n",
              "      <td>1</td>\n",
              "      <td>0.465592</td>\n",
              "      <td>0.093494</td>\n",
              "      <td>0.412764</td>\n",
              "      <td>0.065676</td>\n",
              "      <td>0.736522</td>\n",
              "      <td>1</td>\n",
              "    </tr>\n",
              "    <tr>\n",
              "      <th>5</th>\n",
              "      <td>34</td>\n",
              "      <td>198693</td>\n",
              "      <td>6</td>\n",
              "      <td>0</td>\n",
              "      <td>0</td>\n",
              "      <td>30</td>\n",
              "      <td>1</td>\n",
              "      <td>1</td>\n",
              "      <td>0.322807</td>\n",
              "      <td>0.860267</td>\n",
              "      <td>0.258768</td>\n",
              "      <td>0.106320</td>\n",
              "      <td>0.736522</td>\n",
              "      <td>0</td>\n",
              "    </tr>\n",
              "    <tr>\n",
              "      <th>...</th>\n",
              "      <td>...</td>\n",
              "      <td>...</td>\n",
              "      <td>...</td>\n",
              "      <td>...</td>\n",
              "      <td>...</td>\n",
              "      <td>...</td>\n",
              "      <td>...</td>\n",
              "      <td>...</td>\n",
              "      <td>...</td>\n",
              "      <td>...</td>\n",
              "      <td>...</td>\n",
              "      <td>...</td>\n",
              "      <td>...</td>\n",
              "      <td>...</td>\n",
              "    </tr>\n",
              "    <tr>\n",
              "      <th>48837</th>\n",
              "      <td>27</td>\n",
              "      <td>257302</td>\n",
              "      <td>12</td>\n",
              "      <td>0</td>\n",
              "      <td>0</td>\n",
              "      <td>38</td>\n",
              "      <td>1</td>\n",
              "      <td>0</td>\n",
              "      <td>0.465592</td>\n",
              "      <td>0.860267</td>\n",
              "      <td>0.046239</td>\n",
              "      <td>0.031401</td>\n",
              "      <td>0.736522</td>\n",
              "      <td>0</td>\n",
              "    </tr>\n",
              "    <tr>\n",
              "      <th>48838</th>\n",
              "      <td>40</td>\n",
              "      <td>154374</td>\n",
              "      <td>9</td>\n",
              "      <td>0</td>\n",
              "      <td>0</td>\n",
              "      <td>40</td>\n",
              "      <td>1</td>\n",
              "      <td>1</td>\n",
              "      <td>0.465592</td>\n",
              "      <td>0.860267</td>\n",
              "      <td>0.412764</td>\n",
              "      <td>0.065676</td>\n",
              "      <td>0.736522</td>\n",
              "      <td>1</td>\n",
              "    </tr>\n",
              "    <tr>\n",
              "      <th>48839</th>\n",
              "      <td>58</td>\n",
              "      <td>151910</td>\n",
              "      <td>9</td>\n",
              "      <td>0</td>\n",
              "      <td>0</td>\n",
              "      <td>40</td>\n",
              "      <td>1</td>\n",
              "      <td>0</td>\n",
              "      <td>0.028238</td>\n",
              "      <td>0.860267</td>\n",
              "      <td>0.105878</td>\n",
              "      <td>0.122507</td>\n",
              "      <td>0.736522</td>\n",
              "      <td>0</td>\n",
              "    </tr>\n",
              "    <tr>\n",
              "      <th>48840</th>\n",
              "      <td>22</td>\n",
              "      <td>201490</td>\n",
              "      <td>9</td>\n",
              "      <td>0</td>\n",
              "      <td>0</td>\n",
              "      <td>20</td>\n",
              "      <td>1</td>\n",
              "      <td>1</td>\n",
              "      <td>0.322807</td>\n",
              "      <td>0.860267</td>\n",
              "      <td>0.146522</td>\n",
              "      <td>0.122507</td>\n",
              "      <td>0.736522</td>\n",
              "      <td>0</td>\n",
              "    </tr>\n",
              "    <tr>\n",
              "      <th>48841</th>\n",
              "      <td>52</td>\n",
              "      <td>287927</td>\n",
              "      <td>9</td>\n",
              "      <td>15024</td>\n",
              "      <td>0</td>\n",
              "      <td>40</td>\n",
              "      <td>1</td>\n",
              "      <td>0</td>\n",
              "      <td>0.465592</td>\n",
              "      <td>0.860267</td>\n",
              "      <td>0.046239</td>\n",
              "      <td>0.132325</td>\n",
              "      <td>0.036398</td>\n",
              "      <td>1</td>\n",
              "    </tr>\n",
              "  </tbody>\n",
              "</table>\n",
              "<p>41536 rows × 14 columns</p>\n",
              "</div>"
            ],
            "text/plain": [
              "       age  fnlwgt  educational-num  ...  occupation_enc  workclass_enc  income\n",
              "0       25  226802                7  ...        0.065676       0.736522       0\n",
              "1       38   89814                9  ...        0.032727       0.736522       0\n",
              "2       28  336951               12  ...        0.021582       0.068551       1\n",
              "3       44  160323               10  ...        0.065676       0.736522       1\n",
              "5       34  198693                6  ...        0.106320       0.736522       0\n",
              "...    ...     ...              ...  ...             ...            ...     ...\n",
              "48837   27  257302               12  ...        0.031401       0.736522       0\n",
              "48838   40  154374                9  ...        0.065676       0.736522       1\n",
              "48839   58  151910                9  ...        0.122507       0.736522       0\n",
              "48840   22  201490                9  ...        0.122507       0.736522       0\n",
              "48841   52  287927                9  ...        0.132325       0.036398       1\n",
              "\n",
              "[41536 rows x 14 columns]"
            ]
          },
          "metadata": {
            "tags": []
          },
          "execution_count": 51
        }
      ]
    },
    {
      "cell_type": "markdown",
      "metadata": {
        "id": "R53d3wQTNC50"
      },
      "source": [
        "After deleting the outliers we have 41536 rows"
      ]
    },
    {
      "cell_type": "code",
      "metadata": {
        "colab": {
          "base_uri": "https://localhost:8080/",
          "height": 837
        },
        "id": "e-qOgpfVF_Mj",
        "outputId": "476ee07e-89c2-4032-f265-a6abf6ebfae6"
      },
      "source": [
        "plt.figure(figsize = (14, 8))\n",
        "plt.title(\"Correlation between target and features:\")\n",
        "sns.heatmap(new_ds.corr(), annot = True)\n",
        "plt.show()"
      ],
      "execution_count": 52,
      "outputs": [
        {
          "output_type": "display_data",
          "data": {
            "image/png": "[encoded data removed]",
            "text/plain": [
              "<Figure size 1400x800 with 2 Axes>"
            ]
          },
          "metadata": {
            "tags": []
          }
        }
      ]
    },
    {
      "cell_type": "markdown",
      "metadata": {
        "id": "XX2XUmpiNaCr"
      },
      "source": [
        "Next we are going to standardise the features"
      ]
    },
    {
      "cell_type": "code",
      "metadata": {
        "colab": {
          "base_uri": "https://localhost:8080/",
          "height": 470
        },
        "id": "_cOJYRLmGSTV",
        "outputId": "12bda540-9b98-40ac-bd2b-bcdc1871f2d1"
      },
      "source": [
        "from sklearn.preprocessing import MinMaxScaler\n",
        "scale = MinMaxScaler()\n",
        "new_ds.loc[:,'age':'hours-per-week'] = scale.fit_transform(new_ds.loc[:,'age':'hours-per-week'])\n",
        "new_ds"
      ],
      "execution_count": 54,
      "outputs": [
        {
          "output_type": "execute_result",
          "data": {
            "text/html": [
              "<div>\n",
              "<style scoped>\n",
              "    .dataframe tbody tr th:only-of-type {\n",
              "        vertical-align: middle;\n",
              "    }\n",
              "\n",
              "    .dataframe tbody tr th {\n",
              "        vertical-align: top;\n",
              "    }\n",
              "\n",
              "    .dataframe thead th {\n",
              "        text-align: right;\n",
              "    }\n",
              "</style>\n",
              "<table border=\"1\" class=\"dataframe\">\n",
              "  <thead>\n",
              "    <tr style=\"text-align: right;\">\n",
              "      <th></th>\n",
              "      <th>age</th>\n",
              "      <th>fnlwgt</th>\n",
              "      <th>educational-num</th>\n",
              "      <th>capital-gain</th>\n",
              "      <th>capital-loss</th>\n",
              "      <th>hours-per-week</th>\n",
              "      <th>country_enc</th>\n",
              "      <th>sex_enc</th>\n",
              "      <th>marital_status_enc</th>\n",
              "      <th>race_enc</th>\n",
              "      <th>relationship_enc</th>\n",
              "      <th>occupation_enc</th>\n",
              "      <th>workclass_enc</th>\n",
              "      <th>income</th>\n",
              "    </tr>\n",
              "  </thead>\n",
              "  <tbody>\n",
              "    <tr>\n",
              "      <th>0</th>\n",
              "      <td>0.109589</td>\n",
              "      <td>0.432408</td>\n",
              "      <td>0.307692</td>\n",
              "      <td>0.00000</td>\n",
              "      <td>0.0</td>\n",
              "      <td>0.492958</td>\n",
              "      <td>1</td>\n",
              "      <td>1</td>\n",
              "      <td>0.322807</td>\n",
              "      <td>0.093494</td>\n",
              "      <td>0.146522</td>\n",
              "      <td>0.065676</td>\n",
              "      <td>0.736522</td>\n",
              "      <td>0</td>\n",
              "    </tr>\n",
              "    <tr>\n",
              "      <th>1</th>\n",
              "      <td>0.287671</td>\n",
              "      <td>0.154354</td>\n",
              "      <td>0.461538</td>\n",
              "      <td>0.00000</td>\n",
              "      <td>0.0</td>\n",
              "      <td>0.633803</td>\n",
              "      <td>1</td>\n",
              "      <td>1</td>\n",
              "      <td>0.465592</td>\n",
              "      <td>0.860267</td>\n",
              "      <td>0.412764</td>\n",
              "      <td>0.032727</td>\n",
              "      <td>0.736522</td>\n",
              "      <td>0</td>\n",
              "    </tr>\n",
              "    <tr>\n",
              "      <th>2</th>\n",
              "      <td>0.150685</td>\n",
              "      <td>0.655985</td>\n",
              "      <td>0.692308</td>\n",
              "      <td>0.00000</td>\n",
              "      <td>0.0</td>\n",
              "      <td>0.492958</td>\n",
              "      <td>1</td>\n",
              "      <td>1</td>\n",
              "      <td>0.465592</td>\n",
              "      <td>0.860267</td>\n",
              "      <td>0.412764</td>\n",
              "      <td>0.021582</td>\n",
              "      <td>0.068551</td>\n",
              "      <td>1</td>\n",
              "    </tr>\n",
              "    <tr>\n",
              "      <th>3</th>\n",
              "      <td>0.369863</td>\n",
              "      <td>0.297471</td>\n",
              "      <td>0.538462</td>\n",
              "      <td>0.34882</td>\n",
              "      <td>0.0</td>\n",
              "      <td>0.492958</td>\n",
              "      <td>1</td>\n",
              "      <td>1</td>\n",
              "      <td>0.465592</td>\n",
              "      <td>0.093494</td>\n",
              "      <td>0.412764</td>\n",
              "      <td>0.065676</td>\n",
              "      <td>0.736522</td>\n",
              "      <td>1</td>\n",
              "    </tr>\n",
              "    <tr>\n",
              "      <th>5</th>\n",
              "      <td>0.232877</td>\n",
              "      <td>0.375353</td>\n",
              "      <td>0.230769</td>\n",
              "      <td>0.00000</td>\n",
              "      <td>0.0</td>\n",
              "      <td>0.352113</td>\n",
              "      <td>1</td>\n",
              "      <td>1</td>\n",
              "      <td>0.322807</td>\n",
              "      <td>0.860267</td>\n",
              "      <td>0.258768</td>\n",
              "      <td>0.106320</td>\n",
              "      <td>0.736522</td>\n",
              "      <td>0</td>\n",
              "    </tr>\n",
              "    <tr>\n",
              "      <th>...</th>\n",
              "      <td>...</td>\n",
              "      <td>...</td>\n",
              "      <td>...</td>\n",
              "      <td>...</td>\n",
              "      <td>...</td>\n",
              "      <td>...</td>\n",
              "      <td>...</td>\n",
              "      <td>...</td>\n",
              "      <td>...</td>\n",
              "      <td>...</td>\n",
              "      <td>...</td>\n",
              "      <td>...</td>\n",
              "      <td>...</td>\n",
              "      <td>...</td>\n",
              "    </tr>\n",
              "    <tr>\n",
              "      <th>48837</th>\n",
              "      <td>0.136986</td>\n",
              "      <td>0.494316</td>\n",
              "      <td>0.692308</td>\n",
              "      <td>0.00000</td>\n",
              "      <td>0.0</td>\n",
              "      <td>0.464789</td>\n",
              "      <td>1</td>\n",
              "      <td>0</td>\n",
              "      <td>0.465592</td>\n",
              "      <td>0.860267</td>\n",
              "      <td>0.046239</td>\n",
              "      <td>0.031401</td>\n",
              "      <td>0.736522</td>\n",
              "      <td>0</td>\n",
              "    </tr>\n",
              "    <tr>\n",
              "      <th>48838</th>\n",
              "      <td>0.315068</td>\n",
              "      <td>0.285396</td>\n",
              "      <td>0.461538</td>\n",
              "      <td>0.00000</td>\n",
              "      <td>0.0</td>\n",
              "      <td>0.492958</td>\n",
              "      <td>1</td>\n",
              "      <td>1</td>\n",
              "      <td>0.465592</td>\n",
              "      <td>0.860267</td>\n",
              "      <td>0.412764</td>\n",
              "      <td>0.065676</td>\n",
              "      <td>0.736522</td>\n",
              "      <td>1</td>\n",
              "    </tr>\n",
              "    <tr>\n",
              "      <th>48839</th>\n",
              "      <td>0.561644</td>\n",
              "      <td>0.280394</td>\n",
              "      <td>0.461538</td>\n",
              "      <td>0.00000</td>\n",
              "      <td>0.0</td>\n",
              "      <td>0.492958</td>\n",
              "      <td>1</td>\n",
              "      <td>0</td>\n",
              "      <td>0.028238</td>\n",
              "      <td>0.860267</td>\n",
              "      <td>0.105878</td>\n",
              "      <td>0.122507</td>\n",
              "      <td>0.736522</td>\n",
              "      <td>0</td>\n",
              "    </tr>\n",
              "    <tr>\n",
              "      <th>48840</th>\n",
              "      <td>0.068493</td>\n",
              "      <td>0.381030</td>\n",
              "      <td>0.461538</td>\n",
              "      <td>0.00000</td>\n",
              "      <td>0.0</td>\n",
              "      <td>0.211268</td>\n",
              "      <td>1</td>\n",
              "      <td>1</td>\n",
              "      <td>0.322807</td>\n",
              "      <td>0.860267</td>\n",
              "      <td>0.146522</td>\n",
              "      <td>0.122507</td>\n",
              "      <td>0.736522</td>\n",
              "      <td>0</td>\n",
              "    </tr>\n",
              "    <tr>\n",
              "      <th>48841</th>\n",
              "      <td>0.479452</td>\n",
              "      <td>0.556477</td>\n",
              "      <td>0.461538</td>\n",
              "      <td>0.68167</td>\n",
              "      <td>0.0</td>\n",
              "      <td>0.492958</td>\n",
              "      <td>1</td>\n",
              "      <td>0</td>\n",
              "      <td>0.465592</td>\n",
              "      <td>0.860267</td>\n",
              "      <td>0.046239</td>\n",
              "      <td>0.132325</td>\n",
              "      <td>0.036398</td>\n",
              "      <td>1</td>\n",
              "    </tr>\n",
              "  </tbody>\n",
              "</table>\n",
              "<p>41536 rows × 14 columns</p>\n",
              "</div>"
            ],
            "text/plain": [
              "            age    fnlwgt  ...  workclass_enc  income\n",
              "0      0.109589  0.432408  ...       0.736522       0\n",
              "1      0.287671  0.154354  ...       0.736522       0\n",
              "2      0.150685  0.655985  ...       0.068551       1\n",
              "3      0.369863  0.297471  ...       0.736522       1\n",
              "5      0.232877  0.375353  ...       0.736522       0\n",
              "...         ...       ...  ...            ...     ...\n",
              "48837  0.136986  0.494316  ...       0.736522       0\n",
              "48838  0.315068  0.285396  ...       0.736522       1\n",
              "48839  0.561644  0.280394  ...       0.736522       0\n",
              "48840  0.068493  0.381030  ...       0.736522       0\n",
              "48841  0.479452  0.556477  ...       0.036398       1\n",
              "\n",
              "[41536 rows x 14 columns]"
            ]
          },
          "metadata": {
            "tags": []
          },
          "execution_count": 54
        }
      ]
    },
    {
      "cell_type": "markdown",
      "metadata": {
        "id": "ZNXqE5ZNNoF8"
      },
      "source": [
        "we may have imbalance dataset. So we are going to find by plottong the target feature"
      ]
    },
    {
      "cell_type": "code",
      "metadata": {
        "colab": {
          "base_uri": "https://localhost:8080/",
          "height": 415
        },
        "id": "cQA7CJpr9q0H",
        "outputId": "be890c35-96fa-43c7-843a-b6b0914b4809"
      },
      "source": [
        "plt.figure(figsize = (8, 4))\n",
        "plt.title(\"Values distribution in target class: Income\")\n",
        "sns.countplot(data = new_ds, x = 'income')\n",
        "plt.show()"
      ],
      "execution_count": 55,
      "outputs": [
        {
          "output_type": "display_data",
          "data": {
            "image/png": "[encoded data removed]",
            "text/plain": [
              "<Figure size 800x400 with 1 Axes>"
            ]
          },
          "metadata": {
            "tags": []
          }
        }
      ]
    },
    {
      "cell_type": "markdown",
      "metadata": {
        "id": "2dEsGtx4N3zn"
      },
      "source": [
        "from this plot we can say that we have imbalance dataset.so we are going to balance the dataset by using SMOTETomek"
      ]
    },
    {
      "cell_type": "code",
      "metadata": {
        "id": "ZLcNoU8jG2Zz"
      },
      "source": [
        "from imblearn.combine import SMOTETomek\n",
        "x = new_ds.loc[:,\"age\":\"relationship_enc\"]\n",
        "y = new_ds.loc[:,\"income\"]\n",
        "smk = SMOTETomek()\n",
        "x_new, y_new = smk.fit_resample(x, y)"
      ],
      "execution_count": 56,
      "outputs": []
    },
    {
      "cell_type": "code",
      "metadata": {
        "colab": {
          "base_uri": "https://localhost:8080/",
          "height": 392
        },
        "id": "_zv2BYMmG-fA",
        "outputId": "5ebf73ea-244b-4cb5-9990-4bc892055f16"
      },
      "source": [
        "plt.figure(figsize = (8, 4))\n",
        "plt.title(\"Values in target class after using SMOTETomek\")\n",
        "sns.countplot(x = y_new)\n",
        "plt.show()"
      ],
      "execution_count": 57,
      "outputs": [
        {
          "output_type": "display_data",
          "data": {
            "image/png": "[encoded data removed]",
            "text/plain": [
              "<Figure size 800x400 with 1 Axes>"
            ]
          },
          "metadata": {
            "tags": []
          }
        }
      ]
    },
    {
      "cell_type": "markdown",
      "metadata": {
        "id": "_zika5czORdS"
      },
      "source": [
        "now we have balanced dataset"
      ]
    },
    {
      "cell_type": "code",
      "metadata": {
        "colab": {
          "base_uri": "https://localhost:8080/",
          "height": 257
        },
        "id": "1I45W7YXHFyR",
        "outputId": "158f101f-0afa-428d-ff1e-7ca13b049920"
      },
      "source": [
        "new_ds.head()"
      ],
      "execution_count": 59,
      "outputs": [
        {
          "output_type": "execute_result",
          "data": {
            "text/html": [
              "<div>\n",
              "<style scoped>\n",
              "    .dataframe tbody tr th:only-of-type {\n",
              "        vertical-align: middle;\n",
              "    }\n",
              "\n",
              "    .dataframe tbody tr th {\n",
              "        vertical-align: top;\n",
              "    }\n",
              "\n",
              "    .dataframe thead th {\n",
              "        text-align: right;\n",
              "    }\n",
              "</style>\n",
              "<table border=\"1\" class=\"dataframe\">\n",
              "  <thead>\n",
              "    <tr style=\"text-align: right;\">\n",
              "      <th></th>\n",
              "      <th>age</th>\n",
              "      <th>fnlwgt</th>\n",
              "      <th>educational-num</th>\n",
              "      <th>capital-gain</th>\n",
              "      <th>capital-loss</th>\n",
              "      <th>hours-per-week</th>\n",
              "      <th>country_enc</th>\n",
              "      <th>sex_enc</th>\n",
              "      <th>marital_status_enc</th>\n",
              "      <th>race_enc</th>\n",
              "      <th>relationship_enc</th>\n",
              "      <th>occupation_enc</th>\n",
              "      <th>workclass_enc</th>\n",
              "      <th>income</th>\n",
              "    </tr>\n",
              "  </thead>\n",
              "  <tbody>\n",
              "    <tr>\n",
              "      <th>0</th>\n",
              "      <td>0.109589</td>\n",
              "      <td>0.432408</td>\n",
              "      <td>0.307692</td>\n",
              "      <td>0.00000</td>\n",
              "      <td>0.0</td>\n",
              "      <td>0.492958</td>\n",
              "      <td>1</td>\n",
              "      <td>1</td>\n",
              "      <td>0.322807</td>\n",
              "      <td>0.093494</td>\n",
              "      <td>0.146522</td>\n",
              "      <td>0.065676</td>\n",
              "      <td>0.736522</td>\n",
              "      <td>0</td>\n",
              "    </tr>\n",
              "    <tr>\n",
              "      <th>1</th>\n",
              "      <td>0.287671</td>\n",
              "      <td>0.154354</td>\n",
              "      <td>0.461538</td>\n",
              "      <td>0.00000</td>\n",
              "      <td>0.0</td>\n",
              "      <td>0.633803</td>\n",
              "      <td>1</td>\n",
              "      <td>1</td>\n",
              "      <td>0.465592</td>\n",
              "      <td>0.860267</td>\n",
              "      <td>0.412764</td>\n",
              "      <td>0.032727</td>\n",
              "      <td>0.736522</td>\n",
              "      <td>0</td>\n",
              "    </tr>\n",
              "    <tr>\n",
              "      <th>2</th>\n",
              "      <td>0.150685</td>\n",
              "      <td>0.655985</td>\n",
              "      <td>0.692308</td>\n",
              "      <td>0.00000</td>\n",
              "      <td>0.0</td>\n",
              "      <td>0.492958</td>\n",
              "      <td>1</td>\n",
              "      <td>1</td>\n",
              "      <td>0.465592</td>\n",
              "      <td>0.860267</td>\n",
              "      <td>0.412764</td>\n",
              "      <td>0.021582</td>\n",
              "      <td>0.068551</td>\n",
              "      <td>1</td>\n",
              "    </tr>\n",
              "    <tr>\n",
              "      <th>3</th>\n",
              "      <td>0.369863</td>\n",
              "      <td>0.297471</td>\n",
              "      <td>0.538462</td>\n",
              "      <td>0.34882</td>\n",
              "      <td>0.0</td>\n",
              "      <td>0.492958</td>\n",
              "      <td>1</td>\n",
              "      <td>1</td>\n",
              "      <td>0.465592</td>\n",
              "      <td>0.093494</td>\n",
              "      <td>0.412764</td>\n",
              "      <td>0.065676</td>\n",
              "      <td>0.736522</td>\n",
              "      <td>1</td>\n",
              "    </tr>\n",
              "    <tr>\n",
              "      <th>5</th>\n",
              "      <td>0.232877</td>\n",
              "      <td>0.375353</td>\n",
              "      <td>0.230769</td>\n",
              "      <td>0.00000</td>\n",
              "      <td>0.0</td>\n",
              "      <td>0.352113</td>\n",
              "      <td>1</td>\n",
              "      <td>1</td>\n",
              "      <td>0.322807</td>\n",
              "      <td>0.860267</td>\n",
              "      <td>0.258768</td>\n",
              "      <td>0.106320</td>\n",
              "      <td>0.736522</td>\n",
              "      <td>0</td>\n",
              "    </tr>\n",
              "  </tbody>\n",
              "</table>\n",
              "</div>"
            ],
            "text/plain": [
              "        age    fnlwgt  educational-num  ...  occupation_enc  workclass_enc  income\n",
              "0  0.109589  0.432408         0.307692  ...        0.065676       0.736522       0\n",
              "1  0.287671  0.154354         0.461538  ...        0.032727       0.736522       0\n",
              "2  0.150685  0.655985         0.692308  ...        0.021582       0.068551       1\n",
              "3  0.369863  0.297471         0.538462  ...        0.065676       0.736522       1\n",
              "5  0.232877  0.375353         0.230769  ...        0.106320       0.736522       0\n",
              "\n",
              "[5 rows x 14 columns]"
            ]
          },
          "metadata": {
            "tags": []
          },
          "execution_count": 59
        }
      ]
    },
    {
      "cell_type": "code",
      "metadata": {
        "id": "HR2Jjd30IOe-"
      },
      "source": [
        "X =new_ds.iloc[:, :-1].values\n",
        "y = new_ds.iloc[:, -1].values"
      ],
      "execution_count": 60,
      "outputs": []
    },
    {
      "cell_type": "markdown",
      "metadata": {
        "id": "KoMmfDLlOgpT"
      },
      "source": [
        "Here we have split the dataset as dependent and independent"
      ]
    },
    {
      "cell_type": "code",
      "metadata": {
        "id": "Ud83UaNaIewy"
      },
      "source": [
        "#Splitting the dataset into the Training set and Test set\n",
        "from sklearn.model_selection import train_test_split\n",
        "X_train, X_test, y_train, y_test = train_test_split(X, y, test_size = 0.25, random_state = 0)"
      ],
      "execution_count": 61,
      "outputs": []
    },
    {
      "cell_type": "markdown",
      "metadata": {
        "id": "fDWlZYPlOqmF"
      },
      "source": [
        "we splitted the dataset as training and test. "
      ]
    },
    {
      "cell_type": "code",
      "metadata": {
        "colab": {
          "base_uri": "https://localhost:8080/"
        },
        "id": "Kd9F9cqRIg_0",
        "outputId": "de959ce2-bdd6-4efc-ab39-5c9409108520"
      },
      "source": [
        "from sklearn.linear_model import LogisticRegression\n",
        "classifier = LogisticRegression(random_state = 0)\n",
        "cf=classifier.fit(X_train, y_train)\n",
        "cf.intercept_"
      ],
      "execution_count": 62,
      "outputs": [
        {
          "output_type": "execute_result",
          "data": {
            "text/plain": [
              "array([-10.33536843])"
            ]
          },
          "metadata": {
            "tags": []
          },
          "execution_count": 62
        }
      ]
    },
    {
      "cell_type": "markdown",
      "metadata": {
        "id": "KhG89MnhO_4r"
      },
      "source": [
        "we fit the data using logistic regression"
      ]
    },
    {
      "cell_type": "code",
      "metadata": {
        "colab": {
          "base_uri": "https://localhost:8080/"
        },
        "id": "_nbzp86SIo1-",
        "outputId": "7bf3109a-fa56-4083-847e-90e5e192fa4d"
      },
      "source": [
        "# Predicting the Test set results\n",
        "y_pred = classifier.predict(X_test)\n",
        "print(np.concatenate((y_pred.reshape(len(y_pred),1), y_test.reshape(len(y_test),1)),1))"
      ],
      "execution_count": 63,
      "outputs": [
        {
          "output_type": "stream",
          "text": [
            "[[0 0]\n",
            " [0 1]\n",
            " [0 1]\n",
            " ...\n",
            " [0 0]\n",
            " [0 0]\n",
            " [0 0]]\n"
          ],
          "name": "stdout"
        }
      ]
    },
    {
      "cell_type": "code",
      "metadata": {
        "colab": {
          "base_uri": "https://localhost:8080/"
        },
        "id": "HNYnKMmnJAtO",
        "outputId": "7a4a7341-16f8-4d37-b1d7-395ef9333570"
      },
      "source": [
        "cf.coef_\n"
      ],
      "execution_count": 68,
      "outputs": [
        {
          "output_type": "execute_result",
          "data": {
            "text/plain": [
              "array([[ 3.13965268,  0.4997755 ,  4.16223644,  7.00671325, -0.9837497 ,\n",
              "         2.81831974,  0.14641814,  0.1782796 ,  7.17624392,  0.2870632 ,\n",
              "         0.62408558,  4.02192549,  0.04592926]])"
            ]
          },
          "metadata": {
            "tags": []
          },
          "execution_count": 68
        }
      ]
    },
    {
      "cell_type": "code",
      "metadata": {
        "colab": {
          "base_uri": "https://localhost:8080/"
        },
        "id": "mWT2H9fbJK26",
        "outputId": "97b60b48-7e04-4a4b-f3a2-bd89be5e6d48"
      },
      "source": [
        "cf.predict_proba(X)"
      ],
      "execution_count": 66,
      "outputs": [
        {
          "output_type": "execute_result",
          "data": {
            "text/plain": [
              "array([[0.98283711, 0.01716289],\n",
              "       [0.7878212 , 0.2121788 ],\n",
              "       [0.73167993, 0.26832007],\n",
              "       ...,\n",
              "       [0.98078929, 0.01921071],\n",
              "       [0.98030049, 0.01969951],\n",
              "       [0.02120744, 0.97879256]])"
            ]
          },
          "metadata": {
            "tags": []
          },
          "execution_count": 66
        }
      ]
    },
    {
      "cell_type": "code",
      "metadata": {
        "colab": {
          "base_uri": "https://localhost:8080/"
        },
        "id": "Ub0QqJprJLAp",
        "outputId": "556566cb-b0ed-43eb-ec9c-6a4b3ee10e5d"
      },
      "source": [
        "cf.score(X,y)"
      ],
      "execution_count": 67,
      "outputs": [
        {
          "output_type": "execute_result",
          "data": {
            "text/plain": [
              "0.8366718027734977"
            ]
          },
          "metadata": {
            "tags": []
          },
          "execution_count": 67
        }
      ]
    },
    {
      "cell_type": "code",
      "metadata": {
        "colab": {
          "base_uri": "https://localhost:8080/"
        },
        "id": "mrtXVAzII5OJ",
        "outputId": "66215a2d-6ac6-49da-d658-c7ac2bbfbc77"
      },
      "source": [
        "# Making the Confusion Matrix\n",
        "from sklearn.metrics import confusion_matrix, accuracy_score\n",
        "cm = confusion_matrix(y_test, y_pred)\n",
        "print(cm)\n",
        "accuracy_score(y_test, y_pred)"
      ],
      "execution_count": 64,
      "outputs": [
        {
          "output_type": "stream",
          "text": [
            "[[7514  478]\n",
            " [1193 1199]]\n"
          ],
          "name": "stdout"
        },
        {
          "output_type": "execute_result",
          "data": {
            "text/plain": [
              "0.8390793528505393"
            ]
          },
          "metadata": {
            "tags": []
          },
          "execution_count": 64
        }
      ]
    },
    {
      "cell_type": "markdown",
      "metadata": {
        "id": "G1mtJxwEPLYX"
      },
      "source": [
        "we got 83 percent accuracy."
      ]
    }
  ]
}