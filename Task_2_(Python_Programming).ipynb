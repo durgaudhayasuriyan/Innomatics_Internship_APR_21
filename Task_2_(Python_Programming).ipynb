{
  "nbformat": 4,
  "nbformat_minor": 0,
  "metadata": {
    "colab": {
      "name": "Task-2 (Python Programming).ipynb",
      "provenance": []
    },
    "kernelspec": {
      "name": "python3",
      "display_name": "Python 3"
    },
    "language_info": {
      "name": "python"
    }
  },
  "cells": [
    {
      "cell_type": "code",
      "metadata": {
        "id": "3Hwyn2mOPWgy"
      },
      "source": [
        "#question 1\n",
        "\n",
        "if __name__ == '__main__':\n",
        "    x = int(raw_input())\n",
        "    y = int(raw_input())\n",
        "    z = int(raw_input())\n",
        "    n = int(raw_input())\n",
        "    a=[]\n",
        "i=0\n",
        "while 0<=i and i<=x:\n",
        "  j=0\n",
        "  while 0<=j and j<=y:\n",
        "    k=0\n",
        "    while 0<=k and k<=z:\n",
        "      o=i+j+k\n",
        "      if o!=n:\n",
        "        p=[i,j,k]\n",
        "        a.append(p)\n",
        "      k+=1\n",
        "    j+=1\n",
        "  i+=1\n",
        "print(a)"
      ],
      "execution_count": null,
      "outputs": []
    },
    {
      "cell_type": "code",
      "metadata": {
        "id": "od00IowxttZr"
      },
      "source": [
        "#question 2\n",
        "\n",
        "if __name__ == '__main__':\n",
        "    n = int(raw_input())\n",
        "    arr = map(int, raw_input().split())\n",
        "    big=arr[0]\n",
        "    for i in arr:\n",
        "        if i>big:\n",
        "            big=i\n",
        "    secondbig=arr[0]\n",
        "    for i in range(len(arr)):\n",
        "        if big!=secondbig:\n",
        "            break\n",
        "        else:\n",
        "            secondbig=arr[0+i]\n",
        "    for i in arr:\n",
        "        if i!=big:\n",
        "            if i>secondbig:\n",
        "                secondbig=i\n",
        "    print(secondbig)"
      ],
      "execution_count": null,
      "outputs": []
    },
    {
      "cell_type": "code",
      "metadata": {
        "id": "q5RdZFZIt-A2"
      },
      "source": [
        "#question 3\n",
        "\n",
        "a=[]\n",
        "for _ in range(int(raw_input())):\n",
        "    name = raw_input()\n",
        "    score = float(raw_input())\n",
        "    c=[name,score]\n",
        "    a.append(c)\n",
        "b=[]\n",
        "z=[]\n",
        "for i in range(len(a)):\n",
        "  b.append(a[i][1])\n",
        "b=set(b)\n",
        "b=list(b)\n",
        "b.sort()\n",
        "for i in range(len(a)):\n",
        "  if b[1]==a[i][1]:\n",
        "    z.append(a[i][0])\n",
        "z.sort()\n",
        "for i in z:\n",
        "  print(i)"
      ],
      "execution_count": null,
      "outputs": []
    },
    {
      "cell_type": "code",
      "metadata": {
        "id": "nguo1ShcuP8v"
      },
      "source": [
        "#question 4\n",
        "\n",
        "if __name__ == '__main__':\n",
        "    n = int(raw_input())\n",
        "    student_marks = {}\n",
        "    for _ in range(n):\n",
        "        line = raw_input().split()\n",
        "        name, scores = line[0], line[1:]\n",
        "        scores = map(float, scores)\n",
        "        student_marks[name] = scores\n",
        "    query_name = raw_input()\n",
        "    for i in student_marks:\n",
        "        if i ==query_name:\n",
        "            a=sum(student_marks[i])/3\n",
        "    formatted_float = \"{:.2f}\".format(a)\n",
        "    print(formatted_float)"
      ],
      "execution_count": null,
      "outputs": []
    },
    {
      "cell_type": "code",
      "metadata": {
        "id": "PlwRYPLKudxS"
      },
      "source": [
        "#question 5\n",
        "\n",
        "arr = []\n",
        "for i in range(int(raw_input())):\n",
        "    s = raw_input().split()\n",
        "    for i in range(1,len(s)):\n",
        "        s[i] = int(s[i])\n",
        "        \n",
        "    if s[0] == \"append\":\n",
        "        arr.append(s[1])\n",
        "    elif s[0] == \"extend\":    \n",
        "        arr.extend(s[1:])\n",
        "    elif s[0] == \"insert\":\n",
        "        arr.insert(s[1],s[2])\n",
        "    elif s[0] == \"remove\":\n",
        "        arr.remove(s[1])\n",
        "    elif s[0] == \"pop\":\n",
        "        arr.pop()\n",
        "    elif s[0] == \"index\":\n",
        "        print (arr.index(s[1]))\n",
        "    elif s[0] == \"count\":\n",
        "        print (arr.count(s))\n",
        "    elif s[0] == \"sort\":\n",
        "        arr.sort()\n",
        "    elif s[0] == \"reverse\":\n",
        "        arr.reverse()\n",
        "    elif s[0] == \"print\":\n",
        "        print (arr)"
      ],
      "execution_count": null,
      "outputs": []
    },
    {
      "cell_type": "code",
      "metadata": {
        "id": "H5PhI4W7ujur"
      },
      "source": [
        "#question 6\n",
        "\n",
        "if __name__ == '__main__':\n",
        "    n = int(raw_input())\n",
        "    integer_list = map(int, raw_input().split())\n",
        "    a=tuple(integer_list)\n",
        "    print(hash(a))"
      ],
      "execution_count": null,
      "outputs": []
    },
    {
      "cell_type": "code",
      "metadata": {
        "id": "0GgXva58uxyp"
      },
      "source": [
        "#question 7\n",
        "\n",
        "from __future__ import division\n",
        "\n",
        "def average(array):\n",
        "    b=set(array)\n",
        "    c=list(b)\n",
        "    return (sum(c)/len(c))\n",
        "\n",
        "if __name__ == '__main__':\n",
        "    n = int(raw_input())\n",
        "    arr = map(int, raw_input().split())\n",
        "    result = average(arr)\n",
        "    print result"
      ],
      "execution_count": null,
      "outputs": []
    },
    {
      "cell_type": "code",
      "metadata": {
        "id": "9j7If2hVvElf"
      },
      "source": [
        "#question 8\n",
        "\n",
        "# Enter your code here. Read input from STDIN. Print output to STDOUT\n",
        "count = list(map(int,raw_input().strip().split()))\n",
        "m = count[0]\n",
        "n = count[1]\n",
        "Arr = list(map(int,raw_input().strip().split()))\n",
        "array = set(map(int,raw_input().strip().split()))\n",
        "array2 = set(map(int,raw_input().strip().split()))\n",
        "points = 0\n",
        "for i in Arr:\n",
        "    if i in array : \n",
        "        points = points + 1\n",
        "    elif i in array2 : \n",
        "        points = points - 1\n",
        "print (points)"
      ],
      "execution_count": null,
      "outputs": []
    },
    {
      "cell_type": "code",
      "metadata": {
        "id": "aVfl6DUVvJxM"
      },
      "source": [
        "#question 9\n",
        "\n",
        "# Enter your code here. Read input from STDIN. Print output to STDOUT\n",
        "M = raw_input();m = raw_input().split()\n",
        "N = raw_input();n = raw_input().split()\n",
        "\n",
        "print \"\\n\".join(sorted(list(set(m) ^ set(n)),key=int))"
      ],
      "execution_count": null,
      "outputs": []
    },
    {
      "cell_type": "code",
      "metadata": {
        "id": "V9BxCprAvUt_"
      },
      "source": [
        "#question 10\n",
        "\n",
        "# Enter your code here. Read input from STDIN. Print output to STDOUT\n",
        "N=int(raw_input())\n",
        "s=set()\n",
        "for i in xrange(N):\n",
        "    s.add(raw_input())\n",
        "print len(s)"
      ],
      "execution_count": null,
      "outputs": []
    },
    {
      "cell_type": "code",
      "metadata": {
        "id": "A7dUxYwVv5cn"
      },
      "source": [
        "#question 11\n",
        "\n",
        "# Enter your code here. Read input from STDIN. Print output to STDOUT\n",
        "n = input()\n",
        "s = set(map(int, raw_input().split()))\n",
        "m=int(raw_input())\n",
        "for i in xrange(m):\n",
        "    p=raw_input().split()\n",
        "    if p[0]==\"remove\":\n",
        "        s.remove(int(p[1]))\n",
        "    elif p[0]==\"discard\":\n",
        "        s.discard(int(p[1]))\n",
        "    else:\n",
        "        s.pop()\n",
        "print sum(list(s))"
      ],
      "execution_count": null,
      "outputs": []
    },
    {
      "cell_type": "code",
      "metadata": {
        "id": "p3UwuOIEwJFD"
      },
      "source": [
        "#question 12\n",
        "\n",
        "# Enter your code here. Read input from STDIN. Print output to STDOUT\n",
        "eng_num = int(raw_input())\n",
        "eng_list = raw_input().split()\n",
        "eng_set = set(map(int, eng_list))\n",
        "fren_num = int(raw_input())\n",
        "fren_list = raw_input().split()\n",
        "fren_set = set(map(int, fren_list))\n",
        "\n",
        "print len(eng_set.union(fren_set))"
      ],
      "execution_count": null,
      "outputs": []
    },
    {
      "cell_type": "code",
      "metadata": {
        "id": "5CIPCO3AwUQj"
      },
      "source": [
        "#question 13\n",
        "\n",
        "# Enter your code here. Read input from STDIN. Print output to STDOUT\n",
        "eng_num = int(raw_input())\n",
        "eng_set = raw_input().split()\n",
        "eng_set = set(map(int, eng_set))\n",
        "fren_num = int(raw_input())\n",
        "fren_set = raw_input().split()\n",
        "fren_set = set(map(int, fren_set))\n",
        "\n",
        "print len(eng_set.intersection(fren_set))"
      ],
      "execution_count": null,
      "outputs": []
    },
    {
      "cell_type": "code",
      "metadata": {
        "id": "xfFdQAsPwhB0"
      },
      "source": [
        "#question 14\n",
        "\n",
        "# Enter your code here. Read input from STDIN. Print output to STDOUT\n",
        "eng_num = int(raw_input())\n",
        "eng_set = set(map(int, raw_input().split()))\n",
        "fren_num = int(raw_input())\n",
        "fren_set = set(map(int, raw_input().split()))\n",
        "\n",
        "print len(eng_set.difference(fren_set))"
      ],
      "execution_count": null,
      "outputs": []
    },
    {
      "cell_type": "code",
      "metadata": {
        "id": "oK9SlYnjwswk"
      },
      "source": [
        "#question 15\n",
        "\n",
        "# Enter your code here. Read input from STDIN. Print output to STDOUT\n",
        "a = int(raw_input())\n",
        "b = raw_input().split()\n",
        "b = list(map(int, b))\n",
        "c = int(raw_input())\n",
        "d = raw_input().split()\n",
        "d = list(map(int, d))\n",
        "\n",
        "print len(set(b).symmetric_difference(set(d)))"
      ],
      "execution_count": null,
      "outputs": []
    },
    {
      "cell_type": "code",
      "metadata": {
        "id": "2rD6gkAzxAEo"
      },
      "source": [
        "#question 16\n",
        "\n",
        "# Enter your code here. Read input from STDIN. Print output to STDOUT\n",
        "length=int(raw_input())\n",
        "s=set(map(int, raw_input().split()))\n",
        "N=int(raw_input())\n",
        "\n",
        "for i in range(N):\n",
        "    (p, q)=raw_input().split()\n",
        "    s2=set(map(int, raw_input().split()))\n",
        "    if p=='intersection_update':\n",
        "        s.intersection_update(s2)\n",
        "    elif p=='update':\n",
        "        s.update(s2)\n",
        "    elif p=='symmetric_difference_update':\n",
        "        s.symmetric_difference_update(s2)\n",
        "    elif p=='difference_update':\n",
        "        s.difference_update(s2)\n",
        "print sum(s)"
      ],
      "execution_count": null,
      "outputs": []
    },
    {
      "cell_type": "code",
      "metadata": {
        "id": "NRAdCy7nxFdF"
      },
      "source": [
        "#question 17\n",
        "\n",
        "# Enter your code here. Read input from STDIN. Print output to STDOUT\n",
        "n=int(raw_input())\n",
        "nums=map(int,raw_input().split(\" \"))\n",
        "nums=sorted(nums)\n",
        "for i in xrange(1,len(nums)):\n",
        "    if i!=len(nums)-1:\n",
        "        if nums[i]!=nums[i-1] and nums[i]!=nums[i+1]:\n",
        "            print nums[i]\n",
        "            break\n",
        "    else:\n",
        "        print nums[i]"
      ],
      "execution_count": null,
      "outputs": []
    },
    {
      "cell_type": "code",
      "metadata": {
        "id": "2JluYKuyxQ9w"
      },
      "source": [
        "#question 18\n",
        "\n",
        "# Enter your code here. Read input from STDIN. Print output to STDOUT\n",
        "for i in range(int(raw_input())):\n",
        "    a = int(raw_input()); A = set(raw_input().split())\n",
        "    b = int(raw_input()); B = set(raw_input().split())\n",
        "    print True if B.intersection(A)==A else False"
      ],
      "execution_count": null,
      "outputs": []
    },
    {
      "cell_type": "code",
      "metadata": {
        "id": "RYKDL3soxWTK"
      },
      "source": [
        "#question 19\n",
        "\n",
        "# Enter your code here. Read input from STDIN. Print output to STDOUT\n",
        "S=set([int(x) for x in raw_input().split()])\n",
        "n=int(raw_input());stop=0\n",
        "while n>0 and stop==0:\n",
        "    n-=1\n",
        "    B=set([int(x) for x in raw_input().split()])\n",
        "    if not(S.issuperset(B) and len(S-B)>0): stop=1\n",
        "if stop==1: print \"False\"\n",
        "else: print \"True\""
      ],
      "execution_count": null,
      "outputs": []
    }
  ]
}