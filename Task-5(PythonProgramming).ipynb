{
  "nbformat": 4,
  "nbformat_minor": 0,
  "metadata": {
    "colab": {
      "name": "Task - 5 (Python Programming).ipynb",
      "provenance": []
    },
    "kernelspec": {
      "name": "python3",
      "display_name": "Python 3"
    },
    "language_info": {
      "name": "python"
    }
  },
  "cells": [
    {
      "cell_type": "code",
      "metadata": {
        "colab": {
          "base_uri": "https://localhost:8080/"
        },
        "id": "1aGegFzXgZGC",
        "outputId": "2d653fdf-43a4-447b-b8d9-31950fcf2f32"
      },
      "source": [
        "#question 1\n",
        "count=int(input().strip())\n",
        "for _ in range(count):\n",
        "    ans=False\n",
        "    try:\n",
        "        string=input().strip()\n",
        "        number=float(string)\n",
        "        ans=True\n",
        "        number=int(string)\n",
        "        ans=False\n",
        "    except:\n",
        "        pass\n",
        "    print(ans)"
      ],
      "execution_count": 1,
      "outputs": [
        {
          "output_type": "stream",
          "text": [
            "4\n",
            "4.0O0\n",
            "False\n",
            "-1.00\n",
            "True\n",
            "+4.54\n",
            "True\n",
            "SomeRandomStuff\n",
            "False\n"
          ],
          "name": "stdout"
        }
      ]
    },
    {
      "cell_type": "code",
      "metadata": {
        "colab": {
          "base_uri": "https://localhost:8080/"
        },
        "id": "_T8IP7HlhFW0",
        "outputId": "417c21c2-eb47-4296-9c37-ce2c65d4e899"
      },
      "source": [
        "#question 2\n",
        "import re\n",
        "s = input()\n",
        "args = re.split(\"[.,]\",s)\n",
        "for x in args:\n",
        "    if x:\n",
        "        print(x)"
      ],
      "execution_count": 4,
      "outputs": [
        {
          "output_type": "stream",
          "text": [
            "100,000,000.000\n",
            "100\n",
            "000\n",
            "000\n",
            "000\n"
          ],
          "name": "stdout"
        }
      ]
    },
    {
      "cell_type": "code",
      "metadata": {
        "colab": {
          "base_uri": "https://localhost:8080/"
        },
        "id": "7fa4R0mDiIk8",
        "outputId": "30bd162b-0e09-4892-d147-270f2fbf9b7d"
      },
      "source": [
        "#question 3\n",
        "import re\n",
        "m = re.findall(r\"([A-Za-z0-9])\\1+\",input())\n",
        "if m:\n",
        "    print(m[0])\n",
        "else:\n",
        "    print(-1)"
      ],
      "execution_count": 5,
      "outputs": [
        {
          "output_type": "stream",
          "text": [
            "..12345678910111213141516171820212223\n",
            "1\n"
          ],
          "name": "stdout"
        }
      ]
    },
    {
      "cell_type": "code",
      "metadata": {
        "colab": {
          "base_uri": "https://localhost:8080/"
        },
        "id": "W-vWFVzaiY35",
        "outputId": "9166ce0d-81e8-44a8-a44f-bbfd2e2201df"
      },
      "source": [
        "#question 4\n",
        "a = input()\n",
        "p = 1\n",
        "kz = 'QWRTYPSDFGHJKLZXCVBNMqwrtypsdfghjklzxcvbnm'\n",
        "ie = 'aeiouAEIOU'\n",
        "r = []\n",
        "q = 0\n",
        "ind = []\n",
        "n = 0\n",
        "for i in a:\n",
        "    if i in ie:\n",
        "        if a[p] in ie or a[p - 2] in ie:\n",
        "            r.append(i)\n",
        "            ind.append(p - 1)\n",
        "            p += 1\n",
        "\n",
        "        else:\n",
        "            r = []\n",
        "            p += 1\n",
        "\n",
        "    elif len(r) >= 2:\n",
        "        if a[ind[0] - 1] in kz and a[ind[-1] + 1] in kz:\n",
        "            print(''.join(r))\n",
        "            r = []\n",
        "            q += 1\n",
        "            ind = []\n",
        "            p += 1\n",
        "\n",
        "        else:\n",
        "            p += 1\n",
        "            r = []\n",
        "            ind = []\n",
        "    else:\n",
        "        p += 1\n",
        "        ind = []\n",
        "        r = []\n",
        "if q == 0:\n",
        "    print(-1)"
      ],
      "execution_count": 7,
      "outputs": [
        {
          "output_type": "stream",
          "text": [
            "rabcdeefgyYhFjkIoomnpOeorteeeeet\n",
            "ee\n",
            "Ioo\n",
            "Oeo\n",
            "eeeee\n"
          ],
          "name": "stdout"
        }
      ]
    },
    {
      "cell_type": "code",
      "metadata": {
        "colab": {
          "base_uri": "https://localhost:8080/"
        },
        "id": "I7qX-Lj0jT3L",
        "outputId": "55223ce1-8bbb-4ba0-a200-ef874e9cc4a0"
      },
      "source": [
        "#question 5\n",
        "import re\n",
        "s, k = input(), input()\n",
        "matches = list(re.finditer(r'(?={})'.format(k), s))\n",
        "if matches:\n",
        "    print('\\n'.join(str((match.start(),\n",
        "          match.start() + len(k) - 1)) for match in matches))\n",
        "else:\n",
        "    print('(-1, -1)')"
      ],
      "execution_count": 8,
      "outputs": [
        {
          "output_type": "stream",
          "text": [
            "aaadaa\n",
            "aa\n",
            "(0, 1)\n",
            "(1, 2)\n",
            "(4, 5)\n"
          ],
          "name": "stdout"
        }
      ]
    },
    {
      "cell_type": "code",
      "metadata": {
        "id": "Ji1qbRLPnO3y"
      },
      "source": [
        "#question 6\n",
        "import re\n",
        "\n",
        "n = int(input())\n",
        "\n",
        "for i in range(0,n):\n",
        "   txt = input()\n",
        "   txt = re.sub(r\"\\ \\&\\&\\ \",\" and \",txt)\n",
        "   txt = re.sub(r\"\\ \\|\\|\\ \",\" or \",txt)\n",
        "   txt = re.sub(r\"\\ \\&\\&\\ \",\" and \",txt)\n",
        "   txt = re.sub(r\"\\ \\|\\|\\ \",\" or \",txt)\n",
        "   print(txt)"
      ],
      "execution_count": null,
      "outputs": []
    },
    {
      "cell_type": "code",
      "metadata": {
        "colab": {
          "base_uri": "https://localhost:8080/"
        },
        "id": "xJxwLcDeoADw",
        "outputId": "7d8c8546-8c3e-438f-db09-ed14f5e70540"
      },
      "source": [
        "#question 7\n",
        "import re\n",
        "\n",
        "thousand = 'M{0,3}'\n",
        "hundred = '(C[MD]|D?C{0,3})'\n",
        "ten = '(X[CL]|L?X{0,3})'\n",
        "digit = '(I[VX]|V?I{0,3})'\n",
        "print (bool(re.match(thousand + hundred+ten+digit +'$', input()))) "
      ],
      "execution_count": 18,
      "outputs": [
        {
          "output_type": "stream",
          "text": [
            "CDXXI\n",
            "True\n"
          ],
          "name": "stdout"
        }
      ]
    },
    {
      "cell_type": "code",
      "metadata": {
        "colab": {
          "base_uri": "https://localhost:8080/"
        },
        "id": "pG86LeaQoqD5",
        "outputId": "0f076a5f-4acb-4ed7-8ee8-9c41efb31f39"
      },
      "source": [
        "#question 8\n",
        "test = int(input())\n",
        "for i in range(test):\n",
        "    string  = input()\n",
        "    if(len(string)==10 and string[0] in ['9', '8', '7'] and string.isnumeric()):\n",
        "        print(\"YES\")\n",
        "    else:\n",
        "        print(\"NO\")"
      ],
      "execution_count": 19,
      "outputs": [
        {
          "output_type": "stream",
          "text": [
            "2\n",
            "9587456281\n",
            "YES\n",
            "1252478965\n",
            "NO\n"
          ],
          "name": "stdout"
        }
      ]
    },
    {
      "cell_type": "code",
      "metadata": {
        "colab": {
          "base_uri": "https://localhost:8080/"
        },
        "id": "UUipV3XtpRM0",
        "outputId": "baf05fb1-9af5-4481-cc37-0fc406fc3bc6"
      },
      "source": [
        "#question 9\n",
        "import re\n",
        "n=int(input())\n",
        "\n",
        "regexpatt=r'[\\S]+\\s<[a-z][\\w\\-\\.]*@[a-z]+[\\.][a-z]{1,3}>$'\n",
        "for i in range(0,n):\n",
        "    match=re.search(regexpatt,input())\n",
        "    if match:\n",
        "        print(match.group())"
      ],
      "execution_count": 20,
      "outputs": [
        {
          "output_type": "stream",
          "text": [
            "2\n",
            "DEXTER <dexter@hotmail.com>\n",
            "DEXTER <dexter@hotmail.com>\n",
            "VIRUS <virus!@variable.:p>\n"
          ],
          "name": "stdout"
        }
      ]
    },
    {
      "cell_type": "code",
      "metadata": {
        "id": "0DP3IeVlq8XT"
      },
      "source": [
        "#question 10\n",
        "import re\n",
        "for i in range(0, int(input())):\n",
        "    matches = re.findall(r\"(#(?:[\\da-f]{3}){1,2})(?!\\w)(?=.*;)\", input(), re.IGNORECASE)\n",
        "    for m in matches:\n",
        "        print(m)"
      ],
      "execution_count": null,
      "outputs": []
    },
    {
      "cell_type": "code",
      "metadata": {
        "colab": {
          "base_uri": "https://localhost:8080/"
        },
        "id": "jnDG0651rBEH",
        "outputId": "b19898a1-3876-49a0-9708-a0b9233a5398"
      },
      "source": [
        "#question 11\n",
        "import re\n",
        "\n",
        "tag_filter = re.compile(r\"(?<=<)(?:.*?)(?=>)\")\n",
        "attrib_filter = re.compile(r\"([\\w-]+)(?:=[\\\"'](.*?)[\\\"'])?\")\n",
        "\n",
        "s = \"\"\n",
        "\n",
        "# get input stream\n",
        "for _ in range(int(input())):\n",
        "    s += input()\n",
        "\n",
        "# discard comments\n",
        "s = re.sub(r\"(?:<!--(.|\\s)*?(?:-->))\",\"\",s)\n",
        "\n",
        "# extract individual tag information\n",
        "tags = tag_filter.findall(s)\n",
        "\n",
        "# iterate over the extracted tag information\n",
        "for tag in tags:\n",
        "    # tag handling logic\n",
        "    if tag[0] == \"/\":\n",
        "        print(\"End   :\",tag[1:])\n",
        "    else:\n",
        "        attribs = attrib_filter.findall(tag)\n",
        "        if tag[-1] == \"/\":\n",
        "            print(\"Empty :\",attribs[0][0])\n",
        "        else:\n",
        "            print(\"Start :\",attribs[0][0])\n",
        "            \n",
        "        for i in range(1,len(attribs)):\n",
        "            a = attribs[i][0]\n",
        "            if attribs[i][1] == '': \n",
        "                v = 'None' \n",
        "            else: \n",
        "                v = attribs[i][1]\n",
        "            print(\"-> {} > {}\".format(a,v))"
      ],
      "execution_count": 22,
      "outputs": [
        {
          "output_type": "stream",
          "text": [
            "2\n",
            "<html><head><title>HTML Parser - I</title></head>\n",
            "<body data-modal-target class='1'><h1>HackerRank</h1><br /></body></html>\n",
            "Start : html\n",
            "Start : head\n",
            "Start : title\n",
            "End   : title\n",
            "End   : head\n",
            "Start : body\n",
            "-> data-modal-target > None\n",
            "-> class > 1\n",
            "Start : h1\n",
            "End   : h1\n",
            "Empty : br\n",
            "End   : body\n",
            "End   : html\n"
          ],
          "name": "stdout"
        }
      ]
    },
    {
      "cell_type": "code",
      "metadata": {
        "colab": {
          "base_uri": "https://localhost:8080/"
        },
        "id": "X2jmo2MLrxsr",
        "outputId": "846b0dc1-fd1c-4c13-cf73-345426a4260d"
      },
      "source": [
        "#question 12\n",
        "from html.parser import HTMLParser\n",
        "\n",
        "\n",
        "class MyHTMLParser(HTMLParser):\n",
        "    def handle_comment(self, comment):\n",
        "        if '\\n' in comment:\n",
        "            print('>>> Multi-line Comment')\n",
        "        else:\n",
        "            print('>>> Single-line Comment')\n",
        "\n",
        "        print(comment)\n",
        "\n",
        "    def handle_data(self, data):\n",
        "        if data == '\\n': return\n",
        "        print('>>> Data')\n",
        "        print(data)\n",
        "\n",
        "\n",
        "html = \"\"\n",
        "for i in range(int(input())):\n",
        "    html += input().rstrip()\n",
        "    html += '\\n'\n",
        "\n",
        "parser = MyHTMLParser()\n",
        "parser.feed(html)\n",
        "parser.close()"
      ],
      "execution_count": 23,
      "outputs": [
        {
          "output_type": "stream",
          "text": [
            "4\n",
            "<!--[if IE 9]>IE9-specific content\n",
            "<![endif]-->\n",
            "<div> Welcome to HackerRank</div>\n",
            "<!--[if IE 9]>IE9-specific content<![endif]-->\n",
            ">>> Multi-line Comment\n",
            "[if IE 9]>IE9-specific content\n",
            "<![endif]\n",
            ">>> Data\n",
            " Welcome to HackerRank\n",
            ">>> Single-line Comment\n",
            "[if IE 9]>IE9-specific content<![endif]\n"
          ],
          "name": "stdout"
        }
      ]
    },
    {
      "cell_type": "code",
      "metadata": {
        "id": "LaknGMGxtrHP"
      },
      "source": [
        "# question 13\n",
        "from html.parser import HTMLParser\n",
        "class MyHTMLParser(HTMLParser):\n",
        " def handle_starttag(self, tag, attrs):\n",
        "  print(tag)\n",
        "  for attr in attrs:\n",
        "      print(\"->\", attr[0], \">\", attr[1])\n",
        "N = int(input())\n",
        "raw = \"\"\n",
        "for i in range(N):\n",
        " raw += input()\n",
        "new = MyHTMLParser()\n",
        "new.feed(raw)"
      ],
      "execution_count": null,
      "outputs": []
    },
    {
      "cell_type": "code",
      "metadata": {
        "colab": {
          "base_uri": "https://localhost:8080/"
        },
        "id": "HhiVBDcdtzTE",
        "outputId": "f6ad2f23-2323-4bb3-d804-5367b38edab2"
      },
      "source": [
        "#question 14\n",
        "import re\n",
        "for i in range(int(input())):\n",
        "    N = input().strip()\n",
        "    if N.isalnum() and len(N) == 10:\n",
        "        if bool(re.search(r'(.*[A-Z]){2,}',N)) and bool(re.search(r'(.*[0-9]){3,}',N)):\n",
        "            if re.search(r'.*(.).*\\1+.*',N):\n",
        "                print('Invalid')\n",
        "            else:\n",
        "                print('Valid')   \n",
        "        else:\n",
        "            print('Invalid')\n",
        "    else:\n",
        "        print('Invalid')"
      ],
      "execution_count": 31,
      "outputs": [
        {
          "output_type": "stream",
          "text": [
            "2\n",
            "B1CD102354\n",
            "Invalid\n",
            "B1CDEF2354\n",
            "Valid\n"
          ],
          "name": "stdout"
        }
      ]
    },
    {
      "cell_type": "code",
      "metadata": {
        "colab": {
          "base_uri": "https://localhost:8080/"
        },
        "id": "I_dGosY4uyNy",
        "outputId": "cfb86ed3-8a2e-44b5-f7a3-c672b08ad9f6"
      },
      "source": [
        "#question 15\n",
        "import re\n",
        "\n",
        "if __name__ == \"__main__\":\n",
        "    t = int(input().strip())\n",
        "    \n",
        "    for _ in range(t):\n",
        "        num = \"\".join(input())\n",
        "        if (re.match(r'^[456]', num) and\n",
        "            (re.match(r'([\\d]{4}-){3}[\\d]{4}$', num) or\n",
        "             re.match(r'[\\d]{16}', num)) and\n",
        "            not re.search(r'(\\d)\\1{3,}', num.replace(\"-\", \"\"))):\n",
        "            print(\"Valid\")\n",
        "        else:\n",
        "            print(\"Invalid\")\n"
      ],
      "execution_count": 33,
      "outputs": [
        {
          "output_type": "stream",
          "text": [
            "6\n",
            "4123456789123456\n",
            "Valid\n",
            "5123-4567-8912-3456\n",
            "Valid\n",
            "61234-567-8912-3456\n",
            "Invalid\n",
            "4123356789123456\n",
            "Valid\n",
            "5133-3367-8912-3456\n",
            "Invalid\n",
            "5123 - 3567 - 8912 - 3456\n",
            "Invalid\n"
          ],
          "name": "stdout"
        }
      ]
    },
    {
      "cell_type": "code",
      "metadata": {
        "colab": {
          "base_uri": "https://localhost:8080/"
        },
        "id": "Yq-Y_JuMwG3a",
        "outputId": "5d44ea09-2709-4f27-ed7f-0a824313b517"
      },
      "source": [
        "#question 16\n",
        "import re\n",
        "\n",
        "num = input()\n",
        "print(bool(re.match(r'^[1-9][\\d]{5}$', num) and len(re.findall(r'(\\d)(?=\\d\\1)', num))<2 ))"
      ],
      "execution_count": 34,
      "outputs": [
        {
          "output_type": "stream",
          "text": [
            "110000\n",
            "False\n"
          ],
          "name": "stdout"
        }
      ]
    },
    {
      "cell_type": "code",
      "metadata": {
        "colab": {
          "base_uri": "https://localhost:8080/"
        },
        "id": "0xk4B2iHyEWK",
        "outputId": "68ffaa6c-8b62-4bd0-f898-46821a892f95"
      },
      "source": [
        "#question 17\n",
        "import math\n",
        "import os\n",
        "import random\n",
        "import re\n",
        "import sys\n",
        "\n",
        "first_multiple_input = input().rstrip().split()\n",
        "\n",
        "n = int(first_multiple_input[0])\n",
        "m = int(first_multiple_input[1])\n",
        "\n",
        "matrix = []\n",
        "\n",
        "for _ in range(n):\n",
        "    matrix_item = input()\n",
        "    matrix.append(matrix_item)\n",
        "\n",
        "# start   \n",
        "matrix = list(zip(*matrix))\n",
        "\n",
        "sample = str()\n",
        "\n",
        "for words in matrix:\n",
        "    for char in words:\n",
        "        sample += char\n",
        "       \n",
        "print(re.sub(r'(?<=\\w)([^\\w\\d]+)(?=\\w)', ' ', sample)) "
      ],
      "execution_count": 39,
      "outputs": [
        {
          "output_type": "stream",
          "text": [
            "7 3\n",
            "Tsi\n",
            "h%x\n",
            "i #\n",
            "sM\n",
            "$a\n",
            "#t%\n",
            "ir!\n",
            "This is Matr\n"
          ],
          "name": "stdout"
        }
      ]
    }
  ]
}